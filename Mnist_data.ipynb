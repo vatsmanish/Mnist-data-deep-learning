{
 "cells": [
  {
   "cell_type": "markdown",
   "metadata": {},
   "source": [
    "# Hyperparameter Tuning(Deep Learning)\n",
    "Varishu Pant  \n",
    "D19033"
   ]
  },
  {
   "cell_type": "markdown",
   "metadata": {},
   "source": [
    "#### **Note-To get reproducible results,set seed as 101 and restart the kernel before training each model.**\n",
    "**All observations have been documented in the excel file 'Hyperparameter_Tracking_D19033.xlsx\"**"
   ]
  },
  {
   "cell_type": "markdown",
   "metadata": {},
   "source": [
    "## Importing Required Libraries"
   ]
  },
  {
   "cell_type": "code",
   "execution_count": 1,
   "metadata": {},
   "outputs": [],
   "source": [
    "import torch\n",
    "from torch import nn\n",
    "import torch.nn.functional as F\n",
    "from torchvision import datasets,transforms\n",
    "from collections import OrderedDict\n",
    "from torch import optim\n",
    "import pandas as pd\n",
    "import numpy as np\n",
    "from tqdm import tqdm\n",
    "import random\n",
    "seed=101\n",
    "torch.manual_seed(seed)\n",
    "torch.cuda.manual_seed(seed)\n",
    "torch.cuda.manual_seed_all(seed)  # if you are using multi-GPU.\n",
    "np.random.seed(seed)  # Numpy module.\n",
    "random.seed(seed)  # Python random module.\n",
    "torch.manual_seed(seed)\n",
    "torch.backends.cudnn.benchmark = False\n",
    "torch.backends.cudnn.deterministic = True\n",
    "def _init_fn(worker_id):\n",
    "    np.random.seed(int(seed))\n",
    "def count_parameters(model):\n",
    "    return sum(p.numel() for p in model.parameters() if p.requires_grad)"
   ]
  },
  {
   "cell_type": "markdown",
   "metadata": {},
   "source": [
    "## Default Neural Network for optimizing accuracy"
   ]
  },
  {
   "cell_type": "code",
   "execution_count": 2,
   "metadata": {},
   "outputs": [],
   "source": [
    "class Network(nn.Module):\n",
    "    def __init__(self):\n",
    "        super().__init__()\n",
    "        self.fc1 = nn.Linear(784, 256)\n",
    "        self.fc2 = nn.Linear(256, 128)\n",
    "        self.fc3 = nn.Linear(128, 64)\n",
    "        self.fc4 = nn.Linear(64, 10)\n",
    "\n",
    "        # Dropout module with 0.2 drop probability\n",
    "        self.dropout = nn.Dropout(p=0.2)\n",
    "\n",
    "    def forward(self, x):\n",
    "        # make sure input tensor is flattened\n",
    "        x = x.view(x.shape[0], -1)\n",
    "\n",
    "        # Now with dropout\n",
    "        x = self.dropout(F.relu(self.fc1(x)))\n",
    "        x = self.dropout(F.relu(self.fc2(x)))\n",
    "        x = self.dropout(F.relu(self.fc3(x)))\n",
    "\n",
    "        # output so no dropout here\n",
    "        x = F.log_softmax(self.fc4(x), dim=1)\n",
    "\n",
    "        return x\n",
    "model=Network()       \n",
    "criterion=nn.NLLLoss()"
   ]
  },
  {
   "cell_type": "markdown",
   "metadata": {},
   "source": [
    "## Function to train model\n",
    "Takes in number of epochs and details of optimizer as inputs.Outputs validation accuracies for all epochs."
   ]
  },
  {
   "cell_type": "code",
   "execution_count": 2,
   "metadata": {},
   "outputs": [],
   "source": [
    "def train_nn(epochs,optimizer):\n",
    "    test_accuracy=[]\n",
    "    for e in range(epochs):\n",
    "        running_loss=0\n",
    "        for images,labels in trainloader:\n",
    "            optimizer.zero_grad()\n",
    "            log_ps=model(images)\n",
    "            loss=criterion(log_ps,labels) \n",
    "            loss.backward()\n",
    "            optimizer.step()\n",
    "            running_loss += loss.item() * images.shape[0]\n",
    "\n",
    "        else:\n",
    "            test_loss=0\n",
    "            accuracy=0\n",
    "\n",
    "            with torch.no_grad():\n",
    "                \n",
    "                model.eval()\n",
    "                for images,labels in testloader:\n",
    "                    log_ps=model(images)\n",
    "                    test_loss+=criterion(log_ps,labels) *images.shape[0]\n",
    "                    ps=torch.exp(log_ps)\n",
    "                    top_p,top_class=ps.topk(1,dim=1)\n",
    "                    equals=top_class==labels.view(*top_class.shape)\n",
    "                    accuracy+=torch.sum(equals).item()\n",
    "            model.train()\n",
    "#             train_losses.append(running_loss/len(trainloader.dataset))\n",
    "#             test_losses.append(test_loss.item()/len(testloader.dataset))\n",
    "            test_accuracy.append(accuracy/len(testloader.dataset))\n",
    "#             print(\"Epoch: {}/{}.. \".format(e+1, epochs),\n",
    "#                   \"Training Loss: {:.3f}.. \".format(running_loss/len(trainloader.dataset)),\n",
    "#                   \"Test Loss: {:.3f}.. \".format(test_loss/len(testloader.dataset)),\n",
    "#                   \"Test Accuracy: {:.3f}\".format(accuracy/len(testloader.dataset)))\n",
    "    return(test_accuracy)"
   ]
  },
  {
   "cell_type": "markdown",
   "metadata": {},
   "source": [
    "# Optimizer Tuning using non-normalized data"
   ]
  },
  {
   "cell_type": "markdown",
   "metadata": {},
   "source": [
    "### Trainloader for non-normalized data"
   ]
  },
  {
   "cell_type": "code",
   "execution_count": 3,
   "metadata": {},
   "outputs": [],
   "source": [
    "torch.manual_seed(101)\n",
    "transform=transforms.Compose([transforms.ToTensor()])\n",
    "trainset=datasets.MNIST('~/.pytorch/MNIST_data/',train=True,transform=transform,download=True)\n",
    "testset=datasets.MNIST('~/.pytorch/MNIST_data/',train=False,transform=transform,download=True)\n",
    "\n",
    "trainloader=torch.utils.data.DataLoader(trainset,batch_size=64,shuffle=True,num_workers=0,worker_init_fn=_init_fn)\n",
    "testloader=torch.utils.data.DataLoader(testset,batch_size=64,shuffle=True,num_workers=0,worker_init_fn=_init_fn)"
   ]
  },
  {
   "cell_type": "code",
   "execution_count": 4,
   "metadata": {},
   "outputs": [],
   "source": [
    "epoch_list=['Epoch:'+str(i) for i in range(1,11)]"
   ]
  },
  {
   "cell_type": "markdown",
   "metadata": {},
   "source": [
    "## Fitting models with different values of Hyperparameters"
   ]
  },
  {
   "cell_type": "markdown",
   "metadata": {},
   "source": [
    "### 1.Optimizer - Stochastic Gradient Descent"
   ]
  },
  {
   "cell_type": "markdown",
   "metadata": {},
   "source": [
    "#### 1.Tuning Learning Rate"
   ]
  },
  {
   "cell_type": "markdown",
   "metadata": {},
   "source": [
    "**Gradually increasing learning rate while keeping momentum constant at 0.9 and observing the change in validation accuracy**"
   ]
  },
  {
   "cell_type": "markdown",
   "metadata": {},
   "source": [
    "Fitting model with SGD without Nesterov,learning rate as 0.002 and momentum as 0.9"
   ]
  },
  {
   "cell_type": "code",
   "execution_count": 11,
   "metadata": {},
   "outputs": [
    {
     "name": "stdout",
     "output_type": "stream",
     "text": [
      "Model saved as NN_SGD_10E_lr0.002_mm0.9.pth\n",
      "Number of Parameters: 242762\n"
     ]
    },
    {
     "data": {
      "text/html": [
       "<div>\n",
       "<style scoped>\n",
       "    .dataframe tbody tr th:only-of-type {\n",
       "        vertical-align: middle;\n",
       "    }\n",
       "\n",
       "    .dataframe tbody tr th {\n",
       "        vertical-align: top;\n",
       "    }\n",
       "\n",
       "    .dataframe thead th {\n",
       "        text-align: right;\n",
       "    }\n",
       "</style>\n",
       "<table border=\"1\" class=\"dataframe\">\n",
       "  <thead>\n",
       "    <tr style=\"text-align: right;\">\n",
       "      <th></th>\n",
       "      <th>Epoch:1</th>\n",
       "      <th>Epoch:2</th>\n",
       "      <th>Epoch:3</th>\n",
       "      <th>Epoch:4</th>\n",
       "      <th>Epoch:5</th>\n",
       "      <th>Epoch:6</th>\n",
       "      <th>Epoch:7</th>\n",
       "      <th>Epoch:8</th>\n",
       "      <th>Epoch:9</th>\n",
       "      <th>Epoch:10</th>\n",
       "    </tr>\n",
       "  </thead>\n",
       "  <tbody>\n",
       "    <tr>\n",
       "      <td>0</td>\n",
       "      <td>0.789</td>\n",
       "      <td>0.894</td>\n",
       "      <td>0.9191</td>\n",
       "      <td>0.9315</td>\n",
       "      <td>0.9418</td>\n",
       "      <td>0.9521</td>\n",
       "      <td>0.958</td>\n",
       "      <td>0.9628</td>\n",
       "      <td>0.965</td>\n",
       "      <td>0.967</td>\n",
       "    </tr>\n",
       "  </tbody>\n",
       "</table>\n",
       "</div>"
      ],
      "text/plain": [
       "   Epoch:1  Epoch:2  Epoch:3  Epoch:4  Epoch:5  Epoch:6  Epoch:7  Epoch:8  \\\n",
       "0    0.789    0.894   0.9191   0.9315   0.9418   0.9521    0.958   0.9628   \n",
       "\n",
       "   Epoch:9  Epoch:10  \n",
       "0    0.965     0.967  "
      ]
     },
     "execution_count": 11,
     "metadata": {},
     "output_type": "execute_result"
    }
   ],
   "source": [
    "results=train_nn(epochs=10,optimizer=optim.SGD(model.parameters(),lr=0.002,momentum=0.9))\n",
    "test_acc=[]\n",
    "test_acc.append(results)\n",
    "torch.save(model.state_dict(), 'NN_SGD_10E_lr0.002_mm0.9.pth')\n",
    "print('Model saved as NN_SGD_10E_lr0.002_mm0.9.pth')\n",
    "epoch_list=['Epoch:'+str(i) for i in range(1,11)]\n",
    "print('Number of Parameters:',count_parameters(model))\n",
    "results_1=pd.DataFrame(test_acc,columns=epoch_list)\n",
    "results_1"
   ]
  },
  {
   "cell_type": "markdown",
   "metadata": {},
   "source": [
    "Fitting model with SGD without Nesterov,learning rate as 0.01 and momentum as 0.9"
   ]
  },
  {
   "cell_type": "code",
   "execution_count": 8,
   "metadata": {},
   "outputs": [
    {
     "name": "stdout",
     "output_type": "stream",
     "text": [
      "Model saved as NN_SGD_10E_lr0.01_mm0.9.pth\n",
      "Number of Parameters: 242762\n"
     ]
    },
    {
     "data": {
      "text/html": [
       "<div>\n",
       "<style scoped>\n",
       "    .dataframe tbody tr th:only-of-type {\n",
       "        vertical-align: middle;\n",
       "    }\n",
       "\n",
       "    .dataframe tbody tr th {\n",
       "        vertical-align: top;\n",
       "    }\n",
       "\n",
       "    .dataframe thead th {\n",
       "        text-align: right;\n",
       "    }\n",
       "</style>\n",
       "<table border=\"1\" class=\"dataframe\">\n",
       "  <thead>\n",
       "    <tr style=\"text-align: right;\">\n",
       "      <th></th>\n",
       "      <th>Epoch:1</th>\n",
       "      <th>Epoch:2</th>\n",
       "      <th>Epoch:3</th>\n",
       "      <th>Epoch:4</th>\n",
       "      <th>Epoch:5</th>\n",
       "      <th>Epoch:6</th>\n",
       "      <th>Epoch:7</th>\n",
       "      <th>Epoch:8</th>\n",
       "      <th>Epoch:9</th>\n",
       "      <th>Epoch:10</th>\n",
       "    </tr>\n",
       "  </thead>\n",
       "  <tbody>\n",
       "    <tr>\n",
       "      <td>0</td>\n",
       "      <td>0.9296</td>\n",
       "      <td>0.9552</td>\n",
       "      <td>0.9687</td>\n",
       "      <td>0.9716</td>\n",
       "      <td>0.9714</td>\n",
       "      <td>0.9745</td>\n",
       "      <td>0.9772</td>\n",
       "      <td>0.9772</td>\n",
       "      <td>0.9766</td>\n",
       "      <td>0.9806</td>\n",
       "    </tr>\n",
       "  </tbody>\n",
       "</table>\n",
       "</div>"
      ],
      "text/plain": [
       "   Epoch:1  Epoch:2  Epoch:3  Epoch:4  Epoch:5  Epoch:6  Epoch:7  Epoch:8  \\\n",
       "0   0.9296   0.9552   0.9687   0.9716   0.9714   0.9745   0.9772   0.9772   \n",
       "\n",
       "   Epoch:9  Epoch:10  \n",
       "0   0.9766    0.9806  "
      ]
     },
     "execution_count": 8,
     "metadata": {},
     "output_type": "execute_result"
    }
   ],
   "source": [
    "results=train_nn(epochs=10,optimizer=optim.SGD(model.parameters(),lr=0.01,momentum=0.9))\n",
    "test_acc=[]\n",
    "test_acc.append(results)\n",
    "torch.save(model.state_dict(), 'NN_SGD_10E_lr0.01_mm0.9.pth')\n",
    "print('Model saved as NN_SGD_10E_lr0.01_mm0.9.pth')\n",
    "epoch_list=['Epoch:'+str(i) for i in range(1,11)]\n",
    "print('Number of Parameters:',count_parameters(model))\n",
    "results_2=pd.DataFrame(test_acc,columns=epoch_list)\n",
    "results_2"
   ]
  },
  {
   "cell_type": "markdown",
   "metadata": {},
   "source": [
    "Fitting model with SGD without Nesterov,learning rate as 0.0015 and momentum as 0.9"
   ]
  },
  {
   "cell_type": "code",
   "execution_count": 8,
   "metadata": {},
   "outputs": [
    {
     "name": "stdout",
     "output_type": "stream",
     "text": [
      "Model saved as NN_SGD_10E_lr0.015_mm0.9.pth\n",
      "Number of Parameters: 242762\n"
     ]
    },
    {
     "data": {
      "text/html": [
       "<div>\n",
       "<style scoped>\n",
       "    .dataframe tbody tr th:only-of-type {\n",
       "        vertical-align: middle;\n",
       "    }\n",
       "\n",
       "    .dataframe tbody tr th {\n",
       "        vertical-align: top;\n",
       "    }\n",
       "\n",
       "    .dataframe thead th {\n",
       "        text-align: right;\n",
       "    }\n",
       "</style>\n",
       "<table border=\"1\" class=\"dataframe\">\n",
       "  <thead>\n",
       "    <tr style=\"text-align: right;\">\n",
       "      <th></th>\n",
       "      <th>Epoch:1</th>\n",
       "      <th>Epoch:2</th>\n",
       "      <th>Epoch:3</th>\n",
       "      <th>Epoch:4</th>\n",
       "      <th>Epoch:5</th>\n",
       "      <th>Epoch:6</th>\n",
       "      <th>Epoch:7</th>\n",
       "      <th>Epoch:8</th>\n",
       "      <th>Epoch:9</th>\n",
       "      <th>Epoch:10</th>\n",
       "    </tr>\n",
       "  </thead>\n",
       "  <tbody>\n",
       "    <tr>\n",
       "      <td>0</td>\n",
       "      <td>0.9473</td>\n",
       "      <td>0.9591</td>\n",
       "      <td>0.9697</td>\n",
       "      <td>0.9734</td>\n",
       "      <td>0.9755</td>\n",
       "      <td>0.9764</td>\n",
       "      <td>0.9786</td>\n",
       "      <td>0.9793</td>\n",
       "      <td>0.9792</td>\n",
       "      <td>0.9785</td>\n",
       "    </tr>\n",
       "  </tbody>\n",
       "</table>\n",
       "</div>"
      ],
      "text/plain": [
       "   Epoch:1  Epoch:2  Epoch:3  Epoch:4  Epoch:5  Epoch:6  Epoch:7  Epoch:8  \\\n",
       "0   0.9473   0.9591   0.9697   0.9734   0.9755   0.9764   0.9786   0.9793   \n",
       "\n",
       "   Epoch:9  Epoch:10  \n",
       "0   0.9792    0.9785  "
      ]
     },
     "execution_count": 8,
     "metadata": {},
     "output_type": "execute_result"
    }
   ],
   "source": [
    "results=train_nn(epochs=10,optimizer=optim.SGD(model.parameters(),lr=0.015,momentum=0.9))\n",
    "test_acc=[]\n",
    "test_acc.append(results)\n",
    "torch.save(model.state_dict(), 'NN_SGD_10E_lr0.015_mm0.9.pth')\n",
    "print('Model saved as NN_SGD_10E_lr0.015_mm0.9.pth')\n",
    "epoch_list=['Epoch:'+str(i) for i in range(1,11)]\n",
    "print('Number of Parameters:',count_parameters(model))\n",
    "results_3=pd.DataFrame(test_acc,columns=epoch_list)\n",
    "results_3"
   ]
  },
  {
   "cell_type": "code",
   "execution_count": 7,
   "metadata": {},
   "outputs": [
    {
     "name": "stdout",
     "output_type": "stream",
     "text": [
      "Number of Parameters: 242762\n"
     ]
    },
    {
     "data": {
      "text/html": [
       "<div>\n",
       "<style scoped>\n",
       "    .dataframe tbody tr th:only-of-type {\n",
       "        vertical-align: middle;\n",
       "    }\n",
       "\n",
       "    .dataframe tbody tr th {\n",
       "        vertical-align: top;\n",
       "    }\n",
       "\n",
       "    .dataframe thead th {\n",
       "        text-align: right;\n",
       "    }\n",
       "</style>\n",
       "<table border=\"1\" class=\"dataframe\">\n",
       "  <thead>\n",
       "    <tr style=\"text-align: right;\">\n",
       "      <th></th>\n",
       "      <th>Epoch:1</th>\n",
       "      <th>Epoch:2</th>\n",
       "      <th>Epoch:3</th>\n",
       "      <th>Epoch:4</th>\n",
       "      <th>Epoch:5</th>\n",
       "      <th>Epoch:6</th>\n",
       "      <th>Epoch:7</th>\n",
       "      <th>Epoch:8</th>\n",
       "    </tr>\n",
       "  </thead>\n",
       "  <tbody>\n",
       "    <tr>\n",
       "      <td>0</td>\n",
       "      <td>0.9473</td>\n",
       "      <td>0.9591</td>\n",
       "      <td>0.9697</td>\n",
       "      <td>0.9734</td>\n",
       "      <td>0.9755</td>\n",
       "      <td>0.9764</td>\n",
       "      <td>0.9786</td>\n",
       "      <td>0.9793</td>\n",
       "    </tr>\n",
       "  </tbody>\n",
       "</table>\n",
       "</div>"
      ],
      "text/plain": [
       "   Epoch:1  Epoch:2  Epoch:3  Epoch:4  Epoch:5  Epoch:6  Epoch:7  Epoch:8\n",
       "0   0.9473   0.9591   0.9697   0.9734   0.9755   0.9764   0.9786   0.9793"
      ]
     },
     "execution_count": 7,
     "metadata": {},
     "output_type": "execute_result"
    }
   ],
   "source": [
    "# results=train_nn(epochs=8,optimizer=optim.SGD(model.parameters(),lr=0.015,momentum=0.9))\n",
    "# test_acc=[]\n",
    "# test_acc.append(results)\n",
    "# torch.save(model.state_dict(), 'NN_SGD_10E_lr0.015_mm0.9_e8.pth')\n",
    "# print('Model saved as NN_SGD_10E_lr0.015_mm0.9_e8.pth')\n",
    "epoch_list=['Epoch:'+str(i) for i in range(1,9)]\n",
    "print('Number of Parameters:',count_parameters(model))\n",
    "results_3_1=pd.DataFrame(test_acc,columns=epoch_list)\n",
    "results_3_1"
   ]
  },
  {
   "cell_type": "code",
   "execution_count": null,
   "metadata": {},
   "outputs": [],
   "source": []
  },
  {
   "cell_type": "markdown",
   "metadata": {},
   "source": [
    "Fitting model with SGD without Nesterov,learning rate as 0.02 and momentum as 0.9"
   ]
  },
  {
   "cell_type": "code",
   "execution_count": 8,
   "metadata": {},
   "outputs": [
    {
     "name": "stdout",
     "output_type": "stream",
     "text": [
      "Model saved as NN_SGD_10E_lr0.02_mm0.9.pth\n",
      "Number of Parameters: 242762\n"
     ]
    },
    {
     "data": {
      "text/html": [
       "<div>\n",
       "<style scoped>\n",
       "    .dataframe tbody tr th:only-of-type {\n",
       "        vertical-align: middle;\n",
       "    }\n",
       "\n",
       "    .dataframe tbody tr th {\n",
       "        vertical-align: top;\n",
       "    }\n",
       "\n",
       "    .dataframe thead th {\n",
       "        text-align: right;\n",
       "    }\n",
       "</style>\n",
       "<table border=\"1\" class=\"dataframe\">\n",
       "  <thead>\n",
       "    <tr style=\"text-align: right;\">\n",
       "      <th></th>\n",
       "      <th>Epoch:1</th>\n",
       "      <th>Epoch:2</th>\n",
       "      <th>Epoch:3</th>\n",
       "      <th>Epoch:4</th>\n",
       "      <th>Epoch:5</th>\n",
       "      <th>Epoch:6</th>\n",
       "      <th>Epoch:7</th>\n",
       "      <th>Epoch:8</th>\n",
       "      <th>Epoch:9</th>\n",
       "      <th>Epoch:10</th>\n",
       "    </tr>\n",
       "  </thead>\n",
       "  <tbody>\n",
       "    <tr>\n",
       "      <td>0</td>\n",
       "      <td>0.9525</td>\n",
       "      <td>0.9639</td>\n",
       "      <td>0.9716</td>\n",
       "      <td>0.9754</td>\n",
       "      <td>0.976</td>\n",
       "      <td>0.9778</td>\n",
       "      <td>0.9779</td>\n",
       "      <td>0.9793</td>\n",
       "      <td>0.9781</td>\n",
       "      <td>0.9812</td>\n",
       "    </tr>\n",
       "  </tbody>\n",
       "</table>\n",
       "</div>"
      ],
      "text/plain": [
       "   Epoch:1  Epoch:2  Epoch:3  Epoch:4  Epoch:5  Epoch:6  Epoch:7  Epoch:8  \\\n",
       "0   0.9525   0.9639   0.9716   0.9754    0.976   0.9778   0.9779   0.9793   \n",
       "\n",
       "   Epoch:9  Epoch:10  \n",
       "0   0.9781    0.9812  "
      ]
     },
     "execution_count": 8,
     "metadata": {},
     "output_type": "execute_result"
    }
   ],
   "source": [
    "results=train_nn(epochs=10,optimizer=optim.SGD(model.parameters(),lr=0.02,momentum=0.9))\n",
    "test_acc=[]\n",
    "test_acc.append(results)\n",
    "torch.save(model.state_dict(), 'NN_SGD_10E_lr0.02_mm0.9.pth')\n",
    "print('Model saved as NN_SGD_10E_lr0.02_mm0.9.pth')\n",
    "epoch_list=['Epoch:'+str(i) for i in range(1,11)]\n",
    "print('Number of Parameters:',count_parameters(model))\n",
    "results_4=pd.DataFrame(test_acc,columns=epoch_list)\n",
    "results_4"
   ]
  },
  {
   "cell_type": "markdown",
   "metadata": {},
   "source": [
    "Fitting model with SGD without Nesterov,learning rate as 0.03 and momentum as 0.9"
   ]
  },
  {
   "cell_type": "code",
   "execution_count": 8,
   "metadata": {},
   "outputs": [
    {
     "name": "stdout",
     "output_type": "stream",
     "text": [
      "Model saved as NN_SGD_10E_lr0.03_mm0.9.pth\n",
      "Number of Parameters: 242762\n"
     ]
    },
    {
     "data": {
      "text/html": [
       "<div>\n",
       "<style scoped>\n",
       "    .dataframe tbody tr th:only-of-type {\n",
       "        vertical-align: middle;\n",
       "    }\n",
       "\n",
       "    .dataframe tbody tr th {\n",
       "        vertical-align: top;\n",
       "    }\n",
       "\n",
       "    .dataframe thead th {\n",
       "        text-align: right;\n",
       "    }\n",
       "</style>\n",
       "<table border=\"1\" class=\"dataframe\">\n",
       "  <thead>\n",
       "    <tr style=\"text-align: right;\">\n",
       "      <th></th>\n",
       "      <th>Epoch:1</th>\n",
       "      <th>Epoch:2</th>\n",
       "      <th>Epoch:3</th>\n",
       "      <th>Epoch:4</th>\n",
       "      <th>Epoch:5</th>\n",
       "      <th>Epoch:6</th>\n",
       "      <th>Epoch:7</th>\n",
       "      <th>Epoch:8</th>\n",
       "      <th>Epoch:9</th>\n",
       "      <th>Epoch:10</th>\n",
       "    </tr>\n",
       "  </thead>\n",
       "  <tbody>\n",
       "    <tr>\n",
       "      <td>0</td>\n",
       "      <td>0.9565</td>\n",
       "      <td>0.9654</td>\n",
       "      <td>0.9723</td>\n",
       "      <td>0.9761</td>\n",
       "      <td>0.9756</td>\n",
       "      <td>0.9759</td>\n",
       "      <td>0.9789</td>\n",
       "      <td>0.9812</td>\n",
       "      <td>0.9791</td>\n",
       "      <td>0.9777</td>\n",
       "    </tr>\n",
       "  </tbody>\n",
       "</table>\n",
       "</div>"
      ],
      "text/plain": [
       "   Epoch:1  Epoch:2  Epoch:3  Epoch:4  Epoch:5  Epoch:6  Epoch:7  Epoch:8  \\\n",
       "0   0.9565   0.9654   0.9723   0.9761   0.9756   0.9759   0.9789   0.9812   \n",
       "\n",
       "   Epoch:9  Epoch:10  \n",
       "0   0.9791    0.9777  "
      ]
     },
     "execution_count": 8,
     "metadata": {},
     "output_type": "execute_result"
    }
   ],
   "source": [
    "results=train_nn(epochs=10,optimizer=optim.SGD(model.parameters(),lr=0.03,momentum=0.9))\n",
    "test_acc=[]\n",
    "test_acc.append(results)\n",
    "torch.save(model.state_dict(), 'NN_SGD_10E_lr0.03_mm0.9.pth')\n",
    "print('Model saved as NN_SGD_10E_lr0.03_mm0.9.pth')\n",
    "epoch_list=['Epoch:'+str(i) for i in range(1,11)]\n",
    "print('Number of Parameters:',count_parameters(model))\n",
    "results_5=pd.DataFrame(test_acc,columns=epoch_list)\n",
    "results_5"
   ]
  },
  {
   "cell_type": "markdown",
   "metadata": {},
   "source": [
    "Fitting model with SGD without Nesterov,learning rate as 0.04 and momentum as 0.9"
   ]
  },
  {
   "cell_type": "code",
   "execution_count": 8,
   "metadata": {},
   "outputs": [
    {
     "name": "stdout",
     "output_type": "stream",
     "text": [
      "Model saved as NN_SGD_10E_lr0.04_mm0.9.pth\n",
      "Number of Parameters: 242762\n"
     ]
    },
    {
     "data": {
      "text/html": [
       "<div>\n",
       "<style scoped>\n",
       "    .dataframe tbody tr th:only-of-type {\n",
       "        vertical-align: middle;\n",
       "    }\n",
       "\n",
       "    .dataframe tbody tr th {\n",
       "        vertical-align: top;\n",
       "    }\n",
       "\n",
       "    .dataframe thead th {\n",
       "        text-align: right;\n",
       "    }\n",
       "</style>\n",
       "<table border=\"1\" class=\"dataframe\">\n",
       "  <thead>\n",
       "    <tr style=\"text-align: right;\">\n",
       "      <th></th>\n",
       "      <th>Epoch:1</th>\n",
       "      <th>Epoch:2</th>\n",
       "      <th>Epoch:3</th>\n",
       "      <th>Epoch:4</th>\n",
       "      <th>Epoch:5</th>\n",
       "      <th>Epoch:6</th>\n",
       "      <th>Epoch:7</th>\n",
       "      <th>Epoch:8</th>\n",
       "      <th>Epoch:9</th>\n",
       "      <th>Epoch:10</th>\n",
       "    </tr>\n",
       "  </thead>\n",
       "  <tbody>\n",
       "    <tr>\n",
       "      <td>0</td>\n",
       "      <td>0.9589</td>\n",
       "      <td>0.9658</td>\n",
       "      <td>0.9752</td>\n",
       "      <td>0.9722</td>\n",
       "      <td>0.9736</td>\n",
       "      <td>0.9766</td>\n",
       "      <td>0.9802</td>\n",
       "      <td>0.9786</td>\n",
       "      <td>0.978</td>\n",
       "      <td>0.9829</td>\n",
       "    </tr>\n",
       "  </tbody>\n",
       "</table>\n",
       "</div>"
      ],
      "text/plain": [
       "   Epoch:1  Epoch:2  Epoch:3  Epoch:4  Epoch:5  Epoch:6  Epoch:7  Epoch:8  \\\n",
       "0   0.9589   0.9658   0.9752   0.9722   0.9736   0.9766   0.9802   0.9786   \n",
       "\n",
       "   Epoch:9  Epoch:10  \n",
       "0    0.978    0.9829  "
      ]
     },
     "execution_count": 8,
     "metadata": {},
     "output_type": "execute_result"
    }
   ],
   "source": [
    "results=train_nn(epochs=10,optimizer=optim.SGD(model.parameters(),lr=0.04,momentum=0.9))\n",
    "test_acc=[]\n",
    "test_acc.append(results)\n",
    "torch.save(model.state_dict(), 'NN_SGD_10E_lr0.04_mm0.9.pth')\n",
    "print('Model saved as NN_SGD_10E_lr0.04_mm0.9.pth')\n",
    "epoch_list=['Epoch:'+str(i) for i in range(1,11)]\n",
    "print('Number of Parameters:',count_parameters(model))\n",
    "results_6=pd.DataFrame(test_acc,columns=epoch_list)\n",
    "results_6"
   ]
  },
  {
   "cell_type": "markdown",
   "metadata": {},
   "source": [
    "Fitting model with SGD without Nesterov,learning rate as 0.1 and momentum as 0.9"
   ]
  },
  {
   "cell_type": "code",
   "execution_count": 8,
   "metadata": {},
   "outputs": [
    {
     "name": "stdout",
     "output_type": "stream",
     "text": [
      "Model saved as NN_SGD_10E_lr0.1_mm0.9.pth\n",
      "Number of Parameters: 242762\n"
     ]
    },
    {
     "data": {
      "text/html": [
       "<div>\n",
       "<style scoped>\n",
       "    .dataframe tbody tr th:only-of-type {\n",
       "        vertical-align: middle;\n",
       "    }\n",
       "\n",
       "    .dataframe tbody tr th {\n",
       "        vertical-align: top;\n",
       "    }\n",
       "\n",
       "    .dataframe thead th {\n",
       "        text-align: right;\n",
       "    }\n",
       "</style>\n",
       "<table border=\"1\" class=\"dataframe\">\n",
       "  <thead>\n",
       "    <tr style=\"text-align: right;\">\n",
       "      <th></th>\n",
       "      <th>Epoch:1</th>\n",
       "      <th>Epoch:2</th>\n",
       "      <th>Epoch:3</th>\n",
       "      <th>Epoch:4</th>\n",
       "      <th>Epoch:5</th>\n",
       "      <th>Epoch:6</th>\n",
       "      <th>Epoch:7</th>\n",
       "      <th>Epoch:8</th>\n",
       "      <th>Epoch:9</th>\n",
       "      <th>Epoch:10</th>\n",
       "    </tr>\n",
       "  </thead>\n",
       "  <tbody>\n",
       "    <tr>\n",
       "      <td>0</td>\n",
       "      <td>0.9511</td>\n",
       "      <td>0.9585</td>\n",
       "      <td>0.96</td>\n",
       "      <td>0.9688</td>\n",
       "      <td>0.9659</td>\n",
       "      <td>0.9655</td>\n",
       "      <td>0.9727</td>\n",
       "      <td>0.9714</td>\n",
       "      <td>0.973</td>\n",
       "      <td>0.9696</td>\n",
       "    </tr>\n",
       "  </tbody>\n",
       "</table>\n",
       "</div>"
      ],
      "text/plain": [
       "   Epoch:1  Epoch:2  Epoch:3  Epoch:4  Epoch:5  Epoch:6  Epoch:7  Epoch:8  \\\n",
       "0   0.9511   0.9585     0.96   0.9688   0.9659   0.9655   0.9727   0.9714   \n",
       "\n",
       "   Epoch:9  Epoch:10  \n",
       "0    0.973    0.9696  "
      ]
     },
     "execution_count": 8,
     "metadata": {},
     "output_type": "execute_result"
    }
   ],
   "source": [
    "results=train_nn(epochs=10,optimizer=optim.SGD(model.parameters(),lr=0.1,momentum=0.9))\n",
    "test_acc=[]\n",
    "test_acc.append(results)\n",
    "torch.save(model.state_dict(), 'NN_SGD_10E_lr0.1_mm0.9.pth')\n",
    "print('Model saved as NN_SGD_10E_lr0.1_mm0.9.pth')\n",
    "epoch_list=['Epoch:'+str(i) for i in range(1,11)]\n",
    "print('Number of Parameters:',count_parameters(model))\n",
    "results_7=pd.DataFrame(test_acc,columns=epoch_list)\n",
    "results_7"
   ]
  },
  {
   "cell_type": "markdown",
   "metadata": {},
   "source": [
    "**As of now,learning rate 0.04 give us the best average accuracy but there's a drop in accuracy from 0.04 to 0.1.So now we check for learning rates between 0.04 and 0.1**"
   ]
  },
  {
   "cell_type": "markdown",
   "metadata": {},
   "source": [
    "Fitting model with SGD without Nesterov,learning rate as 0.09 and momentum as 0.9"
   ]
  },
  {
   "cell_type": "code",
   "execution_count": 8,
   "metadata": {},
   "outputs": [
    {
     "name": "stdout",
     "output_type": "stream",
     "text": [
      "Model saved as NN_SGD_10E_lr0.09_mm0.9.pth\n",
      "Number of Parameters: 242762\n"
     ]
    },
    {
     "data": {
      "text/html": [
       "<div>\n",
       "<style scoped>\n",
       "    .dataframe tbody tr th:only-of-type {\n",
       "        vertical-align: middle;\n",
       "    }\n",
       "\n",
       "    .dataframe tbody tr th {\n",
       "        vertical-align: top;\n",
       "    }\n",
       "\n",
       "    .dataframe thead th {\n",
       "        text-align: right;\n",
       "    }\n",
       "</style>\n",
       "<table border=\"1\" class=\"dataframe\">\n",
       "  <thead>\n",
       "    <tr style=\"text-align: right;\">\n",
       "      <th></th>\n",
       "      <th>Epoch:1</th>\n",
       "      <th>Epoch:2</th>\n",
       "      <th>Epoch:3</th>\n",
       "      <th>Epoch:4</th>\n",
       "      <th>Epoch:5</th>\n",
       "      <th>Epoch:6</th>\n",
       "      <th>Epoch:7</th>\n",
       "      <th>Epoch:8</th>\n",
       "      <th>Epoch:9</th>\n",
       "      <th>Epoch:10</th>\n",
       "    </tr>\n",
       "  </thead>\n",
       "  <tbody>\n",
       "    <tr>\n",
       "      <td>0</td>\n",
       "      <td>0.9558</td>\n",
       "      <td>0.9592</td>\n",
       "      <td>0.9704</td>\n",
       "      <td>0.973</td>\n",
       "      <td>0.9699</td>\n",
       "      <td>0.9696</td>\n",
       "      <td>0.9762</td>\n",
       "      <td>0.9747</td>\n",
       "      <td>0.9759</td>\n",
       "      <td>0.973</td>\n",
       "    </tr>\n",
       "  </tbody>\n",
       "</table>\n",
       "</div>"
      ],
      "text/plain": [
       "   Epoch:1  Epoch:2  Epoch:3  Epoch:4  Epoch:5  Epoch:6  Epoch:7  Epoch:8  \\\n",
       "0   0.9558   0.9592   0.9704    0.973   0.9699   0.9696   0.9762   0.9747   \n",
       "\n",
       "   Epoch:9  Epoch:10  \n",
       "0   0.9759     0.973  "
      ]
     },
     "execution_count": 8,
     "metadata": {},
     "output_type": "execute_result"
    }
   ],
   "source": [
    "results=train_nn(epochs=10,optimizer=optim.SGD(model.parameters(),lr=0.09,momentum=0.9))\n",
    "test_acc=[]\n",
    "test_acc.append(results)\n",
    "torch.save(model.state_dict(), 'NN_SGD_10E_lr0.09_mm0.9.pth')\n",
    "print('Model saved as NN_SGD_10E_lr0.09_mm0.9.pth')\n",
    "epoch_list=['Epoch:'+str(i) for i in range(1,11)]\n",
    "print('Number of Parameters:',count_parameters(model))\n",
    "results_8=pd.DataFrame(test_acc,columns=epoch_list)\n",
    "results_8"
   ]
  },
  {
   "cell_type": "markdown",
   "metadata": {},
   "source": [
    "Fitting model with SGD without Nesterov,learning rate as 0.08 and momentum as 0.9"
   ]
  },
  {
   "cell_type": "code",
   "execution_count": 8,
   "metadata": {},
   "outputs": [
    {
     "name": "stdout",
     "output_type": "stream",
     "text": [
      "Model saved as NN_SGD_10E_lr0.08_mm0.9.pth\n",
      "Number of Parameters: 242762\n"
     ]
    },
    {
     "data": {
      "text/html": [
       "<div>\n",
       "<style scoped>\n",
       "    .dataframe tbody tr th:only-of-type {\n",
       "        vertical-align: middle;\n",
       "    }\n",
       "\n",
       "    .dataframe tbody tr th {\n",
       "        vertical-align: top;\n",
       "    }\n",
       "\n",
       "    .dataframe thead th {\n",
       "        text-align: right;\n",
       "    }\n",
       "</style>\n",
       "<table border=\"1\" class=\"dataframe\">\n",
       "  <thead>\n",
       "    <tr style=\"text-align: right;\">\n",
       "      <th></th>\n",
       "      <th>Epoch:1</th>\n",
       "      <th>Epoch:2</th>\n",
       "      <th>Epoch:3</th>\n",
       "      <th>Epoch:4</th>\n",
       "      <th>Epoch:5</th>\n",
       "      <th>Epoch:6</th>\n",
       "      <th>Epoch:7</th>\n",
       "      <th>Epoch:8</th>\n",
       "      <th>Epoch:9</th>\n",
       "      <th>Epoch:10</th>\n",
       "    </tr>\n",
       "  </thead>\n",
       "  <tbody>\n",
       "    <tr>\n",
       "      <td>0</td>\n",
       "      <td>0.9485</td>\n",
       "      <td>0.9584</td>\n",
       "      <td>0.968</td>\n",
       "      <td>0.9679</td>\n",
       "      <td>0.9711</td>\n",
       "      <td>0.9713</td>\n",
       "      <td>0.9739</td>\n",
       "      <td>0.974</td>\n",
       "      <td>0.9751</td>\n",
       "      <td>0.9768</td>\n",
       "    </tr>\n",
       "  </tbody>\n",
       "</table>\n",
       "</div>"
      ],
      "text/plain": [
       "   Epoch:1  Epoch:2  Epoch:3  Epoch:4  Epoch:5  Epoch:6  Epoch:7  Epoch:8  \\\n",
       "0   0.9485   0.9584    0.968   0.9679   0.9711   0.9713   0.9739    0.974   \n",
       "\n",
       "   Epoch:9  Epoch:10  \n",
       "0   0.9751    0.9768  "
      ]
     },
     "execution_count": 8,
     "metadata": {},
     "output_type": "execute_result"
    }
   ],
   "source": [
    "results=train_nn(epochs=10,optimizer=optim.SGD(model.parameters(),lr=0.08,momentum=0.9))\n",
    "test_acc=[]\n",
    "test_acc.append(results)\n",
    "torch.save(model.state_dict(), 'NN_SGD_10E_lr0.08_mm0.9.pth')\n",
    "print('Model saved as NN_SGD_10E_lr0.08_mm0.9.pth')\n",
    "epoch_list=['Epoch:'+str(i) for i in range(1,11)]\n",
    "print('Number of Parameters:',count_parameters(model))\n",
    "results_9=pd.DataFrame(test_acc,columns=epoch_list)\n",
    "results_9"
   ]
  },
  {
   "cell_type": "markdown",
   "metadata": {},
   "source": [
    "Fitting model with SGD without Nesterov,learning rate as 0.07 and momentum as 0.9"
   ]
  },
  {
   "cell_type": "code",
   "execution_count": 8,
   "metadata": {},
   "outputs": [
    {
     "name": "stdout",
     "output_type": "stream",
     "text": [
      "Model saved as NN_SGD_10E_lr0.07_mm0.9.pth\n",
      "Number of Parameters: 242762\n"
     ]
    },
    {
     "data": {
      "text/html": [
       "<div>\n",
       "<style scoped>\n",
       "    .dataframe tbody tr th:only-of-type {\n",
       "        vertical-align: middle;\n",
       "    }\n",
       "\n",
       "    .dataframe tbody tr th {\n",
       "        vertical-align: top;\n",
       "    }\n",
       "\n",
       "    .dataframe thead th {\n",
       "        text-align: right;\n",
       "    }\n",
       "</style>\n",
       "<table border=\"1\" class=\"dataframe\">\n",
       "  <thead>\n",
       "    <tr style=\"text-align: right;\">\n",
       "      <th></th>\n",
       "      <th>Epoch:1</th>\n",
       "      <th>Epoch:2</th>\n",
       "      <th>Epoch:3</th>\n",
       "      <th>Epoch:4</th>\n",
       "      <th>Epoch:5</th>\n",
       "      <th>Epoch:6</th>\n",
       "      <th>Epoch:7</th>\n",
       "      <th>Epoch:8</th>\n",
       "      <th>Epoch:9</th>\n",
       "      <th>Epoch:10</th>\n",
       "    </tr>\n",
       "  </thead>\n",
       "  <tbody>\n",
       "    <tr>\n",
       "      <td>0</td>\n",
       "      <td>0.953</td>\n",
       "      <td>0.9509</td>\n",
       "      <td>0.9668</td>\n",
       "      <td>0.9714</td>\n",
       "      <td>0.9734</td>\n",
       "      <td>0.9772</td>\n",
       "      <td>0.9777</td>\n",
       "      <td>0.9751</td>\n",
       "      <td>0.9761</td>\n",
       "      <td>0.9785</td>\n",
       "    </tr>\n",
       "  </tbody>\n",
       "</table>\n",
       "</div>"
      ],
      "text/plain": [
       "   Epoch:1  Epoch:2  Epoch:3  Epoch:4  Epoch:5  Epoch:6  Epoch:7  Epoch:8  \\\n",
       "0    0.953   0.9509   0.9668   0.9714   0.9734   0.9772   0.9777   0.9751   \n",
       "\n",
       "   Epoch:9  Epoch:10  \n",
       "0   0.9761    0.9785  "
      ]
     },
     "execution_count": 8,
     "metadata": {},
     "output_type": "execute_result"
    }
   ],
   "source": [
    "results=train_nn(epochs=10,optimizer=optim.SGD(model.parameters(),lr=0.07,momentum=0.9))\n",
    "test_acc=[]\n",
    "test_acc.append(results)\n",
    "torch.save(model.state_dict(), 'NN_SGD_10E_lr0.07_mm0.9.pth')\n",
    "print('Model saved as NN_SGD_10E_lr0.07_mm0.9.pth')\n",
    "epoch_list=['Epoch:'+str(i) for i in range(1,11)]\n",
    "print('Number of Parameters:',count_parameters(model))\n",
    "results_10=pd.DataFrame(test_acc,columns=epoch_list)\n",
    "results_10"
   ]
  },
  {
   "cell_type": "markdown",
   "metadata": {},
   "source": [
    "Fitting model with SGD without Nesterov,learning rate as 0.06 and momentum as 0.9"
   ]
  },
  {
   "cell_type": "code",
   "execution_count": 8,
   "metadata": {},
   "outputs": [
    {
     "name": "stdout",
     "output_type": "stream",
     "text": [
      "Model saved as NN_SGD_10E_lr0.06_mm0.9.pth\n",
      "Number of Parameters: 242762\n"
     ]
    },
    {
     "data": {
      "text/html": [
       "<div>\n",
       "<style scoped>\n",
       "    .dataframe tbody tr th:only-of-type {\n",
       "        vertical-align: middle;\n",
       "    }\n",
       "\n",
       "    .dataframe tbody tr th {\n",
       "        vertical-align: top;\n",
       "    }\n",
       "\n",
       "    .dataframe thead th {\n",
       "        text-align: right;\n",
       "    }\n",
       "</style>\n",
       "<table border=\"1\" class=\"dataframe\">\n",
       "  <thead>\n",
       "    <tr style=\"text-align: right;\">\n",
       "      <th></th>\n",
       "      <th>Epoch:1</th>\n",
       "      <th>Epoch:2</th>\n",
       "      <th>Epoch:3</th>\n",
       "      <th>Epoch:4</th>\n",
       "      <th>Epoch:5</th>\n",
       "      <th>Epoch:6</th>\n",
       "      <th>Epoch:7</th>\n",
       "      <th>Epoch:8</th>\n",
       "      <th>Epoch:9</th>\n",
       "      <th>Epoch:10</th>\n",
       "    </tr>\n",
       "  </thead>\n",
       "  <tbody>\n",
       "    <tr>\n",
       "      <td>0</td>\n",
       "      <td>0.9552</td>\n",
       "      <td>0.9679</td>\n",
       "      <td>0.9697</td>\n",
       "      <td>0.9746</td>\n",
       "      <td>0.9746</td>\n",
       "      <td>0.9767</td>\n",
       "      <td>0.9808</td>\n",
       "      <td>0.9789</td>\n",
       "      <td>0.9802</td>\n",
       "      <td>0.9811</td>\n",
       "    </tr>\n",
       "  </tbody>\n",
       "</table>\n",
       "</div>"
      ],
      "text/plain": [
       "   Epoch:1  Epoch:2  Epoch:3  Epoch:4  Epoch:5  Epoch:6  Epoch:7  Epoch:8  \\\n",
       "0   0.9552   0.9679   0.9697   0.9746   0.9746   0.9767   0.9808   0.9789   \n",
       "\n",
       "   Epoch:9  Epoch:10  \n",
       "0   0.9802    0.9811  "
      ]
     },
     "execution_count": 8,
     "metadata": {},
     "output_type": "execute_result"
    }
   ],
   "source": [
    "results=train_nn(epochs=10,optimizer=optim.SGD(model.parameters(),lr=0.06,momentum=0.9))\n",
    "test_acc=[]\n",
    "test_acc.append(results)\n",
    "torch.save(model.state_dict(), 'NN_SGD_10E_lr0.06_mm0.9.pth')\n",
    "print('Model saved as NN_SGD_10E_lr0.06_mm0.9.pth')\n",
    "epoch_list=['Epoch:'+str(i) for i in range(1,11)]\n",
    "print('Number of Parameters:',count_parameters(model))\n",
    "results_11=pd.DataFrame(test_acc,columns=epoch_list)\n",
    "results_11"
   ]
  },
  {
   "cell_type": "markdown",
   "metadata": {},
   "source": [
    "Fitting model with SGD without Nesterov,learning rate as 0.05 and momentum as 0.9"
   ]
  },
  {
   "cell_type": "code",
   "execution_count": 8,
   "metadata": {},
   "outputs": [
    {
     "name": "stdout",
     "output_type": "stream",
     "text": [
      "Model saved as NN_SGD_10E_lr0.05_mm0.9.pth\n",
      "Number of Parameters: 242762\n"
     ]
    },
    {
     "data": {
      "text/html": [
       "<div>\n",
       "<style scoped>\n",
       "    .dataframe tbody tr th:only-of-type {\n",
       "        vertical-align: middle;\n",
       "    }\n",
       "\n",
       "    .dataframe tbody tr th {\n",
       "        vertical-align: top;\n",
       "    }\n",
       "\n",
       "    .dataframe thead th {\n",
       "        text-align: right;\n",
       "    }\n",
       "</style>\n",
       "<table border=\"1\" class=\"dataframe\">\n",
       "  <thead>\n",
       "    <tr style=\"text-align: right;\">\n",
       "      <th></th>\n",
       "      <th>Epoch:1</th>\n",
       "      <th>Epoch:2</th>\n",
       "      <th>Epoch:3</th>\n",
       "      <th>Epoch:4</th>\n",
       "      <th>Epoch:5</th>\n",
       "      <th>Epoch:6</th>\n",
       "      <th>Epoch:7</th>\n",
       "      <th>Epoch:8</th>\n",
       "      <th>Epoch:9</th>\n",
       "      <th>Epoch:10</th>\n",
       "    </tr>\n",
       "  </thead>\n",
       "  <tbody>\n",
       "    <tr>\n",
       "      <td>0</td>\n",
       "      <td>0.9597</td>\n",
       "      <td>0.9687</td>\n",
       "      <td>0.9736</td>\n",
       "      <td>0.9742</td>\n",
       "      <td>0.9745</td>\n",
       "      <td>0.9763</td>\n",
       "      <td>0.9796</td>\n",
       "      <td>0.9774</td>\n",
       "      <td>0.9792</td>\n",
       "      <td>0.9747</td>\n",
       "    </tr>\n",
       "  </tbody>\n",
       "</table>\n",
       "</div>"
      ],
      "text/plain": [
       "   Epoch:1  Epoch:2  Epoch:3  Epoch:4  Epoch:5  Epoch:6  Epoch:7  Epoch:8  \\\n",
       "0   0.9597   0.9687   0.9736   0.9742   0.9745   0.9763   0.9796   0.9774   \n",
       "\n",
       "   Epoch:9  Epoch:10  \n",
       "0   0.9792    0.9747  "
      ]
     },
     "execution_count": 8,
     "metadata": {},
     "output_type": "execute_result"
    }
   ],
   "source": [
    "results=train_nn(epochs=10,optimizer=optim.SGD(model.parameters(),lr=0.05,momentum=0.9))\n",
    "test_acc=[]\n",
    "test_acc.append(results)\n",
    "torch.save(model.state_dict(), 'NN_SGD_10E_lr0.05_mm0.9.pth')\n",
    "print('Model saved as NN_SGD_10E_lr0.05_mm0.9.pth')\n",
    "epoch_list=['Epoch:'+str(i) for i in range(1,11)]\n",
    "print('Number of Parameters:',count_parameters(model))\n",
    "results_12=pd.DataFrame(test_acc,columns=epoch_list)\n",
    "results_12"
   ]
  },
  {
   "cell_type": "markdown",
   "metadata": {},
   "source": [
    "**We see that 0.04 still gives best average validation accuracy.Now keeping learning rate constant at 0.04,we check for different values of momentum.**"
   ]
  },
  {
   "cell_type": "markdown",
   "metadata": {},
   "source": [
    "#### 2.Tuning Momentum (keeping lr=0.04)"
   ]
  },
  {
   "cell_type": "markdown",
   "metadata": {},
   "source": [
    "Fitting model with SGD without Nesterov,learning rate as 0.04 and momentum as 0.7"
   ]
  },
  {
   "cell_type": "code",
   "execution_count": 9,
   "metadata": {},
   "outputs": [
    {
     "data": {
      "text/html": [
       "<div>\n",
       "<style scoped>\n",
       "    .dataframe tbody tr th:only-of-type {\n",
       "        vertical-align: middle;\n",
       "    }\n",
       "\n",
       "    .dataframe tbody tr th {\n",
       "        vertical-align: top;\n",
       "    }\n",
       "\n",
       "    .dataframe thead th {\n",
       "        text-align: right;\n",
       "    }\n",
       "</style>\n",
       "<table border=\"1\" class=\"dataframe\">\n",
       "  <thead>\n",
       "    <tr style=\"text-align: right;\">\n",
       "      <th></th>\n",
       "      <th>Epoch:1</th>\n",
       "      <th>Epoch:2</th>\n",
       "      <th>Epoch:3</th>\n",
       "      <th>Epoch:4</th>\n",
       "      <th>Epoch:5</th>\n",
       "      <th>Epoch:6</th>\n",
       "      <th>Epoch:7</th>\n",
       "      <th>Epoch:8</th>\n",
       "      <th>Epoch:9</th>\n",
       "      <th>Epoch:10</th>\n",
       "    </tr>\n",
       "  </thead>\n",
       "  <tbody>\n",
       "    <tr>\n",
       "      <td>0</td>\n",
       "      <td>0.9469</td>\n",
       "      <td>0.9626</td>\n",
       "      <td>0.9707</td>\n",
       "      <td>0.9736</td>\n",
       "      <td>0.9729</td>\n",
       "      <td>0.9752</td>\n",
       "      <td>0.9771</td>\n",
       "      <td>0.9792</td>\n",
       "      <td>0.9805</td>\n",
       "      <td>0.9798</td>\n",
       "    </tr>\n",
       "  </tbody>\n",
       "</table>\n",
       "</div>"
      ],
      "text/plain": [
       "   Epoch:1  Epoch:2  Epoch:3  Epoch:4  Epoch:5  Epoch:6  Epoch:7  Epoch:8  \\\n",
       "0   0.9469   0.9626   0.9707   0.9736   0.9729   0.9752   0.9771   0.9792   \n",
       "\n",
       "   Epoch:9  Epoch:10  \n",
       "0   0.9805    0.9798  "
      ]
     },
     "execution_count": 9,
     "metadata": {},
     "output_type": "execute_result"
    }
   ],
   "source": [
    "results=train_nn(epochs=10,optimizer=optim.SGD(model.parameters(),lr=0.04,momentum=0.7))\n",
    "test_acc=[]\n",
    "test_acc.append(results)\n",
    "torch.save(model.state_dict(), 'NN_SGD_10E_lr0.04_mm0.7.pth')\n",
    "epoch_list=['Epoch:'+str(i) for i in range(1,11)]\n",
    "print('Model saved as NN_SGD_10E_lr0.04_mm0.7.pth')\n",
    "print('Number of Parameters:',count_parameters(model))\n",
    "results_13=pd.DataFrame(test_acc,columns=epoch_list)\n",
    "results_13"
   ]
  },
  {
   "cell_type": "markdown",
   "metadata": {},
   "source": [
    "Fitting model with SGD without Nesterov,learning rate as 0.04 and momentum as 0.8"
   ]
  },
  {
   "cell_type": "code",
   "execution_count": 9,
   "metadata": {},
   "outputs": [
    {
     "name": "stdout",
     "output_type": "stream",
     "text": [
      "Model saved as NN_SGD_10E_lr0.04_mm0.8.pth\n",
      "Number of Parameters: 242762\n"
     ]
    },
    {
     "data": {
      "text/html": [
       "<div>\n",
       "<style scoped>\n",
       "    .dataframe tbody tr th:only-of-type {\n",
       "        vertical-align: middle;\n",
       "    }\n",
       "\n",
       "    .dataframe tbody tr th {\n",
       "        vertical-align: top;\n",
       "    }\n",
       "\n",
       "    .dataframe thead th {\n",
       "        text-align: right;\n",
       "    }\n",
       "</style>\n",
       "<table border=\"1\" class=\"dataframe\">\n",
       "  <thead>\n",
       "    <tr style=\"text-align: right;\">\n",
       "      <th></th>\n",
       "      <th>Epoch:1</th>\n",
       "      <th>Epoch:2</th>\n",
       "      <th>Epoch:3</th>\n",
       "      <th>Epoch:4</th>\n",
       "      <th>Epoch:5</th>\n",
       "      <th>Epoch:6</th>\n",
       "      <th>Epoch:7</th>\n",
       "      <th>Epoch:8</th>\n",
       "      <th>Epoch:9</th>\n",
       "      <th>Epoch:10</th>\n",
       "    </tr>\n",
       "  </thead>\n",
       "  <tbody>\n",
       "    <tr>\n",
       "      <td>0</td>\n",
       "      <td>0.9535</td>\n",
       "      <td>0.9648</td>\n",
       "      <td>0.9709</td>\n",
       "      <td>0.9746</td>\n",
       "      <td>0.9746</td>\n",
       "      <td>0.9754</td>\n",
       "      <td>0.978</td>\n",
       "      <td>0.9791</td>\n",
       "      <td>0.9797</td>\n",
       "      <td>0.9822</td>\n",
       "    </tr>\n",
       "  </tbody>\n",
       "</table>\n",
       "</div>"
      ],
      "text/plain": [
       "   Epoch:1  Epoch:2  Epoch:3  Epoch:4  Epoch:5  Epoch:6  Epoch:7  Epoch:8  \\\n",
       "0   0.9535   0.9648   0.9709   0.9746   0.9746   0.9754    0.978   0.9791   \n",
       "\n",
       "   Epoch:9  Epoch:10  \n",
       "0   0.9797    0.9822  "
      ]
     },
     "execution_count": 9,
     "metadata": {},
     "output_type": "execute_result"
    }
   ],
   "source": [
    "results=train_nn(epochs=10,optimizer=optim.SGD(model.parameters(),lr=0.04,momentum=0.8))\n",
    "test_acc=[]\n",
    "test_acc.append(results)\n",
    "torch.save(model.state_dict(), 'NN_SGD_10E_lr0.04_mm0.8.pth')\n",
    "print('Model saved as NN_SGD_10E_lr0.04_mm0.8.pth')\n",
    "print('Number of Parameters:',count_parameters(model))\n",
    "results_14=pd.DataFrame(test_acc,columns=epoch_list)\n",
    "results_14"
   ]
  },
  {
   "cell_type": "markdown",
   "metadata": {},
   "source": [
    "Fitting model with SGD without Nesterov,learning rate as 0.04 and momentum as 0.95"
   ]
  },
  {
   "cell_type": "code",
   "execution_count": 9,
   "metadata": {},
   "outputs": [
    {
     "name": "stdout",
     "output_type": "stream",
     "text": [
      "Model saved as NN_SGD_10E_lr0.04_mm0.95.pth\n",
      "Number of Parameters: 242762\n"
     ]
    },
    {
     "data": {
      "text/html": [
       "<div>\n",
       "<style scoped>\n",
       "    .dataframe tbody tr th:only-of-type {\n",
       "        vertical-align: middle;\n",
       "    }\n",
       "\n",
       "    .dataframe tbody tr th {\n",
       "        vertical-align: top;\n",
       "    }\n",
       "\n",
       "    .dataframe thead th {\n",
       "        text-align: right;\n",
       "    }\n",
       "</style>\n",
       "<table border=\"1\" class=\"dataframe\">\n",
       "  <thead>\n",
       "    <tr style=\"text-align: right;\">\n",
       "      <th></th>\n",
       "      <th>Epoch:1</th>\n",
       "      <th>Epoch:2</th>\n",
       "      <th>Epoch:3</th>\n",
       "      <th>Epoch:4</th>\n",
       "      <th>Epoch:5</th>\n",
       "      <th>Epoch:6</th>\n",
       "      <th>Epoch:7</th>\n",
       "      <th>Epoch:8</th>\n",
       "      <th>Epoch:9</th>\n",
       "      <th>Epoch:10</th>\n",
       "    </tr>\n",
       "  </thead>\n",
       "  <tbody>\n",
       "    <tr>\n",
       "      <td>0</td>\n",
       "      <td>0.9496</td>\n",
       "      <td>0.9579</td>\n",
       "      <td>0.9673</td>\n",
       "      <td>0.9714</td>\n",
       "      <td>0.9705</td>\n",
       "      <td>0.9691</td>\n",
       "      <td>0.9736</td>\n",
       "      <td>0.9758</td>\n",
       "      <td>0.9758</td>\n",
       "      <td>0.9765</td>\n",
       "    </tr>\n",
       "  </tbody>\n",
       "</table>\n",
       "</div>"
      ],
      "text/plain": [
       "   Epoch:1  Epoch:2  Epoch:3  Epoch:4  Epoch:5  Epoch:6  Epoch:7  Epoch:8  \\\n",
       "0   0.9496   0.9579   0.9673   0.9714   0.9705   0.9691   0.9736   0.9758   \n",
       "\n",
       "   Epoch:9  Epoch:10  \n",
       "0   0.9758    0.9765  "
      ]
     },
     "execution_count": 9,
     "metadata": {},
     "output_type": "execute_result"
    }
   ],
   "source": [
    "results=train_nn(epochs=10,optimizer=optim.SGD(model.parameters(),lr=0.04,momentum=0.95))\n",
    "test_acc=[]\n",
    "test_acc.append(results)\n",
    "torch.save(model.state_dict(), 'NN_SGD_10E_lr0.04_mm0.95.pth')\n",
    "print('Model saved as NN_SGD_10E_lr0.04_mm0.95.pth')\n",
    "print('Number of Parameters:',count_parameters(model))\n",
    "results_16=pd.DataFrame(test_acc,columns=epoch_list)\n",
    "results_16"
   ]
  },
  {
   "cell_type": "markdown",
   "metadata": {},
   "source": [
    "**Out of all models yet fitted,combination of learning rate as 0.04 and momentum 0.9 gives best average accuracy.We now try that model for SGD with Nesterov**"
   ]
  },
  {
   "cell_type": "code",
   "execution_count": 9,
   "metadata": {},
   "outputs": [
    {
     "name": "stdout",
     "output_type": "stream",
     "text": [
      "Model saved as NN_SGD_10E_lr0.04_mm0.9_nest.pth\n",
      "Number of Parameters: 242762\n"
     ]
    },
    {
     "data": {
      "text/html": [
       "<div>\n",
       "<style scoped>\n",
       "    .dataframe tbody tr th:only-of-type {\n",
       "        vertical-align: middle;\n",
       "    }\n",
       "\n",
       "    .dataframe tbody tr th {\n",
       "        vertical-align: top;\n",
       "    }\n",
       "\n",
       "    .dataframe thead th {\n",
       "        text-align: right;\n",
       "    }\n",
       "</style>\n",
       "<table border=\"1\" class=\"dataframe\">\n",
       "  <thead>\n",
       "    <tr style=\"text-align: right;\">\n",
       "      <th></th>\n",
       "      <th>Epoch:1</th>\n",
       "      <th>Epoch:2</th>\n",
       "      <th>Epoch:3</th>\n",
       "      <th>Epoch:4</th>\n",
       "      <th>Epoch:5</th>\n",
       "      <th>Epoch:6</th>\n",
       "      <th>Epoch:7</th>\n",
       "      <th>Epoch:8</th>\n",
       "      <th>Epoch:9</th>\n",
       "      <th>Epoch:10</th>\n",
       "    </tr>\n",
       "  </thead>\n",
       "  <tbody>\n",
       "    <tr>\n",
       "      <td>0</td>\n",
       "      <td>0.9581</td>\n",
       "      <td>0.9664</td>\n",
       "      <td>0.9725</td>\n",
       "      <td>0.9756</td>\n",
       "      <td>0.977</td>\n",
       "      <td>0.9759</td>\n",
       "      <td>0.98</td>\n",
       "      <td>0.9795</td>\n",
       "      <td>0.9798</td>\n",
       "      <td>0.9783</td>\n",
       "    </tr>\n",
       "  </tbody>\n",
       "</table>\n",
       "</div>"
      ],
      "text/plain": [
       "   Epoch:1  Epoch:2  Epoch:3  Epoch:4  Epoch:5  Epoch:6  Epoch:7  Epoch:8  \\\n",
       "0   0.9581   0.9664   0.9725   0.9756    0.977   0.9759     0.98   0.9795   \n",
       "\n",
       "   Epoch:9  Epoch:10  \n",
       "0   0.9798    0.9783  "
      ]
     },
     "execution_count": 9,
     "metadata": {},
     "output_type": "execute_result"
    }
   ],
   "source": [
    "results=train_nn(epochs=10,optimizer=optim.SGD(model.parameters(),lr=0.04,momentum=0.9,nesterov=True))\n",
    "test_acc=[]\n",
    "test_acc.append(results)\n",
    "torch.save(model.state_dict(), 'NN_SGD_10E_lr0.04_mm0.9_nest.pth')\n",
    "print('Model saved as NN_SGD_10E_lr0.04_mm0.9_nest.pth')\n",
    "print('Number of Parameters:',count_parameters(model))\n",
    "results_17=pd.DataFrame(test_acc,columns=epoch_list)\n",
    "results_17"
   ]
  },
  {
   "cell_type": "markdown",
   "metadata": {},
   "source": [
    "**Best Average accuracy yet.**"
   ]
  },
  {
   "cell_type": "markdown",
   "metadata": {},
   "source": [
    "### 2. Optimizer-Adam"
   ]
  },
  {
   "cell_type": "markdown",
   "metadata": {},
   "source": [
    "#### Tuning Learning Rate"
   ]
  },
  {
   "cell_type": "markdown",
   "metadata": {},
   "source": [
    "Fitting model with Adam where learning rate is 0.1."
   ]
  },
  {
   "cell_type": "code",
   "execution_count": 9,
   "metadata": {
    "scrolled": true
   },
   "outputs": [
    {
     "name": "stdout",
     "output_type": "stream",
     "text": [
      "Model saved as NN_Adam_10E_lr0.1.pth\n",
      "Number of Parameters: 242762\n"
     ]
    },
    {
     "data": {
      "text/html": [
       "<div>\n",
       "<style scoped>\n",
       "    .dataframe tbody tr th:only-of-type {\n",
       "        vertical-align: middle;\n",
       "    }\n",
       "\n",
       "    .dataframe tbody tr th {\n",
       "        vertical-align: top;\n",
       "    }\n",
       "\n",
       "    .dataframe thead th {\n",
       "        text-align: right;\n",
       "    }\n",
       "</style>\n",
       "<table border=\"1\" class=\"dataframe\">\n",
       "  <thead>\n",
       "    <tr style=\"text-align: right;\">\n",
       "      <th></th>\n",
       "      <th>Epoch:1</th>\n",
       "      <th>Epoch:2</th>\n",
       "      <th>Epoch:3</th>\n",
       "      <th>Epoch:4</th>\n",
       "      <th>Epoch:5</th>\n",
       "      <th>Epoch:6</th>\n",
       "      <th>Epoch:7</th>\n",
       "      <th>Epoch:8</th>\n",
       "      <th>Epoch:9</th>\n",
       "      <th>Epoch:10</th>\n",
       "    </tr>\n",
       "  </thead>\n",
       "  <tbody>\n",
       "    <tr>\n",
       "      <td>0</td>\n",
       "      <td>0.1009</td>\n",
       "      <td>0.1032</td>\n",
       "      <td>0.1028</td>\n",
       "      <td>0.1028</td>\n",
       "      <td>0.0974</td>\n",
       "      <td>0.1135</td>\n",
       "      <td>0.0982</td>\n",
       "      <td>0.1135</td>\n",
       "      <td>0.098</td>\n",
       "      <td>0.1009</td>\n",
       "    </tr>\n",
       "  </tbody>\n",
       "</table>\n",
       "</div>"
      ],
      "text/plain": [
       "   Epoch:1  Epoch:2  Epoch:3  Epoch:4  Epoch:5  Epoch:6  Epoch:7  Epoch:8  \\\n",
       "0   0.1009   0.1032   0.1028   0.1028   0.0974   0.1135   0.0982   0.1135   \n",
       "\n",
       "   Epoch:9  Epoch:10  \n",
       "0    0.098    0.1009  "
      ]
     },
     "execution_count": 9,
     "metadata": {},
     "output_type": "execute_result"
    }
   ],
   "source": [
    "results=train_nn(epochs=10,optimizer=optim.Adam(model.parameters(),lr=0.1))\n",
    "test_acc=[]\n",
    "test_acc.append(results)\n",
    "torch.save(model.state_dict(), 'NN_Adam_10E_lr0.1.pth')\n",
    "print('Model saved as NN_Adam_10E_lr0.1.pth')\n",
    "print('Number of Parameters:',count_parameters(model))\n",
    "results_18=pd.DataFrame(test_acc,columns=epoch_list)\n",
    "results_18"
   ]
  },
  {
   "cell_type": "markdown",
   "metadata": {},
   "source": [
    "Fitting model with Adam where learning rate is 0."
   ]
  },
  {
   "cell_type": "code",
   "execution_count": 9,
   "metadata": {},
   "outputs": [
    {
     "name": "stdout",
     "output_type": "stream",
     "text": [
      "Model saved as NN_SGD_10E_lr0.pth\n",
      "Number of Parameters: 242762\n"
     ]
    },
    {
     "data": {
      "text/html": [
       "<div>\n",
       "<style scoped>\n",
       "    .dataframe tbody tr th:only-of-type {\n",
       "        vertical-align: middle;\n",
       "    }\n",
       "\n",
       "    .dataframe tbody tr th {\n",
       "        vertical-align: top;\n",
       "    }\n",
       "\n",
       "    .dataframe thead th {\n",
       "        text-align: right;\n",
       "    }\n",
       "</style>\n",
       "<table border=\"1\" class=\"dataframe\">\n",
       "  <thead>\n",
       "    <tr style=\"text-align: right;\">\n",
       "      <th></th>\n",
       "      <th>Epoch:1</th>\n",
       "      <th>Epoch:2</th>\n",
       "      <th>Epoch:3</th>\n",
       "      <th>Epoch:4</th>\n",
       "      <th>Epoch:5</th>\n",
       "      <th>Epoch:6</th>\n",
       "      <th>Epoch:7</th>\n",
       "      <th>Epoch:8</th>\n",
       "      <th>Epoch:9</th>\n",
       "      <th>Epoch:10</th>\n",
       "    </tr>\n",
       "  </thead>\n",
       "  <tbody>\n",
       "    <tr>\n",
       "      <td>0</td>\n",
       "      <td>0.0744</td>\n",
       "      <td>0.0744</td>\n",
       "      <td>0.0744</td>\n",
       "      <td>0.0744</td>\n",
       "      <td>0.0744</td>\n",
       "      <td>0.0744</td>\n",
       "      <td>0.0744</td>\n",
       "      <td>0.0744</td>\n",
       "      <td>0.0744</td>\n",
       "      <td>0.0744</td>\n",
       "    </tr>\n",
       "  </tbody>\n",
       "</table>\n",
       "</div>"
      ],
      "text/plain": [
       "   Epoch:1  Epoch:2  Epoch:3  Epoch:4  Epoch:5  Epoch:6  Epoch:7  Epoch:8  \\\n",
       "0   0.0744   0.0744   0.0744   0.0744   0.0744   0.0744   0.0744   0.0744   \n",
       "\n",
       "   Epoch:9  Epoch:10  \n",
       "0   0.0744    0.0744  "
      ]
     },
     "execution_count": 9,
     "metadata": {},
     "output_type": "execute_result"
    }
   ],
   "source": [
    "results=train_nn(epochs=10,optimizer=optim.Adam(model.parameters(),lr=0))\n",
    "test_acc=[]\n",
    "test_acc.append(results)\n",
    "torch.save(model.state_dict(), 'NN_Adam_10E_lr0.pth')\n",
    "print('Model saved as NN_Adam_10E_lr0.pth')\n",
    "print('Number of Parameters:',count_parameters(model))\n",
    "results_19=pd.DataFrame(test_acc,columns=epoch_list)\n",
    "results_19"
   ]
  },
  {
   "cell_type": "markdown",
   "metadata": {},
   "source": [
    "Fitting model with Adam where learning rate is 0.02."
   ]
  },
  {
   "cell_type": "code",
   "execution_count": 9,
   "metadata": {},
   "outputs": [
    {
     "name": "stdout",
     "output_type": "stream",
     "text": [
      "Model saved as NN_Adam_10E_lr0.02.pth\n",
      "Number of Parameters: 242762\n"
     ]
    },
    {
     "data": {
      "text/html": [
       "<div>\n",
       "<style scoped>\n",
       "    .dataframe tbody tr th:only-of-type {\n",
       "        vertical-align: middle;\n",
       "    }\n",
       "\n",
       "    .dataframe tbody tr th {\n",
       "        vertical-align: top;\n",
       "    }\n",
       "\n",
       "    .dataframe thead th {\n",
       "        text-align: right;\n",
       "    }\n",
       "</style>\n",
       "<table border=\"1\" class=\"dataframe\">\n",
       "  <thead>\n",
       "    <tr style=\"text-align: right;\">\n",
       "      <th></th>\n",
       "      <th>Epoch:1</th>\n",
       "      <th>Epoch:2</th>\n",
       "      <th>Epoch:3</th>\n",
       "      <th>Epoch:4</th>\n",
       "      <th>Epoch:5</th>\n",
       "      <th>Epoch:6</th>\n",
       "      <th>Epoch:7</th>\n",
       "      <th>Epoch:8</th>\n",
       "      <th>Epoch:9</th>\n",
       "      <th>Epoch:10</th>\n",
       "    </tr>\n",
       "  </thead>\n",
       "  <tbody>\n",
       "    <tr>\n",
       "      <td>0</td>\n",
       "      <td>0.9138</td>\n",
       "      <td>0.9044</td>\n",
       "      <td>0.9153</td>\n",
       "      <td>0.929</td>\n",
       "      <td>0.9336</td>\n",
       "      <td>0.934</td>\n",
       "      <td>0.9272</td>\n",
       "      <td>0.9276</td>\n",
       "      <td>0.9247</td>\n",
       "      <td>0.9264</td>\n",
       "    </tr>\n",
       "  </tbody>\n",
       "</table>\n",
       "</div>"
      ],
      "text/plain": [
       "   Epoch:1  Epoch:2  Epoch:3  Epoch:4  Epoch:5  Epoch:6  Epoch:7  Epoch:8  \\\n",
       "0   0.9138   0.9044   0.9153    0.929   0.9336    0.934   0.9272   0.9276   \n",
       "\n",
       "   Epoch:9  Epoch:10  \n",
       "0   0.9247    0.9264  "
      ]
     },
     "execution_count": 9,
     "metadata": {},
     "output_type": "execute_result"
    }
   ],
   "source": [
    "results=train_nn(epochs=10,optimizer=optim.Adam(model.parameters(),lr=0.02))\n",
    "test_acc=[]\n",
    "test_acc.append(results)\n",
    "torch.save(model.state_dict(), 'NN_Adam_10E_lr0.02.pth')\n",
    "print('Model saved as NN_Adam_10E_lr0.02.pth')\n",
    "print('Number of Parameters:',count_parameters(model))\n",
    "results_20=pd.DataFrame(test_acc,columns=epoch_list)\n",
    "results_20"
   ]
  },
  {
   "cell_type": "markdown",
   "metadata": {},
   "source": [
    "Fitting model with Adam where learning rate is 0.04."
   ]
  },
  {
   "cell_type": "code",
   "execution_count": 9,
   "metadata": {},
   "outputs": [
    {
     "name": "stdout",
     "output_type": "stream",
     "text": [
      "Model saved as NN_Adam_10E_lr0.04.pth\n",
      "Number of Parameters: 242762\n"
     ]
    },
    {
     "data": {
      "text/html": [
       "<div>\n",
       "<style scoped>\n",
       "    .dataframe tbody tr th:only-of-type {\n",
       "        vertical-align: middle;\n",
       "    }\n",
       "\n",
       "    .dataframe tbody tr th {\n",
       "        vertical-align: top;\n",
       "    }\n",
       "\n",
       "    .dataframe thead th {\n",
       "        text-align: right;\n",
       "    }\n",
       "</style>\n",
       "<table border=\"1\" class=\"dataframe\">\n",
       "  <thead>\n",
       "    <tr style=\"text-align: right;\">\n",
       "      <th></th>\n",
       "      <th>Epoch:1</th>\n",
       "      <th>Epoch:2</th>\n",
       "      <th>Epoch:3</th>\n",
       "      <th>Epoch:4</th>\n",
       "      <th>Epoch:5</th>\n",
       "      <th>Epoch:6</th>\n",
       "      <th>Epoch:7</th>\n",
       "      <th>Epoch:8</th>\n",
       "      <th>Epoch:9</th>\n",
       "      <th>Epoch:10</th>\n",
       "    </tr>\n",
       "  </thead>\n",
       "  <tbody>\n",
       "    <tr>\n",
       "      <td>0</td>\n",
       "      <td>0.6084</td>\n",
       "      <td>0.5722</td>\n",
       "      <td>0.5559</td>\n",
       "      <td>0.4812</td>\n",
       "      <td>0.4523</td>\n",
       "      <td>0.4845</td>\n",
       "      <td>0.3754</td>\n",
       "      <td>0.3753</td>\n",
       "      <td>0.3464</td>\n",
       "      <td>0.3333</td>\n",
       "    </tr>\n",
       "  </tbody>\n",
       "</table>\n",
       "</div>"
      ],
      "text/plain": [
       "   Epoch:1  Epoch:2  Epoch:3  Epoch:4  Epoch:5  Epoch:6  Epoch:7  Epoch:8  \\\n",
       "0   0.6084   0.5722   0.5559   0.4812   0.4523   0.4845   0.3754   0.3753   \n",
       "\n",
       "   Epoch:9  Epoch:10  \n",
       "0   0.3464    0.3333  "
      ]
     },
     "execution_count": 9,
     "metadata": {},
     "output_type": "execute_result"
    }
   ],
   "source": [
    "results=train_nn(epochs=10,optimizer=optim.Adam(model.parameters(),lr=0.04))\n",
    "test_acc=[]\n",
    "test_acc.append(results)\n",
    "torch.save(model.state_dict(), 'NN_Adam_10E_lr0.04.pth')\n",
    "print('Model saved as NN_Adam_10E_lr0.04.pth')\n",
    "print('Number of Parameters:',count_parameters(model))\n",
    "results_21=pd.DataFrame(test_acc,columns=epoch_list)\n",
    "results_21"
   ]
  },
  {
   "cell_type": "markdown",
   "metadata": {},
   "source": [
    "Fitting model with Adam where learning rate is 0.01."
   ]
  },
  {
   "cell_type": "code",
   "execution_count": 7,
   "metadata": {},
   "outputs": [
    {
     "name": "stdout",
     "output_type": "stream",
     "text": [
      "Model saved as NN_Adam_10E_lr0.01.pth\n",
      "Number of Parameters: 242762\n"
     ]
    },
    {
     "data": {
      "text/html": [
       "<div>\n",
       "<style scoped>\n",
       "    .dataframe tbody tr th:only-of-type {\n",
       "        vertical-align: middle;\n",
       "    }\n",
       "\n",
       "    .dataframe tbody tr th {\n",
       "        vertical-align: top;\n",
       "    }\n",
       "\n",
       "    .dataframe thead th {\n",
       "        text-align: right;\n",
       "    }\n",
       "</style>\n",
       "<table border=\"1\" class=\"dataframe\">\n",
       "  <thead>\n",
       "    <tr style=\"text-align: right;\">\n",
       "      <th></th>\n",
       "      <th>Epoch:1</th>\n",
       "      <th>Epoch:2</th>\n",
       "      <th>Epoch:3</th>\n",
       "      <th>Epoch:4</th>\n",
       "      <th>Epoch:5</th>\n",
       "      <th>Epoch:6</th>\n",
       "      <th>Epoch:7</th>\n",
       "      <th>Epoch:8</th>\n",
       "      <th>Epoch:9</th>\n",
       "      <th>Epoch:10</th>\n",
       "    </tr>\n",
       "  </thead>\n",
       "  <tbody>\n",
       "    <tr>\n",
       "      <td>0</td>\n",
       "      <td>0.948</td>\n",
       "      <td>0.9485</td>\n",
       "      <td>0.9602</td>\n",
       "      <td>0.9602</td>\n",
       "      <td>0.9525</td>\n",
       "      <td>0.9635</td>\n",
       "      <td>0.9596</td>\n",
       "      <td>0.9611</td>\n",
       "      <td>0.9577</td>\n",
       "      <td>0.9647</td>\n",
       "    </tr>\n",
       "  </tbody>\n",
       "</table>\n",
       "</div>"
      ],
      "text/plain": [
       "   Epoch:1  Epoch:2  Epoch:3  Epoch:4  Epoch:5  Epoch:6  Epoch:7  Epoch:8  \\\n",
       "0    0.948   0.9485   0.9602   0.9602   0.9525   0.9635   0.9596   0.9611   \n",
       "\n",
       "   Epoch:9  Epoch:10  \n",
       "0   0.9577    0.9647  "
      ]
     },
     "execution_count": 7,
     "metadata": {},
     "output_type": "execute_result"
    }
   ],
   "source": [
    "results=train_nn(epochs=10,optimizer=optim.Adam(model.parameters(),lr=0.01))\n",
    "test_acc=[]\n",
    "test_acc.append(results)\n",
    "torch.save(model.state_dict(), 'NN_Adam_10E_lr0.01.pth')\n",
    "print('Model saved as NN_Adam_10E_lr0.01.pth')\n",
    "print('Number of Parameters:',count_parameters(model))\n",
    "results_22=pd.DataFrame(test_acc,columns=epoch_list)\n",
    "results_22"
   ]
  },
  {
   "cell_type": "markdown",
   "metadata": {},
   "source": [
    "Fitting model with Adam where learning rate is 0.005."
   ]
  },
  {
   "cell_type": "code",
   "execution_count": 5,
   "metadata": {},
   "outputs": [
    {
     "name": "stdout",
     "output_type": "stream",
     "text": [
      "Model saved as NN_Adam_10E_lr0.005.pth\n",
      "Number of Parameters: 242762\n"
     ]
    },
    {
     "data": {
      "text/html": [
       "<div>\n",
       "<style scoped>\n",
       "    .dataframe tbody tr th:only-of-type {\n",
       "        vertical-align: middle;\n",
       "    }\n",
       "\n",
       "    .dataframe tbody tr th {\n",
       "        vertical-align: top;\n",
       "    }\n",
       "\n",
       "    .dataframe thead th {\n",
       "        text-align: right;\n",
       "    }\n",
       "</style>\n",
       "<table border=\"1\" class=\"dataframe\">\n",
       "  <thead>\n",
       "    <tr style=\"text-align: right;\">\n",
       "      <th></th>\n",
       "      <th>Epoch:1</th>\n",
       "      <th>Epoch:2</th>\n",
       "      <th>Epoch:3</th>\n",
       "      <th>Epoch:4</th>\n",
       "      <th>Epoch:5</th>\n",
       "      <th>Epoch:6</th>\n",
       "      <th>Epoch:7</th>\n",
       "      <th>Epoch:8</th>\n",
       "      <th>Epoch:9</th>\n",
       "      <th>Epoch:10</th>\n",
       "    </tr>\n",
       "  </thead>\n",
       "  <tbody>\n",
       "    <tr>\n",
       "      <td>0</td>\n",
       "      <td>0.9571</td>\n",
       "      <td>0.9572</td>\n",
       "      <td>0.9657</td>\n",
       "      <td>0.9675</td>\n",
       "      <td>0.9682</td>\n",
       "      <td>0.9706</td>\n",
       "      <td>0.9739</td>\n",
       "      <td>0.974</td>\n",
       "      <td>0.9709</td>\n",
       "      <td>0.9744</td>\n",
       "    </tr>\n",
       "  </tbody>\n",
       "</table>\n",
       "</div>"
      ],
      "text/plain": [
       "   Epoch:1  Epoch:2  Epoch:3  Epoch:4  Epoch:5  Epoch:6  Epoch:7  Epoch:8  \\\n",
       "0   0.9571   0.9572   0.9657   0.9675   0.9682   0.9706   0.9739    0.974   \n",
       "\n",
       "   Epoch:9  Epoch:10  \n",
       "0   0.9709    0.9744  "
      ]
     },
     "execution_count": 5,
     "metadata": {},
     "output_type": "execute_result"
    }
   ],
   "source": [
    "results=train_nn(epochs=10,optimizer=optim.Adam(model.parameters(),lr=0.005))\n",
    "test_acc=[]\n",
    "test_acc.append(results)\n",
    "torch.save(model.state_dict(), 'NN_Adam_10E_lr0.005.pth')\n",
    "print('Model saved as NN_Adam_10E_lr0.005.pth')\n",
    "print('Number of Parameters:',count_parameters(model))\n",
    "results_23=pd.DataFrame(test_acc,columns=epoch_list)\n",
    "results_23"
   ]
  },
  {
   "cell_type": "markdown",
   "metadata": {},
   "source": [
    "Fitting model with Adam where learning rate is 0.003."
   ]
  },
  {
   "cell_type": "code",
   "execution_count": 5,
   "metadata": {},
   "outputs": [
    {
     "name": "stdout",
     "output_type": "stream",
     "text": [
      "Model saved as NN_Adam_10E_lr0.003.pth\n",
      "Number of Parameters: 242762\n"
     ]
    },
    {
     "data": {
      "text/html": [
       "<div>\n",
       "<style scoped>\n",
       "    .dataframe tbody tr th:only-of-type {\n",
       "        vertical-align: middle;\n",
       "    }\n",
       "\n",
       "    .dataframe tbody tr th {\n",
       "        vertical-align: top;\n",
       "    }\n",
       "\n",
       "    .dataframe thead th {\n",
       "        text-align: right;\n",
       "    }\n",
       "</style>\n",
       "<table border=\"1\" class=\"dataframe\">\n",
       "  <thead>\n",
       "    <tr style=\"text-align: right;\">\n",
       "      <th></th>\n",
       "      <th>Epoch:1</th>\n",
       "      <th>Epoch:2</th>\n",
       "      <th>Epoch:3</th>\n",
       "      <th>Epoch:4</th>\n",
       "      <th>Epoch:5</th>\n",
       "      <th>Epoch:6</th>\n",
       "      <th>Epoch:7</th>\n",
       "      <th>Epoch:8</th>\n",
       "      <th>Epoch:9</th>\n",
       "      <th>Epoch:10</th>\n",
       "    </tr>\n",
       "  </thead>\n",
       "  <tbody>\n",
       "    <tr>\n",
       "      <td>0</td>\n",
       "      <td>0.9618</td>\n",
       "      <td>0.9662</td>\n",
       "      <td>0.9723</td>\n",
       "      <td>0.9733</td>\n",
       "      <td>0.9744</td>\n",
       "      <td>0.9766</td>\n",
       "      <td>0.9769</td>\n",
       "      <td>0.9795</td>\n",
       "      <td>0.976</td>\n",
       "      <td>0.9769</td>\n",
       "    </tr>\n",
       "  </tbody>\n",
       "</table>\n",
       "</div>"
      ],
      "text/plain": [
       "   Epoch:1  Epoch:2  Epoch:3  Epoch:4  Epoch:5  Epoch:6  Epoch:7  Epoch:8  \\\n",
       "0   0.9618   0.9662   0.9723   0.9733   0.9744   0.9766   0.9769   0.9795   \n",
       "\n",
       "   Epoch:9  Epoch:10  \n",
       "0    0.976    0.9769  "
      ]
     },
     "execution_count": 5,
     "metadata": {},
     "output_type": "execute_result"
    }
   ],
   "source": [
    "results=train_nn(epochs=10,optimizer=optim.Adam(model.parameters(),lr=0.003))\n",
    "test_acc=[]\n",
    "test_acc.append(results)\n",
    "torch.save(model.state_dict(), 'NN_Adam_10E_lr0.003.pth')\n",
    "print('Model saved as NN_Adam_10E_lr0.003.pth')\n",
    "print('Number of Parameters:',count_parameters(model))\n",
    "results_24=pd.DataFrame(test_acc,columns=epoch_list)\n",
    "results_24"
   ]
  },
  {
   "cell_type": "markdown",
   "metadata": {},
   "source": [
    "Fitting model with Adam where learning rate is 0.007."
   ]
  },
  {
   "cell_type": "code",
   "execution_count": 5,
   "metadata": {},
   "outputs": [
    {
     "name": "stdout",
     "output_type": "stream",
     "text": [
      "Model saved as NN_Adam_10E_lr0.007.pth\n",
      "Number of Parameters: 242762\n"
     ]
    },
    {
     "data": {
      "text/html": [
       "<div>\n",
       "<style scoped>\n",
       "    .dataframe tbody tr th:only-of-type {\n",
       "        vertical-align: middle;\n",
       "    }\n",
       "\n",
       "    .dataframe tbody tr th {\n",
       "        vertical-align: top;\n",
       "    }\n",
       "\n",
       "    .dataframe thead th {\n",
       "        text-align: right;\n",
       "    }\n",
       "</style>\n",
       "<table border=\"1\" class=\"dataframe\">\n",
       "  <thead>\n",
       "    <tr style=\"text-align: right;\">\n",
       "      <th></th>\n",
       "      <th>Epoch:1</th>\n",
       "      <th>Epoch:2</th>\n",
       "      <th>Epoch:3</th>\n",
       "      <th>Epoch:4</th>\n",
       "      <th>Epoch:5</th>\n",
       "      <th>Epoch:6</th>\n",
       "      <th>Epoch:7</th>\n",
       "      <th>Epoch:8</th>\n",
       "      <th>Epoch:9</th>\n",
       "      <th>Epoch:10</th>\n",
       "    </tr>\n",
       "  </thead>\n",
       "  <tbody>\n",
       "    <tr>\n",
       "      <td>0</td>\n",
       "      <td>0.9525</td>\n",
       "      <td>0.9594</td>\n",
       "      <td>0.9619</td>\n",
       "      <td>0.9625</td>\n",
       "      <td>0.9672</td>\n",
       "      <td>0.968</td>\n",
       "      <td>0.9689</td>\n",
       "      <td>0.9671</td>\n",
       "      <td>0.971</td>\n",
       "      <td>0.9686</td>\n",
       "    </tr>\n",
       "  </tbody>\n",
       "</table>\n",
       "</div>"
      ],
      "text/plain": [
       "   Epoch:1  Epoch:2  Epoch:3  Epoch:4  Epoch:5  Epoch:6  Epoch:7  Epoch:8  \\\n",
       "0   0.9525   0.9594   0.9619   0.9625   0.9672    0.968   0.9689   0.9671   \n",
       "\n",
       "   Epoch:9  Epoch:10  \n",
       "0    0.971    0.9686  "
      ]
     },
     "execution_count": 5,
     "metadata": {},
     "output_type": "execute_result"
    }
   ],
   "source": [
    "results=train_nn(epochs=10,optimizer=optim.Adam(model.parameters(),lr=0.007))\n",
    "test_acc=[]\n",
    "test_acc.append(results)\n",
    "torch.save(model.state_dict(), 'NN_Adam_10E_lr0.007.pth')\n",
    "print('Model saved as NN_Adam_10E_lr0.007.pth')\n",
    "print('Number of Parameters:',count_parameters(model))\n",
    "results_25=pd.DataFrame(test_acc,columns=epoch_list)\n",
    "results_25"
   ]
  },
  {
   "cell_type": "markdown",
   "metadata": {},
   "source": [
    "Fitting model with Adam where learning rate is 0.001."
   ]
  },
  {
   "cell_type": "code",
   "execution_count": 5,
   "metadata": {},
   "outputs": [
    {
     "name": "stdout",
     "output_type": "stream",
     "text": [
      "Model saved as NN_Adam_10E_lr0.001.pth\n",
      "Number of Parameters: 242762\n"
     ]
    },
    {
     "data": {
      "text/html": [
       "<div>\n",
       "<style scoped>\n",
       "    .dataframe tbody tr th:only-of-type {\n",
       "        vertical-align: middle;\n",
       "    }\n",
       "\n",
       "    .dataframe tbody tr th {\n",
       "        vertical-align: top;\n",
       "    }\n",
       "\n",
       "    .dataframe thead th {\n",
       "        text-align: right;\n",
       "    }\n",
       "</style>\n",
       "<table border=\"1\" class=\"dataframe\">\n",
       "  <thead>\n",
       "    <tr style=\"text-align: right;\">\n",
       "      <th></th>\n",
       "      <th>Epoch:1</th>\n",
       "      <th>Epoch:2</th>\n",
       "      <th>Epoch:3</th>\n",
       "      <th>Epoch:4</th>\n",
       "      <th>Epoch:5</th>\n",
       "      <th>Epoch:6</th>\n",
       "      <th>Epoch:7</th>\n",
       "      <th>Epoch:8</th>\n",
       "      <th>Epoch:9</th>\n",
       "      <th>Epoch:10</th>\n",
       "    </tr>\n",
       "  </thead>\n",
       "  <tbody>\n",
       "    <tr>\n",
       "      <td>0</td>\n",
       "      <td>0.9561</td>\n",
       "      <td>0.9707</td>\n",
       "      <td>0.974</td>\n",
       "      <td>0.9771</td>\n",
       "      <td>0.9792</td>\n",
       "      <td>0.9768</td>\n",
       "      <td>0.9792</td>\n",
       "      <td>0.981</td>\n",
       "      <td>0.9787</td>\n",
       "      <td>0.9819</td>\n",
       "    </tr>\n",
       "  </tbody>\n",
       "</table>\n",
       "</div>"
      ],
      "text/plain": [
       "   Epoch:1  Epoch:2  Epoch:3  Epoch:4  Epoch:5  Epoch:6  Epoch:7  Epoch:8  \\\n",
       "0   0.9561   0.9707    0.974   0.9771   0.9792   0.9768   0.9792    0.981   \n",
       "\n",
       "   Epoch:9  Epoch:10  \n",
       "0   0.9787    0.9819  "
      ]
     },
     "execution_count": 5,
     "metadata": {},
     "output_type": "execute_result"
    }
   ],
   "source": [
    "results=train_nn(epochs=10,optimizer=optim.Adam(model.parameters(),lr=0.001))\n",
    "test_acc=[]\n",
    "test_acc.append(results)\n",
    "torch.save(model.state_dict(), 'NN_Adam_10E_lr0.001.pth')\n",
    "print('Model saved as NN_Adam_10E_lr0.001.pth')\n",
    "print('Number of Parameters:',count_parameters(model))\n",
    "results_26=pd.DataFrame(test_acc,columns=epoch_list)\n",
    "results_26"
   ]
  },
  {
   "cell_type": "markdown",
   "metadata": {},
   "source": [
    "Fitting model with Adam where learning rate is 0.0005."
   ]
  },
  {
   "cell_type": "code",
   "execution_count": 5,
   "metadata": {},
   "outputs": [
    {
     "name": "stdout",
     "output_type": "stream",
     "text": [
      "Model saved as NN_Adam_10E_lr0.0005.pth\n",
      "Number of Parameters: 242762\n"
     ]
    },
    {
     "data": {
      "text/html": [
       "<div>\n",
       "<style scoped>\n",
       "    .dataframe tbody tr th:only-of-type {\n",
       "        vertical-align: middle;\n",
       "    }\n",
       "\n",
       "    .dataframe tbody tr th {\n",
       "        vertical-align: top;\n",
       "    }\n",
       "\n",
       "    .dataframe thead th {\n",
       "        text-align: right;\n",
       "    }\n",
       "</style>\n",
       "<table border=\"1\" class=\"dataframe\">\n",
       "  <thead>\n",
       "    <tr style=\"text-align: right;\">\n",
       "      <th></th>\n",
       "      <th>Epoch:1</th>\n",
       "      <th>Epoch:2</th>\n",
       "      <th>Epoch:3</th>\n",
       "      <th>Epoch:4</th>\n",
       "      <th>Epoch:5</th>\n",
       "      <th>Epoch:6</th>\n",
       "      <th>Epoch:7</th>\n",
       "      <th>Epoch:8</th>\n",
       "      <th>Epoch:9</th>\n",
       "      <th>Epoch:10</th>\n",
       "    </tr>\n",
       "  </thead>\n",
       "  <tbody>\n",
       "    <tr>\n",
       "      <td>0</td>\n",
       "      <td>0.9451</td>\n",
       "      <td>0.9633</td>\n",
       "      <td>0.9701</td>\n",
       "      <td>0.9757</td>\n",
       "      <td>0.9767</td>\n",
       "      <td>0.9784</td>\n",
       "      <td>0.978</td>\n",
       "      <td>0.9794</td>\n",
       "      <td>0.9785</td>\n",
       "      <td>0.9813</td>\n",
       "    </tr>\n",
       "  </tbody>\n",
       "</table>\n",
       "</div>"
      ],
      "text/plain": [
       "   Epoch:1  Epoch:2  Epoch:3  Epoch:4  Epoch:5  Epoch:6  Epoch:7  Epoch:8  \\\n",
       "0   0.9451   0.9633   0.9701   0.9757   0.9767   0.9784    0.978   0.9794   \n",
       "\n",
       "   Epoch:9  Epoch:10  \n",
       "0   0.9785    0.9813  "
      ]
     },
     "execution_count": 5,
     "metadata": {},
     "output_type": "execute_result"
    }
   ],
   "source": [
    "results=train_nn(epochs=10,optimizer=optim.Adam(model.parameters(),lr=0.0005))\n",
    "test_acc=[]\n",
    "test_acc.append(results)\n",
    "torch.save(model.state_dict(), 'NN_Adam_10E_lr0.0005.pth')\n",
    "print('Model saved as NN_Adam_10E_lr0.0005.pth')\n",
    "print('Number of Parameters:',count_parameters(model))\n",
    "results_27=pd.DataFrame(test_acc,columns=epoch_list)\n",
    "results_27"
   ]
  },
  {
   "cell_type": "markdown",
   "metadata": {},
   "source": [
    "**Best accuracy given by Adam with learning rate as 0.001**"
   ]
  },
  {
   "cell_type": "markdown",
   "metadata": {},
   "source": [
    "## Fitting good models with normalized data"
   ]
  },
  {
   "cell_type": "markdown",
   "metadata": {},
   "source": [
    "#### Trainloader for normalized data"
   ]
  },
  {
   "cell_type": "code",
   "execution_count": 4,
   "metadata": {},
   "outputs": [],
   "source": [
    "transform = transforms.Compose([transforms.ToTensor(),\n",
    "                              transforms.Normalize((0.5,), (0.5,)),\n",
    "                              ])\n",
    "trainset=datasets.MNIST('~/.pytorch/MNIST_data/',train=True,transform=transform,download=True)\n",
    "testset=datasets.MNIST('~/.pytorch/MNIST_data/',train=False,transform=transform,download=True)\n",
    "\n",
    "trainloader=torch.utils.data.DataLoader(trainset,batch_size=64,shuffle=True,num_workers=0,worker_init_fn=_init_fn)\n",
    "testloader=torch.utils.data.DataLoader(testset,batch_size=64,shuffle=True,num_workers=0,worker_init_fn=_init_fn)"
   ]
  },
  {
   "cell_type": "markdown",
   "metadata": {},
   "source": [
    "Fitting model with Adam where learning rate is 0.01."
   ]
  },
  {
   "cell_type": "code",
   "execution_count": 7,
   "metadata": {},
   "outputs": [
    {
     "name": "stdout",
     "output_type": "stream",
     "text": [
      "Number of Parameters: 242762\n",
      "Model saved as NN_Adam_10E_lr0.001_norm.pth\n"
     ]
    }
   ],
   "source": [
    "test_acc=[]\n",
    "results=train_nn(epochs=10,optimizer=optim.Adam(model.parameters(),lr=0.001))\n",
    "test_acc.append(results)\n",
    "epoch_list=['Epoch:'+str(i) for i in range(1,11)]\n",
    "print('Number of Parameters:',count_parameters(model))\n",
    "torch.save(model.state_dict(), 'NN_Adam_10E_lr0.001_norm.pth')\n",
    "print('Model saved as NN_Adam_10E_lr0.001_norm.pth')\n",
    "results_28=pd.DataFrame(test_acc,columns=epoch_list)\n",
    "results_28"
   ]
  },
  {
   "cell_type": "markdown",
   "metadata": {},
   "source": [
    "Fitting model with SGD with Nesterov,learning rate as 0.04 and momentum as 0.9."
   ]
  },
  {
   "cell_type": "code",
   "execution_count": 8,
   "metadata": {},
   "outputs": [
    {
     "name": "stdout",
     "output_type": "stream",
     "text": [
      "Model saved as NN_Adam_10E_lr0.04_mm0.9_nest_norm.pth\n",
      "Number of Parameters: 242762\n"
     ]
    },
    {
     "data": {
      "text/html": [
       "<div>\n",
       "<style scoped>\n",
       "    .dataframe tbody tr th:only-of-type {\n",
       "        vertical-align: middle;\n",
       "    }\n",
       "\n",
       "    .dataframe tbody tr th {\n",
       "        vertical-align: top;\n",
       "    }\n",
       "\n",
       "    .dataframe thead th {\n",
       "        text-align: right;\n",
       "    }\n",
       "</style>\n",
       "<table border=\"1\" class=\"dataframe\">\n",
       "  <thead>\n",
       "    <tr style=\"text-align: right;\">\n",
       "      <th></th>\n",
       "      <th>Epoch:1</th>\n",
       "      <th>Epoch:2</th>\n",
       "      <th>Epoch:3</th>\n",
       "      <th>Epoch:4</th>\n",
       "      <th>Epoch:5</th>\n",
       "      <th>Epoch:6</th>\n",
       "      <th>Epoch:7</th>\n",
       "      <th>Epoch:8</th>\n",
       "      <th>Epoch:9</th>\n",
       "      <th>Epoch:10</th>\n",
       "    </tr>\n",
       "  </thead>\n",
       "  <tbody>\n",
       "    <tr>\n",
       "      <td>0</td>\n",
       "      <td>0.9263</td>\n",
       "      <td>0.9373</td>\n",
       "      <td>0.9445</td>\n",
       "      <td>0.9524</td>\n",
       "      <td>0.9597</td>\n",
       "      <td>0.961</td>\n",
       "      <td>0.9583</td>\n",
       "      <td>0.961</td>\n",
       "      <td>0.9619</td>\n",
       "      <td>0.9688</td>\n",
       "    </tr>\n",
       "  </tbody>\n",
       "</table>\n",
       "</div>"
      ],
      "text/plain": [
       "   Epoch:1  Epoch:2  Epoch:3  Epoch:4  Epoch:5  Epoch:6  Epoch:7  Epoch:8  \\\n",
       "0   0.9263   0.9373   0.9445   0.9524   0.9597    0.961   0.9583    0.961   \n",
       "\n",
       "   Epoch:9  Epoch:10  \n",
       "0   0.9619    0.9688  "
      ]
     },
     "execution_count": 8,
     "metadata": {},
     "output_type": "execute_result"
    }
   ],
   "source": [
    "test_acc=[]\n",
    "results=train_nn(epochs=10,optimizer=optim.SGD(model.parameters(),lr=0.04,momentum=0.9,nesterov=True))\n",
    "test_acc.append(results)\n",
    "epoch_list=['Epoch:'+str(i) for i in range(1,11)]\n",
    "torch.save(model.state_dict(), 'NN_SGD_10E_lr0.04_mm0.9_nest_norm.pth')\n",
    "print('Model saved as NN_Adam_10E_lr0.04_mm0.9_nest_norm.pth')\n",
    "print('Number of Parameters:',count_parameters(model))\n",
    "results_29=pd.DataFrame(test_acc,columns=epoch_list)\n",
    "results_29"
   ]
  },
  {
   "cell_type": "markdown",
   "metadata": {},
   "source": [
    "**No improvement in average accuracy**"
   ]
  },
  {
   "cell_type": "markdown",
   "metadata": {},
   "source": [
    "## Fitting good models with scaled data"
   ]
  },
  {
   "cell_type": "markdown",
   "metadata": {},
   "source": [
    "#### Trainloader for scaled non normalized data"
   ]
  },
  {
   "cell_type": "code",
   "execution_count": 4,
   "metadata": {},
   "outputs": [
    {
     "name": "stdout",
     "output_type": "stream",
     "text": [
      "len of trainSet 33600 , len of testSet 8400\n"
     ]
    }
   ],
   "source": [
    "train=pd.read_csv(r'C:\\Users\\Varishu Pant\\Desktop\\Praxis docs\\ml\\train.csv')\n",
    "test=pd.read_csv(r'C:\\Users\\Varishu Pant\\Desktop\\Praxis docs\\ml\\test.csv')\n",
    "train.shape,test.shape\n",
    "x=train.drop(\"label\",axis=1)\n",
    "y=np.array(train['label'])\n",
    "torch_X_train = torch.from_numpy(x.values).type(torch.FloatTensor)/255\n",
    "torch_y_train = torch.from_numpy(y).type(torch.LongTensor)\n",
    "myDataset = torch.utils.data.TensorDataset(torch_X_train,torch_y_train)\n",
    "valid_no  = int(0.2 * len(myDataset))\n",
    "# so divide the data into trainset and testset\n",
    "trainSet,testSet = torch.utils.data.random_split(myDataset,(len(myDataset)-valid_no,valid_no))\n",
    "print(f\"len of trainSet {len(trainSet)} , len of testSet {len(testSet)}\")\n",
    "trainloader  = torch.utils.data.DataLoader(trainSet , batch_size=64 ,shuffle=True,num_workers=0,worker_init_fn=_init_fn) \n",
    "testloader  = torch.utils.data.DataLoader(testSet , batch_size=64 ,shuffle=True,num_workers=0,worker_init_fn=_init_fn)"
   ]
  },
  {
   "cell_type": "markdown",
   "metadata": {},
   "source": [
    "Fitting model with Adam where learning rate is 0.01."
   ]
  },
  {
   "cell_type": "code",
   "execution_count": 5,
   "metadata": {},
   "outputs": [
    {
     "name": "stdout",
     "output_type": "stream",
     "text": [
      "Number of Parameters: 242762\n",
      "Model saved as NN_Adam_10E_lr0.001_255.pth\n"
     ]
    },
    {
     "data": {
      "text/html": [
       "<div>\n",
       "<style scoped>\n",
       "    .dataframe tbody tr th:only-of-type {\n",
       "        vertical-align: middle;\n",
       "    }\n",
       "\n",
       "    .dataframe tbody tr th {\n",
       "        vertical-align: top;\n",
       "    }\n",
       "\n",
       "    .dataframe thead th {\n",
       "        text-align: right;\n",
       "    }\n",
       "</style>\n",
       "<table border=\"1\" class=\"dataframe\">\n",
       "  <thead>\n",
       "    <tr style=\"text-align: right;\">\n",
       "      <th></th>\n",
       "      <th>Epoch:1</th>\n",
       "      <th>Epoch:2</th>\n",
       "      <th>Epoch:3</th>\n",
       "      <th>Epoch:4</th>\n",
       "      <th>Epoch:5</th>\n",
       "      <th>Epoch:6</th>\n",
       "      <th>Epoch:7</th>\n",
       "      <th>Epoch:8</th>\n",
       "      <th>Epoch:9</th>\n",
       "      <th>Epoch:10</th>\n",
       "    </tr>\n",
       "  </thead>\n",
       "  <tbody>\n",
       "    <tr>\n",
       "      <td>0</td>\n",
       "      <td>0.939881</td>\n",
       "      <td>0.955357</td>\n",
       "      <td>0.961548</td>\n",
       "      <td>0.968095</td>\n",
       "      <td>0.969643</td>\n",
       "      <td>0.970357</td>\n",
       "      <td>0.972024</td>\n",
       "      <td>0.97</td>\n",
       "      <td>0.972619</td>\n",
       "      <td>0.9725</td>\n",
       "    </tr>\n",
       "  </tbody>\n",
       "</table>\n",
       "</div>"
      ],
      "text/plain": [
       "    Epoch:1   Epoch:2   Epoch:3   Epoch:4   Epoch:5   Epoch:6   Epoch:7  \\\n",
       "0  0.939881  0.955357  0.961548  0.968095  0.969643  0.970357  0.972024   \n",
       "\n",
       "   Epoch:8   Epoch:9  Epoch:10  \n",
       "0     0.97  0.972619    0.9725  "
      ]
     },
     "execution_count": 5,
     "metadata": {},
     "output_type": "execute_result"
    }
   ],
   "source": [
    "test_acc=[]\n",
    "results=train_nn(epochs=10,optimizer=optim.Adam(model.parameters(),lr=0.001))\n",
    "test_acc.append(results)\n",
    "epoch_list=['Epoch:'+str(i) for i in range(1,11)]\n",
    "print('Number of Parameters:',count_parameters(model))\n",
    "torch.save(model.state_dict(), 'NN_Adam_10E_lr0.001_255.pth')\n",
    "print('Model saved as NN_Adam_10E_lr0.001_255.pth')\n",
    "results_30=pd.DataFrame(test_acc,columns=epoch_list)\n",
    "results_30"
   ]
  },
  {
   "cell_type": "markdown",
   "metadata": {},
   "source": [
    "Fitting model with SGD with Nesterov,learning rate as 0.04 and momentum as 0.9."
   ]
  },
  {
   "cell_type": "code",
   "execution_count": 5,
   "metadata": {},
   "outputs": [
    {
     "name": "stdout",
     "output_type": "stream",
     "text": [
      "Model saved as NN_Adam_10E_lr0.04_mm0.9_nest_255.pth\n",
      "Number of Parameters: 242762\n"
     ]
    },
    {
     "data": {
      "text/html": [
       "<div>\n",
       "<style scoped>\n",
       "    .dataframe tbody tr th:only-of-type {\n",
       "        vertical-align: middle;\n",
       "    }\n",
       "\n",
       "    .dataframe tbody tr th {\n",
       "        vertical-align: top;\n",
       "    }\n",
       "\n",
       "    .dataframe thead th {\n",
       "        text-align: right;\n",
       "    }\n",
       "</style>\n",
       "<table border=\"1\" class=\"dataframe\">\n",
       "  <thead>\n",
       "    <tr style=\"text-align: right;\">\n",
       "      <th></th>\n",
       "      <th>Epoch:1</th>\n",
       "      <th>Epoch:2</th>\n",
       "      <th>Epoch:3</th>\n",
       "      <th>Epoch:4</th>\n",
       "      <th>Epoch:5</th>\n",
       "      <th>Epoch:6</th>\n",
       "      <th>Epoch:7</th>\n",
       "      <th>Epoch:8</th>\n",
       "      <th>Epoch:9</th>\n",
       "      <th>Epoch:10</th>\n",
       "    </tr>\n",
       "  </thead>\n",
       "  <tbody>\n",
       "    <tr>\n",
       "      <td>0</td>\n",
       "      <td>0.939286</td>\n",
       "      <td>0.95619</td>\n",
       "      <td>0.959405</td>\n",
       "      <td>0.952738</td>\n",
       "      <td>0.967976</td>\n",
       "      <td>0.96631</td>\n",
       "      <td>0.971429</td>\n",
       "      <td>0.96869</td>\n",
       "      <td>0.97</td>\n",
       "      <td>0.972738</td>\n",
       "    </tr>\n",
       "  </tbody>\n",
       "</table>\n",
       "</div>"
      ],
      "text/plain": [
       "    Epoch:1  Epoch:2   Epoch:3   Epoch:4   Epoch:5  Epoch:6   Epoch:7  \\\n",
       "0  0.939286  0.95619  0.959405  0.952738  0.967976  0.96631  0.971429   \n",
       "\n",
       "   Epoch:8  Epoch:9  Epoch:10  \n",
       "0  0.96869     0.97  0.972738  "
      ]
     },
     "execution_count": 5,
     "metadata": {},
     "output_type": "execute_result"
    }
   ],
   "source": [
    "test_acc=[]\n",
    "results=train_nn(epochs=10,optimizer=optim.SGD(model.parameters(),lr=0.04,momentum=0.9,nesterov=True))\n",
    "test_acc.append(results)\n",
    "epoch_list=['Epoch:'+str(i) for i in range(1,11)]\n",
    "torch.save(model.state_dict(), 'NN_SGD_10E_lr0.04_mm0.9_nest_255.pth')\n",
    "print('Model saved as NN_Adam_10E_lr0.04_mm0.9_nest_255.pth')\n",
    "print('Number of Parameters:',count_parameters(model))\n",
    "results_31=pd.DataFrame(test_acc,columns=epoch_list)\n",
    "results_31"
   ]
  },
  {
   "cell_type": "markdown",
   "metadata": {},
   "source": [
    "**No improvement in average accuracy**"
   ]
  },
  {
   "cell_type": "markdown",
   "metadata": {},
   "source": [
    "### As of now,maximum average accuracy was given by Adam with learning rate 0.001 for non normalized ,non scaled data.So,we use that as default model going ahead."
   ]
  },
  {
   "cell_type": "markdown",
   "metadata": {},
   "source": [
    "## Tuning batch size "
   ]
  },
  {
   "cell_type": "markdown",
   "metadata": {},
   "source": [
    "Fitting model with batch size 32"
   ]
  },
  {
   "cell_type": "code",
   "execution_count": 4,
   "metadata": {},
   "outputs": [
    {
     "name": "stdout",
     "output_type": "stream",
     "text": [
      "Number of Parameters: 242762\n",
      "Model saved as NN_Adam_10E_lr0.001_32b.pth\n"
     ]
    },
    {
     "data": {
      "text/html": [
       "<div>\n",
       "<style scoped>\n",
       "    .dataframe tbody tr th:only-of-type {\n",
       "        vertical-align: middle;\n",
       "    }\n",
       "\n",
       "    .dataframe tbody tr th {\n",
       "        vertical-align: top;\n",
       "    }\n",
       "\n",
       "    .dataframe thead th {\n",
       "        text-align: right;\n",
       "    }\n",
       "</style>\n",
       "<table border=\"1\" class=\"dataframe\">\n",
       "  <thead>\n",
       "    <tr style=\"text-align: right;\">\n",
       "      <th></th>\n",
       "      <th>Epoch:1</th>\n",
       "      <th>Epoch:2</th>\n",
       "      <th>Epoch:3</th>\n",
       "      <th>Epoch:4</th>\n",
       "      <th>Epoch:5</th>\n",
       "      <th>Epoch:6</th>\n",
       "      <th>Epoch:7</th>\n",
       "      <th>Epoch:8</th>\n",
       "      <th>Epoch:9</th>\n",
       "      <th>Epoch:10</th>\n",
       "    </tr>\n",
       "  </thead>\n",
       "  <tbody>\n",
       "    <tr>\n",
       "      <td>0</td>\n",
       "      <td>0.9614</td>\n",
       "      <td>0.9638</td>\n",
       "      <td>0.9716</td>\n",
       "      <td>0.9763</td>\n",
       "      <td>0.9773</td>\n",
       "      <td>0.9788</td>\n",
       "      <td>0.9773</td>\n",
       "      <td>0.9772</td>\n",
       "      <td>0.9786</td>\n",
       "      <td>0.9819</td>\n",
       "    </tr>\n",
       "  </tbody>\n",
       "</table>\n",
       "</div>"
      ],
      "text/plain": [
       "   Epoch:1  Epoch:2  Epoch:3  Epoch:4  Epoch:5  Epoch:6  Epoch:7  Epoch:8  \\\n",
       "0   0.9614   0.9638   0.9716   0.9763   0.9773   0.9788   0.9773   0.9772   \n",
       "\n",
       "   Epoch:9  Epoch:10  \n",
       "0   0.9786    0.9819  "
      ]
     },
     "execution_count": 4,
     "metadata": {},
     "output_type": "execute_result"
    }
   ],
   "source": [
    "torch.manual_seed(101)\n",
    "transform=transforms.Compose([transforms.ToTensor()])\n",
    "trainset=datasets.MNIST('~/.pytorch/MNIST_data/',train=True,transform=transform,download=True)\n",
    "testset=datasets.MNIST('~/.pytorch/MNIST_data/',train=False,transform=transform,download=True)\n",
    "\n",
    "trainloader=torch.utils.data.DataLoader(trainset,batch_size=32,shuffle=True,num_workers=0,worker_init_fn=_init_fn)\n",
    "testloader=torch.utils.data.DataLoader(testset,batch_size=32,shuffle=True,num_workers=0,worker_init_fn=_init_fn)\n",
    "test_acc=[]\n",
    "results=train_nn(epochs=10,optimizer=optim.Adam(model.parameters(),lr=0.001))\n",
    "test_acc.append(results)\n",
    "epoch_list=['Epoch:'+str(i) for i in range(1,11)]\n",
    "print('Number of Parameters:',count_parameters(model))\n",
    "torch.save(model.state_dict(), 'NN_Adam_10E_lr0.001_32b.pth')\n",
    "print('Model saved as NN_Adam_10E_lr0.001_32b.pth')\n",
    "results_32=pd.DataFrame(test_acc,columns=epoch_list)\n",
    "results_32"
   ]
  },
  {
   "cell_type": "markdown",
   "metadata": {},
   "source": [
    "Fitting model with batch size 128"
   ]
  },
  {
   "cell_type": "code",
   "execution_count": 4,
   "metadata": {},
   "outputs": [
    {
     "name": "stdout",
     "output_type": "stream",
     "text": [
      "Number of Parameters: 242762\n",
      "Model saved as NN_Adam_10E_lr0.001_128b.pth\n"
     ]
    },
    {
     "data": {
      "text/html": [
       "<div>\n",
       "<style scoped>\n",
       "    .dataframe tbody tr th:only-of-type {\n",
       "        vertical-align: middle;\n",
       "    }\n",
       "\n",
       "    .dataframe tbody tr th {\n",
       "        vertical-align: top;\n",
       "    }\n",
       "\n",
       "    .dataframe thead th {\n",
       "        text-align: right;\n",
       "    }\n",
       "</style>\n",
       "<table border=\"1\" class=\"dataframe\">\n",
       "  <thead>\n",
       "    <tr style=\"text-align: right;\">\n",
       "      <th></th>\n",
       "      <th>Epoch:1</th>\n",
       "      <th>Epoch:2</th>\n",
       "      <th>Epoch:3</th>\n",
       "      <th>Epoch:4</th>\n",
       "      <th>Epoch:5</th>\n",
       "      <th>Epoch:6</th>\n",
       "      <th>Epoch:7</th>\n",
       "      <th>Epoch:8</th>\n",
       "      <th>Epoch:9</th>\n",
       "      <th>Epoch:10</th>\n",
       "    </tr>\n",
       "  </thead>\n",
       "  <tbody>\n",
       "    <tr>\n",
       "      <td>0</td>\n",
       "      <td>0.9489</td>\n",
       "      <td>0.9667</td>\n",
       "      <td>0.9724</td>\n",
       "      <td>0.9755</td>\n",
       "      <td>0.9759</td>\n",
       "      <td>0.9778</td>\n",
       "      <td>0.9781</td>\n",
       "      <td>0.9798</td>\n",
       "      <td>0.9798</td>\n",
       "      <td>0.9798</td>\n",
       "    </tr>\n",
       "  </tbody>\n",
       "</table>\n",
       "</div>"
      ],
      "text/plain": [
       "   Epoch:1  Epoch:2  Epoch:3  Epoch:4  Epoch:5  Epoch:6  Epoch:7  Epoch:8  \\\n",
       "0   0.9489   0.9667   0.9724   0.9755   0.9759   0.9778   0.9781   0.9798   \n",
       "\n",
       "   Epoch:9  Epoch:10  \n",
       "0   0.9798    0.9798  "
      ]
     },
     "execution_count": 4,
     "metadata": {},
     "output_type": "execute_result"
    }
   ],
   "source": [
    "torch.manual_seed(101)\n",
    "transform=transforms.Compose([transforms.ToTensor()])\n",
    "trainset=datasets.MNIST('~/.pytorch/MNIST_data/',train=True,transform=transform,download=True)\n",
    "testset=datasets.MNIST('~/.pytorch/MNIST_data/',train=False,transform=transform,download=True)\n",
    "\n",
    "trainloader=torch.utils.data.DataLoader(trainset,batch_size=128,shuffle=True,num_workers=0,worker_init_fn=_init_fn)\n",
    "testloader=torch.utils.data.DataLoader(testset,batch_size=128,shuffle=True,num_workers=0,worker_init_fn=_init_fn)\n",
    "test_acc=[]\n",
    "results=train_nn(epochs=10,optimizer=optim.Adam(model.parameters(),lr=0.001))\n",
    "test_acc.append(results)\n",
    "epoch_list=['Epoch:'+str(i) for i in range(1,11)]\n",
    "print('Number of Parameters:',count_parameters(model))\n",
    "torch.save(model.state_dict(), 'NN_Adam_10E_lr0.001_128b.pth')\n",
    "print('Model saved as NN_Adam_10E_lr0.001_128b.pth')\n",
    "results_33=pd.DataFrame(test_acc,columns=epoch_list)\n",
    "results_33"
   ]
  },
  {
   "cell_type": "markdown",
   "metadata": {},
   "source": [
    "Fitting model with batch size 16"
   ]
  },
  {
   "cell_type": "code",
   "execution_count": 4,
   "metadata": {},
   "outputs": [
    {
     "name": "stdout",
     "output_type": "stream",
     "text": [
      "Number of Parameters: 242762\n",
      "Model saved as NN_Adam_10E_lr0.001_16b.pth\n"
     ]
    },
    {
     "data": {
      "text/html": [
       "<div>\n",
       "<style scoped>\n",
       "    .dataframe tbody tr th:only-of-type {\n",
       "        vertical-align: middle;\n",
       "    }\n",
       "\n",
       "    .dataframe tbody tr th {\n",
       "        vertical-align: top;\n",
       "    }\n",
       "\n",
       "    .dataframe thead th {\n",
       "        text-align: right;\n",
       "    }\n",
       "</style>\n",
       "<table border=\"1\" class=\"dataframe\">\n",
       "  <thead>\n",
       "    <tr style=\"text-align: right;\">\n",
       "      <th></th>\n",
       "      <th>Epoch:1</th>\n",
       "      <th>Epoch:2</th>\n",
       "      <th>Epoch:3</th>\n",
       "      <th>Epoch:4</th>\n",
       "      <th>Epoch:5</th>\n",
       "      <th>Epoch:6</th>\n",
       "      <th>Epoch:7</th>\n",
       "      <th>Epoch:8</th>\n",
       "      <th>Epoch:9</th>\n",
       "      <th>Epoch:10</th>\n",
       "    </tr>\n",
       "  </thead>\n",
       "  <tbody>\n",
       "    <tr>\n",
       "      <td>0</td>\n",
       "      <td>0.9568</td>\n",
       "      <td>0.9715</td>\n",
       "      <td>0.9738</td>\n",
       "      <td>0.9769</td>\n",
       "      <td>0.975</td>\n",
       "      <td>0.9789</td>\n",
       "      <td>0.9789</td>\n",
       "      <td>0.9783</td>\n",
       "      <td>0.9784</td>\n",
       "      <td>0.9794</td>\n",
       "    </tr>\n",
       "  </tbody>\n",
       "</table>\n",
       "</div>"
      ],
      "text/plain": [
       "   Epoch:1  Epoch:2  Epoch:3  Epoch:4  Epoch:5  Epoch:6  Epoch:7  Epoch:8  \\\n",
       "0   0.9568   0.9715   0.9738   0.9769    0.975   0.9789   0.9789   0.9783   \n",
       "\n",
       "   Epoch:9  Epoch:10  \n",
       "0   0.9784    0.9794  "
      ]
     },
     "execution_count": 4,
     "metadata": {},
     "output_type": "execute_result"
    }
   ],
   "source": [
    "torch.manual_seed(101)\n",
    "transform=transforms.Compose([transforms.ToTensor()])\n",
    "trainset=datasets.MNIST('~/.pytorch/MNIST_data/',train=True,transform=transform,download=True)\n",
    "testset=datasets.MNIST('~/.pytorch/MNIST_data/',train=False,transform=transform,download=True)\n",
    "\n",
    "trainloader=torch.utils.data.DataLoader(trainset,batch_size=16,shuffle=True,num_workers=0,worker_init_fn=_init_fn)\n",
    "testloader=torch.utils.data.DataLoader(testset,batch_size=16,shuffle=True,num_workers=0,worker_init_fn=_init_fn)\n",
    "test_acc=[]\n",
    "results=train_nn(epochs=10,optimizer=optim.Adam(model.parameters(),lr=0.001))\n",
    "test_acc.append(results)\n",
    "epoch_list=['Epoch:'+str(i) for i in range(1,11)]\n",
    "print('Number of Parameters:',count_parameters(model))\n",
    "torch.save(model.state_dict(), 'NN_Adam_10E_lr0.001_16b.pth')\n",
    "print('Model saved as NN_Adam_10E_lr0.001_16b.pth')\n",
    "results_34=pd.DataFrame(test_acc,columns=epoch_list)\n",
    "results_34"
   ]
  },
  {
   "cell_type": "markdown",
   "metadata": {},
   "source": [
    "Fitting model with batch size 8"
   ]
  },
  {
   "cell_type": "code",
   "execution_count": 4,
   "metadata": {},
   "outputs": [
    {
     "name": "stdout",
     "output_type": "stream",
     "text": [
      "Number of Parameters: 242762\n",
      "Model saved as NN_Adam_10E_lr0.001_8b.pth\n"
     ]
    },
    {
     "data": {
      "text/html": [
       "<div>\n",
       "<style scoped>\n",
       "    .dataframe tbody tr th:only-of-type {\n",
       "        vertical-align: middle;\n",
       "    }\n",
       "\n",
       "    .dataframe tbody tr th {\n",
       "        vertical-align: top;\n",
       "    }\n",
       "\n",
       "    .dataframe thead th {\n",
       "        text-align: right;\n",
       "    }\n",
       "</style>\n",
       "<table border=\"1\" class=\"dataframe\">\n",
       "  <thead>\n",
       "    <tr style=\"text-align: right;\">\n",
       "      <th></th>\n",
       "      <th>Epoch:1</th>\n",
       "      <th>Epoch:2</th>\n",
       "      <th>Epoch:3</th>\n",
       "      <th>Epoch:4</th>\n",
       "      <th>Epoch:5</th>\n",
       "      <th>Epoch:6</th>\n",
       "      <th>Epoch:7</th>\n",
       "      <th>Epoch:8</th>\n",
       "      <th>Epoch:9</th>\n",
       "      <th>Epoch:10</th>\n",
       "    </tr>\n",
       "  </thead>\n",
       "  <tbody>\n",
       "    <tr>\n",
       "      <td>0</td>\n",
       "      <td>0.9587</td>\n",
       "      <td>0.9663</td>\n",
       "      <td>0.9756</td>\n",
       "      <td>0.9757</td>\n",
       "      <td>0.9773</td>\n",
       "      <td>0.9786</td>\n",
       "      <td>0.9788</td>\n",
       "      <td>0.9776</td>\n",
       "      <td>0.9774</td>\n",
       "      <td>0.9791</td>\n",
       "    </tr>\n",
       "  </tbody>\n",
       "</table>\n",
       "</div>"
      ],
      "text/plain": [
       "   Epoch:1  Epoch:2  Epoch:3  Epoch:4  Epoch:5  Epoch:6  Epoch:7  Epoch:8  \\\n",
       "0   0.9587   0.9663   0.9756   0.9757   0.9773   0.9786   0.9788   0.9776   \n",
       "\n",
       "   Epoch:9  Epoch:10  \n",
       "0   0.9774    0.9791  "
      ]
     },
     "execution_count": 4,
     "metadata": {},
     "output_type": "execute_result"
    }
   ],
   "source": [
    "torch.manual_seed(101)\n",
    "transform=transforms.Compose([transforms.ToTensor()])\n",
    "trainset=datasets.MNIST('~/.pytorch/MNIST_data/',train=True,transform=transform,download=True)\n",
    "testset=datasets.MNIST('~/.pytorch/MNIST_data/',train=False,transform=transform,download=True)\n",
    "\n",
    "trainloader=torch.utils.data.DataLoader(trainset,batch_size=8,shuffle=True,num_workers=0,worker_init_fn=_init_fn)\n",
    "testloader=torch.utils.data.DataLoader(testset,batch_size=8,shuffle=True,num_workers=0,worker_init_fn=_init_fn)\n",
    "test_acc=[]\n",
    "results=train_nn(epochs=10,optimizer=optim.Adam(model.parameters(),lr=0.001))\n",
    "test_acc.append(results)\n",
    "epoch_list=['Epoch:'+str(i) for i in range(1,11)]\n",
    "print('Number of Parameters:',count_parameters(model))\n",
    "torch.save(model.state_dict(), 'NN_Adam_10E_lr0.001_8b.pth')\n",
    "print('Model saved as NN_Adam_10E_lr0.001_8b.pth')\n",
    "results_35=pd.DataFrame(test_acc,columns=epoch_list)\n",
    "results_35"
   ]
  },
  {
   "cell_type": "markdown",
   "metadata": {},
   "source": [
    "**No improvement in average accuracy**"
   ]
  },
  {
   "cell_type": "markdown",
   "metadata": {},
   "source": [
    "## Tuning Parameters"
   ]
  },
  {
   "cell_type": "markdown",
   "metadata": {},
   "source": [
    "**Keeping all else constant,we change model architecture to minimize parameters while maintaining a good accuracy.**"
   ]
  },
  {
   "cell_type": "code",
   "execution_count": 4,
   "metadata": {},
   "outputs": [
    {
     "name": "stdout",
     "output_type": "stream",
     "text": [
      "Number of Parameters: 111146\n",
      "Model saved as NN_Adam_10E_lr0.001.pth\n"
     ]
    },
    {
     "data": {
      "text/html": [
       "<div>\n",
       "<style scoped>\n",
       "    .dataframe tbody tr th:only-of-type {\n",
       "        vertical-align: middle;\n",
       "    }\n",
       "\n",
       "    .dataframe tbody tr th {\n",
       "        vertical-align: top;\n",
       "    }\n",
       "\n",
       "    .dataframe thead th {\n",
       "        text-align: right;\n",
       "    }\n",
       "</style>\n",
       "<table border=\"1\" class=\"dataframe\">\n",
       "  <thead>\n",
       "    <tr style=\"text-align: right;\">\n",
       "      <th></th>\n",
       "      <th>Epoch:1</th>\n",
       "      <th>Epoch:2</th>\n",
       "      <th>Epoch:3</th>\n",
       "      <th>Epoch:4</th>\n",
       "      <th>Epoch:5</th>\n",
       "      <th>Epoch:6</th>\n",
       "      <th>Epoch:7</th>\n",
       "      <th>Epoch:8</th>\n",
       "      <th>Epoch:9</th>\n",
       "      <th>Epoch:10</th>\n",
       "    </tr>\n",
       "  </thead>\n",
       "  <tbody>\n",
       "    <tr>\n",
       "      <td>0</td>\n",
       "      <td>0.9474</td>\n",
       "      <td>0.9616</td>\n",
       "      <td>0.9683</td>\n",
       "      <td>0.9704</td>\n",
       "      <td>0.9757</td>\n",
       "      <td>0.9748</td>\n",
       "      <td>0.9772</td>\n",
       "      <td>0.9776</td>\n",
       "      <td>0.9782</td>\n",
       "      <td>0.9767</td>\n",
       "    </tr>\n",
       "  </tbody>\n",
       "</table>\n",
       "</div>"
      ],
      "text/plain": [
       "   Epoch:1  Epoch:2  Epoch:3  Epoch:4  Epoch:5  Epoch:6  Epoch:7  Epoch:8  \\\n",
       "0   0.9474   0.9616   0.9683   0.9704   0.9757   0.9748   0.9772   0.9776   \n",
       "\n",
       "   Epoch:9  Epoch:10  \n",
       "0   0.9782    0.9767  "
      ]
     },
     "execution_count": 4,
     "metadata": {},
     "output_type": "execute_result"
    }
   ],
   "source": [
    "class Network(nn.Module):\n",
    "    def __init__(self):\n",
    "        super().__init__()\n",
    "        self.fc1 = nn.Linear(784, 128)\n",
    "        self.fc2 = nn.Linear(128, 64)\n",
    "        self.fc3 = nn.Linear(64, 32)\n",
    "        self.fc4 = nn.Linear(32, 10)\n",
    "\n",
    "        # Dropout module with 0.2 drop probability\n",
    "        self.dropout = nn.Dropout(p=0.2)\n",
    "\n",
    "    def forward(self, x):\n",
    "        # make sure input tensor is flattened\n",
    "        x = x.view(x.shape[0], -1)\n",
    "\n",
    "        # Now with dropout\n",
    "        x = self.dropout(F.relu(self.fc1(x)))\n",
    "        x = self.dropout(F.relu(self.fc2(x)))\n",
    "        x = self.dropout(F.relu(self.fc3(x)))\n",
    "\n",
    "        # output so no dropout here\n",
    "        x = F.log_softmax(self.fc4(x), dim=1)\n",
    "\n",
    "        return x\n",
    "model=Network()       \n",
    "criterion=nn.NLLLoss()\n",
    "test_acc=[]\n",
    "results=train_nn(epochs=10,optimizer=optim.Adam(model.parameters(),lr=0.001))\n",
    "test_acc.append(results)\n",
    "epoch_list=['Epoch:'+str(i) for i in range(1,11)]\n",
    "print('Number of Parameters:',count_parameters(model))\n",
    "torch.save(model.state_dict(), 'NN_Adam_10E_lr0.001_128.64.32.pth')\n",
    "print('Model saved as NN_Adam_10E_lr0.001_128.64.32.pth')\n",
    "results_37=pd.DataFrame(test_acc,columns=epoch_list)\n",
    "results_37"
   ]
  },
  {
   "cell_type": "code",
   "execution_count": 5,
   "metadata": {},
   "outputs": [
    {
     "name": "stdout",
     "output_type": "stream",
     "text": [
      "Number of Parameters: 105994\n",
      "Model saved as NN_Adam_10E_lr0.001_128.32.32.pth\n"
     ]
    },
    {
     "data": {
      "text/html": [
       "<div>\n",
       "<style scoped>\n",
       "    .dataframe tbody tr th:only-of-type {\n",
       "        vertical-align: middle;\n",
       "    }\n",
       "\n",
       "    .dataframe tbody tr th {\n",
       "        vertical-align: top;\n",
       "    }\n",
       "\n",
       "    .dataframe thead th {\n",
       "        text-align: right;\n",
       "    }\n",
       "</style>\n",
       "<table border=\"1\" class=\"dataframe\">\n",
       "  <thead>\n",
       "    <tr style=\"text-align: right;\">\n",
       "      <th></th>\n",
       "      <th>Epoch:1</th>\n",
       "      <th>Epoch:2</th>\n",
       "      <th>Epoch:3</th>\n",
       "      <th>Epoch:4</th>\n",
       "      <th>Epoch:5</th>\n",
       "      <th>Epoch:6</th>\n",
       "      <th>Epoch:7</th>\n",
       "      <th>Epoch:8</th>\n",
       "      <th>Epoch:9</th>\n",
       "      <th>Epoch:10</th>\n",
       "    </tr>\n",
       "  </thead>\n",
       "  <tbody>\n",
       "    <tr>\n",
       "      <td>0</td>\n",
       "      <td>0.9444</td>\n",
       "      <td>0.9594</td>\n",
       "      <td>0.9666</td>\n",
       "      <td>0.9702</td>\n",
       "      <td>0.973</td>\n",
       "      <td>0.9732</td>\n",
       "      <td>0.9735</td>\n",
       "      <td>0.9758</td>\n",
       "      <td>0.9794</td>\n",
       "      <td>0.9781</td>\n",
       "    </tr>\n",
       "  </tbody>\n",
       "</table>\n",
       "</div>"
      ],
      "text/plain": [
       "   Epoch:1  Epoch:2  Epoch:3  Epoch:4  Epoch:5  Epoch:6  Epoch:7  Epoch:8  \\\n",
       "0   0.9444   0.9594   0.9666   0.9702    0.973   0.9732   0.9735   0.9758   \n",
       "\n",
       "   Epoch:9  Epoch:10  \n",
       "0   0.9794    0.9781  "
      ]
     },
     "execution_count": 5,
     "metadata": {},
     "output_type": "execute_result"
    }
   ],
   "source": [
    "class Network(nn.Module):\n",
    "    def __init__(self):\n",
    "        super().__init__()\n",
    "        self.fc1 = nn.Linear(784, 128)\n",
    "        self.fc2 = nn.Linear(128, 32)\n",
    "        self.fc3 = nn.Linear(32, 32)\n",
    "        self.fc4 = nn.Linear(32, 10)\n",
    "\n",
    "        # Dropout module with 0.2 drop probability\n",
    "        self.dropout = nn.Dropout(p=0.2)\n",
    "\n",
    "    def forward(self, x):\n",
    "        # make sure input tensor is flattened\n",
    "        x = x.view(x.shape[0], -1)\n",
    "\n",
    "        # Now with dropout\n",
    "        x = self.dropout(F.relu(self.fc1(x)))\n",
    "        x = self.dropout(F.relu(self.fc2(x)))\n",
    "        x = self.dropout(F.relu(self.fc3(x)))\n",
    "\n",
    "        # output so no dropout here\n",
    "        x = F.log_softmax(self.fc4(x), dim=1)\n",
    "\n",
    "        return x\n",
    "model=Network()       \n",
    "criterion=nn.NLLLoss()\n",
    "test_acc=[]\n",
    "results=train_nn(epochs=10,optimizer=optim.Adam(model.parameters(),lr=0.001))\n",
    "test_acc.append(results)\n",
    "epoch_list=['Epoch:'+str(i) for i in range(1,11)]\n",
    "print('Number of Parameters:',count_parameters(model))\n",
    "torch.save(model.state_dict(), 'NN_Adam_10E_lr0.001_128.32.32.pth')\n",
    "print('Model saved as NN_Adam_10E_lr0.001_128.32.32.pth')\n",
    "results_38=pd.DataFrame(test_acc,columns=epoch_list)\n",
    "results_38"
   ]
  },
  {
   "cell_type": "code",
   "execution_count": 4,
   "metadata": {},
   "outputs": [
    {
     "name": "stdout",
     "output_type": "stream",
     "text": [
      "Number of Parameters: 209882\n",
      "Model saved as NN_Adam_10E_lr0.001_256.32.16.pth\n"
     ]
    },
    {
     "data": {
      "text/html": [
       "<div>\n",
       "<style scoped>\n",
       "    .dataframe tbody tr th:only-of-type {\n",
       "        vertical-align: middle;\n",
       "    }\n",
       "\n",
       "    .dataframe tbody tr th {\n",
       "        vertical-align: top;\n",
       "    }\n",
       "\n",
       "    .dataframe thead th {\n",
       "        text-align: right;\n",
       "    }\n",
       "</style>\n",
       "<table border=\"1\" class=\"dataframe\">\n",
       "  <thead>\n",
       "    <tr style=\"text-align: right;\">\n",
       "      <th></th>\n",
       "      <th>Epoch:1</th>\n",
       "      <th>Epoch:2</th>\n",
       "      <th>Epoch:3</th>\n",
       "      <th>Epoch:4</th>\n",
       "      <th>Epoch:5</th>\n",
       "      <th>Epoch:6</th>\n",
       "      <th>Epoch:7</th>\n",
       "      <th>Epoch:8</th>\n",
       "      <th>Epoch:9</th>\n",
       "      <th>Epoch:10</th>\n",
       "    </tr>\n",
       "  </thead>\n",
       "  <tbody>\n",
       "    <tr>\n",
       "      <td>0</td>\n",
       "      <td>0.9389</td>\n",
       "      <td>0.9581</td>\n",
       "      <td>0.9653</td>\n",
       "      <td>0.9715</td>\n",
       "      <td>0.9731</td>\n",
       "      <td>0.9749</td>\n",
       "      <td>0.9742</td>\n",
       "      <td>0.9767</td>\n",
       "      <td>0.9792</td>\n",
       "      <td>0.9793</td>\n",
       "    </tr>\n",
       "  </tbody>\n",
       "</table>\n",
       "</div>"
      ],
      "text/plain": [
       "   Epoch:1  Epoch:2  Epoch:3  Epoch:4  Epoch:5  Epoch:6  Epoch:7  Epoch:8  \\\n",
       "0   0.9389   0.9581   0.9653   0.9715   0.9731   0.9749   0.9742   0.9767   \n",
       "\n",
       "   Epoch:9  Epoch:10  \n",
       "0   0.9792    0.9793  "
      ]
     },
     "execution_count": 4,
     "metadata": {},
     "output_type": "execute_result"
    }
   ],
   "source": [
    "class Network(nn.Module):\n",
    "    def __init__(self):\n",
    "        super().__init__()\n",
    "        self.fc1 = nn.Linear(784, 256)\n",
    "        self.fc2 = nn.Linear(256, 32)\n",
    "        self.fc3 = nn.Linear(32, 16)\n",
    "        self.fc4 = nn.Linear(16, 10)\n",
    "\n",
    "        # Dropout module with 0.2 drop probability\n",
    "        self.dropout = nn.Dropout(p=0.2)\n",
    "\n",
    "    def forward(self, x):\n",
    "        # make sure input tensor is flattened\n",
    "        x = x.view(x.shape[0], -1)\n",
    "\n",
    "        # Now with dropout\n",
    "        x = self.dropout(F.relu(self.fc1(x)))\n",
    "        x = self.dropout(F.relu(self.fc2(x)))\n",
    "        x = self.dropout(F.relu(self.fc3(x)))\n",
    "\n",
    "        # output so no dropout here\n",
    "        x = F.log_softmax(self.fc4(x), dim=1)\n",
    "\n",
    "        return x\n",
    "model=Network()       \n",
    "criterion=nn.NLLLoss()\n",
    "test_acc=[]\n",
    "results=train_nn(epochs=10,optimizer=optim.Adam(model.parameters(),lr=0.001))\n",
    "test_acc.append(results)\n",
    "epoch_list=['Epoch:'+str(i) for i in range(1,11)]\n",
    "print('Number of Parameters:',count_parameters(model))\n",
    "torch.save(model.state_dict(), 'NN_Adam_10E_lr0.001_256.32.16.pth')\n",
    "print('Model saved as NN_Adam_10E_lr0.001_256.32.16.pth')\n",
    "results_39=pd.DataFrame(test_acc,columns=epoch_list)\n",
    "results_39"
   ]
  },
  {
   "cell_type": "code",
   "execution_count": 5,
   "metadata": {},
   "outputs": [
    {
     "name": "stdout",
     "output_type": "stream",
     "text": [
      "Number of Parameters: 125898\n",
      "Model saved as NN_Adam_10E_lr0.001_128.128.64.pth\n"
     ]
    }
   ],
   "source": [
    "class Network(nn.Module):\n",
    "    def __init__(self):\n",
    "        super().__init__()\n",
    "        self.fc1 = nn.Linear(784, 128)\n",
    "        self.fc2 = nn.Linear(128, 128)\n",
    "        self.fc3 = nn.Linear(128, 64)\n",
    "        self.fc4 = nn.Linear(64, 10)\n",
    "\n",
    "        # Dropout module with 0.2 drop probability\n",
    "        self.dropout = nn.Dropout(p=0.2)\n",
    "\n",
    "    def forward(self, x):\n",
    "        # make sure input tensor is flattened\n",
    "        x = x.view(x.shape[0], -1)\n",
    "\n",
    "        # Now with dropout\n",
    "        x = self.dropout(F.relu(self.fc1(x)))\n",
    "        x = self.dropout(F.relu(self.fc2(x)))\n",
    "        x = self.dropout(F.relu(self.fc3(x)))\n",
    "\n",
    "        # output so no dropout here\n",
    "        x = F.log_softmax(self.fc4(x), dim=1)\n",
    "\n",
    "        return x\n",
    "model=Network()       \n",
    "criterion=nn.NLLLoss()\n",
    "test_acc=[]\n",
    "results=train_nn(epochs=10,optimizer=optim.Adam(model.parameters(),lr=0.001))\n",
    "test_acc.append(results)\n",
    "epoch_list=['Epoch:'+str(i) for i in range(1,11)]\n",
    "print('Number of Parameters:',count_parameters(model))\n",
    "torch.save(model.state_dict(), 'NN_Adam_10E_lr0.001_128.128.64.pth')\n",
    "print('Model saved as NN_Adam_10E_lr0.001_128.128.64.pth')\n",
    "results_40=pd.DataFrame(test_acc,columns=epoch_list)\n",
    "results_40\n"
   ]
  },
  {
   "cell_type": "code",
   "execution_count": 4,
   "metadata": {},
   "outputs": [
    {
     "name": "stdout",
     "output_type": "stream",
     "text": [
      "Number of Parameters: 121450\n",
      "Model saved as NN_Adam_10E_lr0.001_128.128.32.pth\n"
     ]
    },
    {
     "data": {
      "text/html": [
       "<div>\n",
       "<style scoped>\n",
       "    .dataframe tbody tr th:only-of-type {\n",
       "        vertical-align: middle;\n",
       "    }\n",
       "\n",
       "    .dataframe tbody tr th {\n",
       "        vertical-align: top;\n",
       "    }\n",
       "\n",
       "    .dataframe thead th {\n",
       "        text-align: right;\n",
       "    }\n",
       "</style>\n",
       "<table border=\"1\" class=\"dataframe\">\n",
       "  <thead>\n",
       "    <tr style=\"text-align: right;\">\n",
       "      <th></th>\n",
       "      <th>Epoch:1</th>\n",
       "      <th>Epoch:2</th>\n",
       "      <th>Epoch:3</th>\n",
       "      <th>Epoch:4</th>\n",
       "      <th>Epoch:5</th>\n",
       "      <th>Epoch:6</th>\n",
       "      <th>Epoch:7</th>\n",
       "      <th>Epoch:8</th>\n",
       "      <th>Epoch:9</th>\n",
       "      <th>Epoch:10</th>\n",
       "    </tr>\n",
       "  </thead>\n",
       "  <tbody>\n",
       "    <tr>\n",
       "      <td>0</td>\n",
       "      <td>0.9405</td>\n",
       "      <td>0.963</td>\n",
       "      <td>0.9693</td>\n",
       "      <td>0.9714</td>\n",
       "      <td>0.9739</td>\n",
       "      <td>0.9746</td>\n",
       "      <td>0.976</td>\n",
       "      <td>0.9748</td>\n",
       "      <td>0.9746</td>\n",
       "      <td>0.9772</td>\n",
       "    </tr>\n",
       "  </tbody>\n",
       "</table>\n",
       "</div>"
      ],
      "text/plain": [
       "   Epoch:1  Epoch:2  Epoch:3  Epoch:4  Epoch:5  Epoch:6  Epoch:7  Epoch:8  \\\n",
       "0   0.9405    0.963   0.9693   0.9714   0.9739   0.9746    0.976   0.9748   \n",
       "\n",
       "   Epoch:9  Epoch:10  \n",
       "0   0.9746    0.9772  "
      ]
     },
     "execution_count": 4,
     "metadata": {},
     "output_type": "execute_result"
    }
   ],
   "source": [
    "class Network(nn.Module):\n",
    "    def __init__(self):\n",
    "        super().__init__()\n",
    "        self.fc1 = nn.Linear(784, 128)\n",
    "        self.fc2 = nn.Linear(128, 128)\n",
    "        self.fc3 = nn.Linear(128, 32)\n",
    "        self.fc4 = nn.Linear(32, 10)\n",
    "\n",
    "        # Dropout module with 0.2 drop probability\n",
    "        self.dropout = nn.Dropout(p=0.2)\n",
    "\n",
    "    def forward(self, x):\n",
    "        # make sure input tensor is flattened\n",
    "        x = x.view(x.shape[0], -1)\n",
    "\n",
    "        # Now with dropout\n",
    "        x = self.dropout(F.relu(self.fc1(x)))\n",
    "        x = self.dropout(F.relu(self.fc2(x)))\n",
    "        x = self.dropout(F.relu(self.fc3(x)))\n",
    "\n",
    "        # output so no dropout here\n",
    "        x = F.log_softmax(self.fc4(x), dim=1)\n",
    "\n",
    "        return x\n",
    "model=Network()       \n",
    "criterion=nn.NLLLoss()\n",
    "test_acc=[]\n",
    "results=train_nn(epochs=10,optimizer=optim.Adam(model.parameters(),lr=0.001))\n",
    "test_acc.append(results)\n",
    "epoch_list=['Epoch:'+str(i) for i in range(1,11)]\n",
    "print('Number of Parameters:',count_parameters(model))\n",
    "torch.save(model.state_dict(), 'NN_Adam_10E_lr0.001_128.128.32.pth')\n",
    "print('Model saved as NN_Adam_10E_lr0.001_128.128.32.pth')\n",
    "results_41=pd.DataFrame(test_acc,columns=epoch_list)\n",
    "results_41"
   ]
  },
  {
   "cell_type": "code",
   "execution_count": 4,
   "metadata": {},
   "outputs": [
    {
     "name": "stdout",
     "output_type": "stream",
     "text": [
      "Number of Parameters: 113546\n",
      "Model saved as NN_Adam_10E_lr0.001_128.64.64.pth\n"
     ]
    },
    {
     "data": {
      "text/html": [
       "<div>\n",
       "<style scoped>\n",
       "    .dataframe tbody tr th:only-of-type {\n",
       "        vertical-align: middle;\n",
       "    }\n",
       "\n",
       "    .dataframe tbody tr th {\n",
       "        vertical-align: top;\n",
       "    }\n",
       "\n",
       "    .dataframe thead th {\n",
       "        text-align: right;\n",
       "    }\n",
       "</style>\n",
       "<table border=\"1\" class=\"dataframe\">\n",
       "  <thead>\n",
       "    <tr style=\"text-align: right;\">\n",
       "      <th></th>\n",
       "      <th>Epoch:1</th>\n",
       "      <th>Epoch:2</th>\n",
       "      <th>Epoch:3</th>\n",
       "      <th>Epoch:4</th>\n",
       "      <th>Epoch:5</th>\n",
       "      <th>Epoch:6</th>\n",
       "      <th>Epoch:7</th>\n",
       "      <th>Epoch:8</th>\n",
       "      <th>Epoch:9</th>\n",
       "      <th>Epoch:10</th>\n",
       "    </tr>\n",
       "  </thead>\n",
       "  <tbody>\n",
       "    <tr>\n",
       "      <td>0</td>\n",
       "      <td>0.9508</td>\n",
       "      <td>0.9643</td>\n",
       "      <td>0.9683</td>\n",
       "      <td>0.9731</td>\n",
       "      <td>0.974</td>\n",
       "      <td>0.9729</td>\n",
       "      <td>0.9767</td>\n",
       "      <td>0.9781</td>\n",
       "      <td>0.9779</td>\n",
       "      <td>0.9784</td>\n",
       "    </tr>\n",
       "  </tbody>\n",
       "</table>\n",
       "</div>"
      ],
      "text/plain": [
       "   Epoch:1  Epoch:2  Epoch:3  Epoch:4  Epoch:5  Epoch:6  Epoch:7  Epoch:8  \\\n",
       "0   0.9508   0.9643   0.9683   0.9731    0.974   0.9729   0.9767   0.9781   \n",
       "\n",
       "   Epoch:9  Epoch:10  \n",
       "0   0.9779    0.9784  "
      ]
     },
     "execution_count": 4,
     "metadata": {},
     "output_type": "execute_result"
    }
   ],
   "source": [
    "class Network(nn.Module):\n",
    "    def __init__(self):\n",
    "        super().__init__()\n",
    "        self.fc1 = nn.Linear(784, 128)\n",
    "        self.fc2 = nn.Linear(128, 64)\n",
    "        self.fc3 = nn.Linear(64, 64)\n",
    "        self.fc4 = nn.Linear(64, 10)\n",
    "\n",
    "        # Dropout module with 0.2 drop probability\n",
    "        self.dropout = nn.Dropout(p=0.2)\n",
    "\n",
    "    def forward(self, x):\n",
    "        # make sure input tensor is flattened\n",
    "        x = x.view(x.shape[0], -1)\n",
    "\n",
    "        # Now with dropout\n",
    "        x = self.dropout(F.relu(self.fc1(x)))\n",
    "        x = self.dropout(F.relu(self.fc2(x)))\n",
    "        x = self.dropout(F.relu(self.fc3(x)))\n",
    "\n",
    "        # output so no dropout here\n",
    "        x = F.log_softmax(self.fc4(x), dim=1)\n",
    "\n",
    "        return x\n",
    "model=Network()       \n",
    "criterion=nn.NLLLoss()\n",
    "test_acc=[]\n",
    "results=train_nn(epochs=10,optimizer=optim.Adam(model.parameters(),lr=0.001))\n",
    "test_acc.append(results)\n",
    "epoch_list=['Epoch:'+str(i) for i in range(1,11)]\n",
    "print('Number of Parameters:',count_parameters(model))\n",
    "torch.save(model.state_dict(), 'NN_Adam_10E_lr0.001_128.64.64.pth')\n",
    "print('Model saved as NN_Adam_10E_lr0.001_128.64.64.pth')\n",
    "results_42=pd.DataFrame(test_acc,columns=epoch_list)\n",
    "results_42"
   ]
  },
  {
   "cell_type": "code",
   "execution_count": 4,
   "metadata": {},
   "outputs": [
    {
     "name": "stdout",
     "output_type": "stream",
     "text": [
      "Number of Parameters: 85390\n",
      "Model saved as NN_Adam_10E_lr0.001_100.50.30.pth\n"
     ]
    },
    {
     "data": {
      "text/html": [
       "<div>\n",
       "<style scoped>\n",
       "    .dataframe tbody tr th:only-of-type {\n",
       "        vertical-align: middle;\n",
       "    }\n",
       "\n",
       "    .dataframe tbody tr th {\n",
       "        vertical-align: top;\n",
       "    }\n",
       "\n",
       "    .dataframe thead th {\n",
       "        text-align: right;\n",
       "    }\n",
       "</style>\n",
       "<table border=\"1\" class=\"dataframe\">\n",
       "  <thead>\n",
       "    <tr style=\"text-align: right;\">\n",
       "      <th></th>\n",
       "      <th>Epoch:1</th>\n",
       "      <th>Epoch:2</th>\n",
       "      <th>Epoch:3</th>\n",
       "      <th>Epoch:4</th>\n",
       "      <th>Epoch:5</th>\n",
       "      <th>Epoch:6</th>\n",
       "      <th>Epoch:7</th>\n",
       "      <th>Epoch:8</th>\n",
       "      <th>Epoch:9</th>\n",
       "      <th>Epoch:10</th>\n",
       "    </tr>\n",
       "  </thead>\n",
       "  <tbody>\n",
       "    <tr>\n",
       "      <td>0</td>\n",
       "      <td>0.9406</td>\n",
       "      <td>0.9524</td>\n",
       "      <td>0.9644</td>\n",
       "      <td>0.9689</td>\n",
       "      <td>0.9694</td>\n",
       "      <td>0.9697</td>\n",
       "      <td>0.9735</td>\n",
       "      <td>0.9737</td>\n",
       "      <td>0.9753</td>\n",
       "      <td>0.9761</td>\n",
       "    </tr>\n",
       "  </tbody>\n",
       "</table>\n",
       "</div>"
      ],
      "text/plain": [
       "   Epoch:1  Epoch:2  Epoch:3  Epoch:4  Epoch:5  Epoch:6  Epoch:7  Epoch:8  \\\n",
       "0   0.9406   0.9524   0.9644   0.9689   0.9694   0.9697   0.9735   0.9737   \n",
       "\n",
       "   Epoch:9  Epoch:10  \n",
       "0   0.9753    0.9761  "
      ]
     },
     "execution_count": 4,
     "metadata": {},
     "output_type": "execute_result"
    }
   ],
   "source": [
    "class Network(nn.Module):\n",
    "    def __init__(self):\n",
    "        super().__init__()\n",
    "        self.fc1 = nn.Linear(784, 100)\n",
    "        self.fc2 = nn.Linear(100, 50)\n",
    "        self.fc3 = nn.Linear(50, 30)\n",
    "        self.fc4 = nn.Linear(30, 10)\n",
    "\n",
    "        # Dropout module with 0.2 drop probability\n",
    "        self.dropout = nn.Dropout(p=0.2)\n",
    "\n",
    "    def forward(self, x):\n",
    "        # make sure input tensor is flattened\n",
    "        x = x.view(x.shape[0], -1)\n",
    "\n",
    "        # Now with dropout\n",
    "        x = self.dropout(F.relu(self.fc1(x)))\n",
    "        x = self.dropout(F.relu(self.fc2(x)))\n",
    "        x = self.dropout(F.relu(self.fc3(x)))\n",
    "\n",
    "        # output so no dropout here\n",
    "        x = F.log_softmax(self.fc4(x), dim=1)\n",
    "\n",
    "        return x\n",
    "model=Network()       \n",
    "criterion=nn.NLLLoss()\n",
    "test_acc=[]\n",
    "results=train_nn(epochs=10,optimizer=optim.Adam(model.parameters(),lr=0.001))\n",
    "test_acc.append(results)\n",
    "epoch_list=['Epoch:'+str(i) for i in range(1,11)]\n",
    "print('Number of Parameters:',count_parameters(model))\n",
    "torch.save(model.state_dict(), 'NN_Adam_10E_lr0.001_100.50.30.pth')\n",
    "print('Model saved as NN_Adam_10E_lr0.001_100.50.30.pth')\n",
    "results_43=pd.DataFrame(test_acc,columns=epoch_list)\n",
    "results_43"
   ]
  },
  {
   "cell_type": "code",
   "execution_count": 4,
   "metadata": {},
   "outputs": [
    {
     "name": "stdout",
     "output_type": "stream",
     "text": [
      "Number of Parameters: 104310\n",
      "Model saved as NN_Adam_10E_lr0.001_120.60.40.pth\n"
     ]
    },
    {
     "data": {
      "text/html": [
       "<div>\n",
       "<style scoped>\n",
       "    .dataframe tbody tr th:only-of-type {\n",
       "        vertical-align: middle;\n",
       "    }\n",
       "\n",
       "    .dataframe tbody tr th {\n",
       "        vertical-align: top;\n",
       "    }\n",
       "\n",
       "    .dataframe thead th {\n",
       "        text-align: right;\n",
       "    }\n",
       "</style>\n",
       "<table border=\"1\" class=\"dataframe\">\n",
       "  <thead>\n",
       "    <tr style=\"text-align: right;\">\n",
       "      <th></th>\n",
       "      <th>Epoch:1</th>\n",
       "      <th>Epoch:2</th>\n",
       "      <th>Epoch:3</th>\n",
       "      <th>Epoch:4</th>\n",
       "      <th>Epoch:5</th>\n",
       "      <th>Epoch:6</th>\n",
       "      <th>Epoch:7</th>\n",
       "      <th>Epoch:8</th>\n",
       "      <th>Epoch:9</th>\n",
       "      <th>Epoch:10</th>\n",
       "    </tr>\n",
       "  </thead>\n",
       "  <tbody>\n",
       "    <tr>\n",
       "      <td>0</td>\n",
       "      <td>0.9486</td>\n",
       "      <td>0.9605</td>\n",
       "      <td>0.9666</td>\n",
       "      <td>0.9705</td>\n",
       "      <td>0.9718</td>\n",
       "      <td>0.9739</td>\n",
       "      <td>0.9719</td>\n",
       "      <td>0.9759</td>\n",
       "      <td>0.9749</td>\n",
       "      <td>0.9779</td>\n",
       "    </tr>\n",
       "  </tbody>\n",
       "</table>\n",
       "</div>"
      ],
      "text/plain": [
       "   Epoch:1  Epoch:2  Epoch:3  Epoch:4  Epoch:5  Epoch:6  Epoch:7  Epoch:8  \\\n",
       "0   0.9486   0.9605   0.9666   0.9705   0.9718   0.9739   0.9719   0.9759   \n",
       "\n",
       "   Epoch:9  Epoch:10  \n",
       "0   0.9749    0.9779  "
      ]
     },
     "execution_count": 4,
     "metadata": {},
     "output_type": "execute_result"
    }
   ],
   "source": [
    "class Network(nn.Module):\n",
    "    def __init__(self):\n",
    "        super().__init__()\n",
    "        self.fc1 = nn.Linear(784, 120)\n",
    "        self.fc2 = nn.Linear(120, 60)\n",
    "        self.fc3 = nn.Linear(60, 40)\n",
    "        self.fc4 = nn.Linear(40, 10)\n",
    "\n",
    "        # Dropout module with 0.2 drop probability\n",
    "        self.dropout = nn.Dropout(p=0.2)\n",
    "\n",
    "    def forward(self, x):\n",
    "        # make sure input tensor is flattened\n",
    "        x = x.view(x.shape[0], -1)\n",
    "\n",
    "        # Now with dropout\n",
    "        x = self.dropout(F.relu(self.fc1(x)))\n",
    "        x = self.dropout(F.relu(self.fc2(x)))\n",
    "        x = self.dropout(F.relu(self.fc3(x)))\n",
    "\n",
    "        # output so no dropout here\n",
    "        x = F.log_softmax(self.fc4(x), dim=1)\n",
    "\n",
    "        return x\n",
    "model=Network()       \n",
    "criterion=nn.NLLLoss()\n",
    "test_acc=[]\n",
    "results=train_nn(epochs=10,optimizer=optim.Adam(model.parameters(),lr=0.001))\n",
    "test_acc.append(results)\n",
    "epoch_list=['Epoch:'+str(i) for i in range(1,11)]\n",
    "print('Number of Parameters:',count_parameters(model))\n",
    "torch.save(model.state_dict(), 'NN_Adam_10E_lr0.001_120.60.40.pth')\n",
    "print('Model saved as NN_Adam_10E_lr0.001_120.60.40.pth')\n",
    "results_44=pd.DataFrame(test_acc,columns=epoch_list)\n",
    "results_44"
   ]
  },
  {
   "cell_type": "code",
   "execution_count": 4,
   "metadata": {},
   "outputs": [
    {
     "name": "stdout",
     "output_type": "stream",
     "text": [
      "Number of Parameters: 101480\n",
      "Model saved as NN_Adam_10E_lr0.001_120.50.20.pth\n"
     ]
    },
    {
     "data": {
      "text/html": [
       "<div>\n",
       "<style scoped>\n",
       "    .dataframe tbody tr th:only-of-type {\n",
       "        vertical-align: middle;\n",
       "    }\n",
       "\n",
       "    .dataframe tbody tr th {\n",
       "        vertical-align: top;\n",
       "    }\n",
       "\n",
       "    .dataframe thead th {\n",
       "        text-align: right;\n",
       "    }\n",
       "</style>\n",
       "<table border=\"1\" class=\"dataframe\">\n",
       "  <thead>\n",
       "    <tr style=\"text-align: right;\">\n",
       "      <th></th>\n",
       "      <th>Epoch:1</th>\n",
       "      <th>Epoch:2</th>\n",
       "      <th>Epoch:3</th>\n",
       "      <th>Epoch:4</th>\n",
       "      <th>Epoch:5</th>\n",
       "      <th>Epoch:6</th>\n",
       "      <th>Epoch:7</th>\n",
       "      <th>Epoch:8</th>\n",
       "      <th>Epoch:9</th>\n",
       "      <th>Epoch:10</th>\n",
       "    </tr>\n",
       "  </thead>\n",
       "  <tbody>\n",
       "    <tr>\n",
       "      <td>0</td>\n",
       "      <td>0.9411</td>\n",
       "      <td>0.9584</td>\n",
       "      <td>0.9655</td>\n",
       "      <td>0.9702</td>\n",
       "      <td>0.9719</td>\n",
       "      <td>0.9737</td>\n",
       "      <td>0.974</td>\n",
       "      <td>0.9766</td>\n",
       "      <td>0.9756</td>\n",
       "      <td>0.9761</td>\n",
       "    </tr>\n",
       "  </tbody>\n",
       "</table>\n",
       "</div>"
      ],
      "text/plain": [
       "   Epoch:1  Epoch:2  Epoch:3  Epoch:4  Epoch:5  Epoch:6  Epoch:7  Epoch:8  \\\n",
       "0   0.9411   0.9584   0.9655   0.9702   0.9719   0.9737    0.974   0.9766   \n",
       "\n",
       "   Epoch:9  Epoch:10  \n",
       "0   0.9756    0.9761  "
      ]
     },
     "execution_count": 4,
     "metadata": {},
     "output_type": "execute_result"
    }
   ],
   "source": [
    "class Network(nn.Module):\n",
    "    def __init__(self):\n",
    "        super().__init__()\n",
    "        self.fc1 = nn.Linear(784, 120)\n",
    "        self.fc2 = nn.Linear(120, 50)\n",
    "        self.fc3 = nn.Linear(50, 20)\n",
    "        self.fc4 = nn.Linear(20, 10)\n",
    "\n",
    "        # Dropout module with 0.2 drop probability\n",
    "        self.dropout = nn.Dropout(p=0.2)\n",
    "\n",
    "    def forward(self, x):\n",
    "        # make sure input tensor is flattened\n",
    "        x = x.view(x.shape[0], -1)\n",
    "\n",
    "        # Now with dropout\n",
    "        x = self.dropout(F.relu(self.fc1(x)))\n",
    "        x = self.dropout(F.relu(self.fc2(x)))\n",
    "        x = self.dropout(F.relu(self.fc3(x)))\n",
    "\n",
    "        # output so no dropout here\n",
    "        x = F.log_softmax(self.fc4(x), dim=1)\n",
    "\n",
    "        return x\n",
    "model=Network()       \n",
    "criterion=nn.NLLLoss()\n",
    "test_acc=[]\n",
    "results=train_nn(epochs=10,optimizer=optim.Adam(model.parameters(),lr=0.001))\n",
    "test_acc.append(results)\n",
    "epoch_list=['Epoch:'+str(i) for i in range(1,11)]\n",
    "print('Number of Parameters:',count_parameters(model))\n",
    "torch.save(model.state_dict(), 'NN_Adam_10E_lr0.001_120.50.20.pth')\n",
    "print('Model saved as NN_Adam_10E_lr0.001_120.50.20.pth')\n",
    "results_45=pd.DataFrame(test_acc,columns=epoch_list)\n",
    "results_45"
   ]
  },
  {
   "cell_type": "code",
   "execution_count": 4,
   "metadata": {},
   "outputs": [
    {
     "name": "stdout",
     "output_type": "stream",
     "text": [
      "Number of Parameters: 59210\n",
      "Model saved as NN_Adam_10E_lr0.001_64.64.64.pth\n"
     ]
    },
    {
     "data": {
      "text/html": [
       "<div>\n",
       "<style scoped>\n",
       "    .dataframe tbody tr th:only-of-type {\n",
       "        vertical-align: middle;\n",
       "    }\n",
       "\n",
       "    .dataframe tbody tr th {\n",
       "        vertical-align: top;\n",
       "    }\n",
       "\n",
       "    .dataframe thead th {\n",
       "        text-align: right;\n",
       "    }\n",
       "</style>\n",
       "<table border=\"1\" class=\"dataframe\">\n",
       "  <thead>\n",
       "    <tr style=\"text-align: right;\">\n",
       "      <th></th>\n",
       "      <th>Epoch:1</th>\n",
       "      <th>Epoch:2</th>\n",
       "      <th>Epoch:3</th>\n",
       "      <th>Epoch:4</th>\n",
       "      <th>Epoch:5</th>\n",
       "      <th>Epoch:6</th>\n",
       "      <th>Epoch:7</th>\n",
       "      <th>Epoch:8</th>\n",
       "      <th>Epoch:9</th>\n",
       "      <th>Epoch:10</th>\n",
       "    </tr>\n",
       "  </thead>\n",
       "  <tbody>\n",
       "    <tr>\n",
       "      <td>0</td>\n",
       "      <td>0.9411</td>\n",
       "      <td>0.9569</td>\n",
       "      <td>0.9637</td>\n",
       "      <td>0.9668</td>\n",
       "      <td>0.9677</td>\n",
       "      <td>0.9667</td>\n",
       "      <td>0.9713</td>\n",
       "      <td>0.971</td>\n",
       "      <td>0.9731</td>\n",
       "      <td>0.9712</td>\n",
       "    </tr>\n",
       "  </tbody>\n",
       "</table>\n",
       "</div>"
      ],
      "text/plain": [
       "   Epoch:1  Epoch:2  Epoch:3  Epoch:4  Epoch:5  Epoch:6  Epoch:7  Epoch:8  \\\n",
       "0   0.9411   0.9569   0.9637   0.9668   0.9677   0.9667   0.9713    0.971   \n",
       "\n",
       "   Epoch:9  Epoch:10  \n",
       "0   0.9731    0.9712  "
      ]
     },
     "execution_count": 4,
     "metadata": {},
     "output_type": "execute_result"
    }
   ],
   "source": [
    "class Network(nn.Module):\n",
    "    def __init__(self):\n",
    "        super().__init__()\n",
    "        self.fc1 = nn.Linear(784, 64)\n",
    "        self.fc2 = nn.Linear(64, 64)\n",
    "        self.fc3 = nn.Linear(64, 64)\n",
    "        self.fc4 = nn.Linear(64, 10)\n",
    "\n",
    "        # Dropout module with 0.2 drop probability\n",
    "        self.dropout = nn.Dropout(p=0.2)\n",
    "\n",
    "    def forward(self, x):\n",
    "        # make sure input tensor is flattened\n",
    "        x = x.view(x.shape[0], -1)\n",
    "\n",
    "        # Now with dropout\n",
    "        x = self.dropout(F.relu(self.fc1(x)))\n",
    "        x = self.dropout(F.relu(self.fc2(x)))\n",
    "        x = self.dropout(F.relu(self.fc3(x)))\n",
    "\n",
    "        # output so no dropout here\n",
    "        x = F.log_softmax(self.fc4(x), dim=1)\n",
    "\n",
    "        return x\n",
    "model=Network()       \n",
    "criterion=nn.NLLLoss()\n",
    "test_acc=[]\n",
    "results=train_nn(epochs=10,optimizer=optim.Adam(model.parameters(),lr=0.001))\n",
    "test_acc.append(results)\n",
    "epoch_list=['Epoch:'+str(i) for i in range(1,11)]\n",
    "print('Number of Parameters:',count_parameters(model))\n",
    "torch.save(model.state_dict(), 'NN_Adam_10E_lr0.001_64.64.64.pth')\n",
    "print('Model saved as NN_Adam_10E_lr0.001_64.64.64.pth')\n",
    "results_46=pd.DataFrame(test_acc,columns=epoch_list)\n",
    "results_46"
   ]
  },
  {
   "cell_type": "code",
   "execution_count": 4,
   "metadata": {},
   "outputs": [
    {
     "name": "stdout",
     "output_type": "stream",
     "text": [
      "Number of Parameters: 71220\n",
      "Model saved as NN_Adam_10E_lr0.001_80.60.50.pth\n"
     ]
    },
    {
     "data": {
      "text/html": [
       "<div>\n",
       "<style scoped>\n",
       "    .dataframe tbody tr th:only-of-type {\n",
       "        vertical-align: middle;\n",
       "    }\n",
       "\n",
       "    .dataframe tbody tr th {\n",
       "        vertical-align: top;\n",
       "    }\n",
       "\n",
       "    .dataframe thead th {\n",
       "        text-align: right;\n",
       "    }\n",
       "</style>\n",
       "<table border=\"1\" class=\"dataframe\">\n",
       "  <thead>\n",
       "    <tr style=\"text-align: right;\">\n",
       "      <th></th>\n",
       "      <th>Epoch:1</th>\n",
       "      <th>Epoch:2</th>\n",
       "      <th>Epoch:3</th>\n",
       "      <th>Epoch:4</th>\n",
       "      <th>Epoch:5</th>\n",
       "      <th>Epoch:6</th>\n",
       "      <th>Epoch:7</th>\n",
       "      <th>Epoch:8</th>\n",
       "      <th>Epoch:9</th>\n",
       "      <th>Epoch:10</th>\n",
       "    </tr>\n",
       "  </thead>\n",
       "  <tbody>\n",
       "    <tr>\n",
       "      <td>0</td>\n",
       "      <td>0.9352</td>\n",
       "      <td>0.9551</td>\n",
       "      <td>0.9655</td>\n",
       "      <td>0.9676</td>\n",
       "      <td>0.9693</td>\n",
       "      <td>0.9688</td>\n",
       "      <td>0.9689</td>\n",
       "      <td>0.973</td>\n",
       "      <td>0.9753</td>\n",
       "      <td>0.9753</td>\n",
       "    </tr>\n",
       "  </tbody>\n",
       "</table>\n",
       "</div>"
      ],
      "text/plain": [
       "   Epoch:1  Epoch:2  Epoch:3  Epoch:4  Epoch:5  Epoch:6  Epoch:7  Epoch:8  \\\n",
       "0   0.9352   0.9551   0.9655   0.9676   0.9693   0.9688   0.9689    0.973   \n",
       "\n",
       "   Epoch:9  Epoch:10  \n",
       "0   0.9753    0.9753  "
      ]
     },
     "execution_count": 4,
     "metadata": {},
     "output_type": "execute_result"
    }
   ],
   "source": [
    "class Network(nn.Module):\n",
    "    def __init__(self):\n",
    "        super().__init__()\n",
    "        self.fc1 = nn.Linear(784, 80)\n",
    "        self.fc2 = nn.Linear(80, 60)\n",
    "        self.fc3 = nn.Linear(60, 50)\n",
    "        self.fc4 = nn.Linear(50, 10)\n",
    "\n",
    "        # Dropout module with 0.2 drop probability\n",
    "        self.dropout = nn.Dropout(p=0.2)\n",
    "\n",
    "    def forward(self, x):\n",
    "        # make sure input tensor is flattened\n",
    "        x = x.view(x.shape[0], -1)\n",
    "\n",
    "        # Now with dropout\n",
    "        x = self.dropout(F.relu(self.fc1(x)))\n",
    "        x = self.dropout(F.relu(self.fc2(x)))\n",
    "        x = self.dropout(F.relu(self.fc3(x)))\n",
    "\n",
    "        # output so no dropout here\n",
    "        x = F.log_softmax(self.fc4(x), dim=1)\n",
    "\n",
    "        return x\n",
    "model=Network()       \n",
    "criterion=nn.NLLLoss()\n",
    "test_acc=[]\n",
    "results=train_nn(epochs=10,optimizer=optim.Adam(model.parameters(),lr=0.001))\n",
    "test_acc.append(results)\n",
    "epoch_list=['Epoch:'+str(i) for i in range(1,11)]\n",
    "print('Number of Parameters:',count_parameters(model))\n",
    "torch.save(model.state_dict(), 'NN_Adam_10E_lr0.001_80.60.50.pth')\n",
    "print('Model saved as NN_Adam_10E_lr0.001_80.60.50.pth')\n",
    "results_47=pd.DataFrame(test_acc,columns=epoch_list)\n",
    "results_47"
   ]
  },
  {
   "cell_type": "code",
   "execution_count": 4,
   "metadata": {},
   "outputs": [
    {
     "name": "stdout",
     "output_type": "stream",
     "text": [
      "Number of Parameters: 78965\n",
      "Model saved as NN_Adam_10E_lr0.001_90.55.50.pth\n"
     ]
    },
    {
     "data": {
      "text/html": [
       "<div>\n",
       "<style scoped>\n",
       "    .dataframe tbody tr th:only-of-type {\n",
       "        vertical-align: middle;\n",
       "    }\n",
       "\n",
       "    .dataframe tbody tr th {\n",
       "        vertical-align: top;\n",
       "    }\n",
       "\n",
       "    .dataframe thead th {\n",
       "        text-align: right;\n",
       "    }\n",
       "</style>\n",
       "<table border=\"1\" class=\"dataframe\">\n",
       "  <thead>\n",
       "    <tr style=\"text-align: right;\">\n",
       "      <th></th>\n",
       "      <th>Epoch:1</th>\n",
       "      <th>Epoch:2</th>\n",
       "      <th>Epoch:3</th>\n",
       "      <th>Epoch:4</th>\n",
       "      <th>Epoch:5</th>\n",
       "      <th>Epoch:6</th>\n",
       "      <th>Epoch:7</th>\n",
       "      <th>Epoch:8</th>\n",
       "      <th>Epoch:9</th>\n",
       "      <th>Epoch:10</th>\n",
       "    </tr>\n",
       "  </thead>\n",
       "  <tbody>\n",
       "    <tr>\n",
       "      <td>0</td>\n",
       "      <td>0.9473</td>\n",
       "      <td>0.9604</td>\n",
       "      <td>0.9674</td>\n",
       "      <td>0.9708</td>\n",
       "      <td>0.9721</td>\n",
       "      <td>0.9736</td>\n",
       "      <td>0.9735</td>\n",
       "      <td>0.9741</td>\n",
       "      <td>0.9747</td>\n",
       "      <td>0.9758</td>\n",
       "    </tr>\n",
       "  </tbody>\n",
       "</table>\n",
       "</div>"
      ],
      "text/plain": [
       "   Epoch:1  Epoch:2  Epoch:3  Epoch:4  Epoch:5  Epoch:6  Epoch:7  Epoch:8  \\\n",
       "0   0.9473   0.9604   0.9674   0.9708   0.9721   0.9736   0.9735   0.9741   \n",
       "\n",
       "   Epoch:9  Epoch:10  \n",
       "0   0.9747    0.9758  "
      ]
     },
     "execution_count": 4,
     "metadata": {},
     "output_type": "execute_result"
    }
   ],
   "source": [
    "class Network(nn.Module):\n",
    "    def __init__(self):\n",
    "        super().__init__()\n",
    "        self.fc1 = nn.Linear(784, 90)\n",
    "        self.fc2 = nn.Linear(90, 55)\n",
    "        self.fc3 = nn.Linear(55, 50)\n",
    "        self.fc4 = nn.Linear(50, 10)\n",
    "\n",
    "        # Dropout module with 0.2 drop probability\n",
    "        self.dropout = nn.Dropout(p=0.2)\n",
    "\n",
    "    def forward(self, x):\n",
    "        # make sure input tensor is flattened\n",
    "        x = x.view(x.shape[0], -1)\n",
    "\n",
    "        # Now with dropout\n",
    "        x = self.dropout(F.relu(self.fc1(x)))\n",
    "        x = self.dropout(F.relu(self.fc2(x)))\n",
    "        x = self.dropout(F.relu(self.fc3(x)))\n",
    "\n",
    "        # output so no dropout here\n",
    "        x = F.log_softmax(self.fc4(x), dim=1)\n",
    "\n",
    "        return x\n",
    "model=Network()       \n",
    "criterion=nn.NLLLoss()\n",
    "test_acc=[]\n",
    "results=train_nn(epochs=10,optimizer=optim.Adam(model.parameters(),lr=0.001))\n",
    "test_acc.append(results)\n",
    "epoch_list=['Epoch:'+str(i) for i in range(1,11)]\n",
    "print('Number of Parameters:',count_parameters(model))\n",
    "torch.save(model.state_dict(), 'NN_Adam_10E_lr0.001_90.55.50.pth')\n",
    "print('Model saved as NN_Adam_10E_lr0.001_90.55.50.pth')\n",
    "results_48=pd.DataFrame(test_acc,columns=epoch_list)\n",
    "results_48"
   ]
  },
  {
   "cell_type": "code",
   "execution_count": 4,
   "metadata": {},
   "outputs": [
    {
     "name": "stdout",
     "output_type": "stream",
     "text": [
      "Number of Parameters: 83895\n",
      "Model saved as NN_Adam_10E_lr0.001_95.60.50.pth\n"
     ]
    },
    {
     "data": {
      "text/html": [
       "<div>\n",
       "<style scoped>\n",
       "    .dataframe tbody tr th:only-of-type {\n",
       "        vertical-align: middle;\n",
       "    }\n",
       "\n",
       "    .dataframe tbody tr th {\n",
       "        vertical-align: top;\n",
       "    }\n",
       "\n",
       "    .dataframe thead th {\n",
       "        text-align: right;\n",
       "    }\n",
       "</style>\n",
       "<table border=\"1\" class=\"dataframe\">\n",
       "  <thead>\n",
       "    <tr style=\"text-align: right;\">\n",
       "      <th></th>\n",
       "      <th>Epoch:1</th>\n",
       "      <th>Epoch:2</th>\n",
       "      <th>Epoch:3</th>\n",
       "      <th>Epoch:4</th>\n",
       "      <th>Epoch:5</th>\n",
       "      <th>Epoch:6</th>\n",
       "      <th>Epoch:7</th>\n",
       "      <th>Epoch:8</th>\n",
       "      <th>Epoch:9</th>\n",
       "      <th>Epoch:10</th>\n",
       "    </tr>\n",
       "  </thead>\n",
       "  <tbody>\n",
       "    <tr>\n",
       "      <td>0</td>\n",
       "      <td>0.9454</td>\n",
       "      <td>0.9612</td>\n",
       "      <td>0.9689</td>\n",
       "      <td>0.9698</td>\n",
       "      <td>0.9717</td>\n",
       "      <td>0.9736</td>\n",
       "      <td>0.973</td>\n",
       "      <td>0.9753</td>\n",
       "      <td>0.9749</td>\n",
       "      <td>0.9768</td>\n",
       "    </tr>\n",
       "  </tbody>\n",
       "</table>\n",
       "</div>"
      ],
      "text/plain": [
       "   Epoch:1  Epoch:2  Epoch:3  Epoch:4  Epoch:5  Epoch:6  Epoch:7  Epoch:8  \\\n",
       "0   0.9454   0.9612   0.9689   0.9698   0.9717   0.9736    0.973   0.9753   \n",
       "\n",
       "   Epoch:9  Epoch:10  \n",
       "0   0.9749    0.9768  "
      ]
     },
     "execution_count": 4,
     "metadata": {},
     "output_type": "execute_result"
    }
   ],
   "source": [
    "class Network(nn.Module):\n",
    "    def __init__(self):\n",
    "        super().__init__()\n",
    "        self.fc1 = nn.Linear(784, 95)\n",
    "        self.fc2 = nn.Linear(95, 60)\n",
    "        self.fc3 = nn.Linear(60, 50)\n",
    "        self.fc4 = nn.Linear(50, 10)\n",
    "\n",
    "        # Dropout module with 0.2 drop probability\n",
    "        self.dropout = nn.Dropout(p=0.2)\n",
    "\n",
    "    def forward(self, x):\n",
    "        # make sure input tensor is flattened\n",
    "        x = x.view(x.shape[0], -1)\n",
    "\n",
    "        # Now with dropout\n",
    "        x = self.dropout(F.relu(self.fc1(x)))\n",
    "        x = self.dropout(F.relu(self.fc2(x)))\n",
    "        x = self.dropout(F.relu(self.fc3(x)))\n",
    "\n",
    "        # output so no dropout here\n",
    "        x = F.log_softmax(self.fc4(x), dim=1)\n",
    "\n",
    "        return x\n",
    "model=Network()       \n",
    "criterion=nn.NLLLoss()\n",
    "test_acc=[]\n",
    "results=train_nn(epochs=10,optimizer=optim.Adam(model.parameters(),lr=0.001))\n",
    "test_acc.append(results)\n",
    "epoch_list=['Epoch:'+str(i) for i in range(1,11)]\n",
    "print('Number of Parameters:',count_parameters(model))\n",
    "torch.save(model.state_dict(), 'NN_Adam_10E_lr0.001_95.60.50.pth')\n",
    "print('Model saved as NN_Adam_10E_lr0.001_95.60.50.pth')\n",
    "results_49=pd.DataFrame(test_acc,columns=epoch_list)\n",
    "results_49"
   ]
  },
  {
   "cell_type": "markdown",
   "metadata": {},
   "source": [
    "**Keeping all else constant,we change model architecture increasing parameters while maintaining a good accuracy.**"
   ]
  },
  {
   "cell_type": "code",
   "execution_count": 5,
   "metadata": {},
   "outputs": [
    {
     "name": "stdout",
     "output_type": "stream",
     "text": [
      "Number of Parameters: 567434\n",
      "Model saved as NN_Adam_10E_lr0.001_512.256.128.pth\n"
     ]
    },
    {
     "data": {
      "text/html": [
       "<div>\n",
       "<style scoped>\n",
       "    .dataframe tbody tr th:only-of-type {\n",
       "        vertical-align: middle;\n",
       "    }\n",
       "\n",
       "    .dataframe tbody tr th {\n",
       "        vertical-align: top;\n",
       "    }\n",
       "\n",
       "    .dataframe thead th {\n",
       "        text-align: right;\n",
       "    }\n",
       "</style>\n",
       "<table border=\"1\" class=\"dataframe\">\n",
       "  <thead>\n",
       "    <tr style=\"text-align: right;\">\n",
       "      <th></th>\n",
       "      <th>Epoch:1</th>\n",
       "      <th>Epoch:2</th>\n",
       "      <th>Epoch:3</th>\n",
       "      <th>Epoch:4</th>\n",
       "      <th>Epoch:5</th>\n",
       "      <th>Epoch:6</th>\n",
       "      <th>Epoch:7</th>\n",
       "      <th>Epoch:8</th>\n",
       "      <th>Epoch:9</th>\n",
       "      <th>Epoch:10</th>\n",
       "    </tr>\n",
       "  </thead>\n",
       "  <tbody>\n",
       "    <tr>\n",
       "      <td>0</td>\n",
       "      <td>0.9643</td>\n",
       "      <td>0.973</td>\n",
       "      <td>0.9755</td>\n",
       "      <td>0.978</td>\n",
       "      <td>0.9768</td>\n",
       "      <td>0.9815</td>\n",
       "      <td>0.9804</td>\n",
       "      <td>0.982</td>\n",
       "      <td>0.9828</td>\n",
       "      <td>0.9823</td>\n",
       "    </tr>\n",
       "  </tbody>\n",
       "</table>\n",
       "</div>"
      ],
      "text/plain": [
       "   Epoch:1  Epoch:2  Epoch:3  Epoch:4  Epoch:5  Epoch:6  Epoch:7  Epoch:8  \\\n",
       "0   0.9643    0.973   0.9755    0.978   0.9768   0.9815   0.9804    0.982   \n",
       "\n",
       "   Epoch:9  Epoch:10  \n",
       "0   0.9828    0.9823  "
      ]
     },
     "execution_count": 5,
     "metadata": {},
     "output_type": "execute_result"
    }
   ],
   "source": [
    "class Network(nn.Module):\n",
    "    def __init__(self):\n",
    "        super().__init__()\n",
    "        self.fc1 = nn.Linear(784,512)\n",
    "        self.fc2 = nn.Linear(512,256)\n",
    "        self.fc3 = nn.Linear(256,128)\n",
    "        self.fc4 = nn.Linear(128,10)\n",
    "\n",
    "        # Dropout module with 0.2 drop probability\n",
    "        self.dropout = nn.Dropout(p=0.2)\n",
    "\n",
    "    def forward(self, x):\n",
    "        # make sure input tensor is flattened\n",
    "        x = x.view(x.shape[0], -1)\n",
    "\n",
    "        # Now with dropout\n",
    "        x = self.dropout(F.relu(self.fc1(x)))\n",
    "        x = self.dropout(F.relu(self.fc2(x)))\n",
    "        x = self.dropout(F.relu(self.fc3(x)))\n",
    "\n",
    "        # output so no dropout here\n",
    "        x = F.log_softmax(self.fc4(x), dim=1)\n",
    "\n",
    "        return x\n",
    "model=Network()       \n",
    "criterion=nn.NLLLoss()\n",
    "test_acc=[]\n",
    "results=train_nn(epochs=10,optimizer=optim.Adam(model.parameters(),lr=0.001))\n",
    "test_acc.append(results)\n",
    "epoch_list=['Epoch:'+str(i) for i in range(1,11)]\n",
    "print('Number of Parameters:',count_parameters(model))\n",
    "torch.save(model.state_dict(), 'NN_Adam_10E_lr0.001_512.256.128.pth')\n",
    "print('Model saved as NN_Adam_10E_lr0.001_512.256.128.pth')\n",
    "results_50=pd.DataFrame(test_acc,columns=epoch_list)\n",
    "results_50"
   ]
  },
  {
   "cell_type": "code",
   "execution_count": 5,
   "metadata": {},
   "outputs": [
    {
     "name": "stdout",
     "output_type": "stream",
     "text": [
      "Number of Parameters: 1462538\n",
      "Model saved as NN_Adam_10E_lr0.001_1024.512.256.pth\n"
     ]
    },
    {
     "data": {
      "text/html": [
       "<div>\n",
       "<style scoped>\n",
       "    .dataframe tbody tr th:only-of-type {\n",
       "        vertical-align: middle;\n",
       "    }\n",
       "\n",
       "    .dataframe tbody tr th {\n",
       "        vertical-align: top;\n",
       "    }\n",
       "\n",
       "    .dataframe thead th {\n",
       "        text-align: right;\n",
       "    }\n",
       "</style>\n",
       "<table border=\"1\" class=\"dataframe\">\n",
       "  <thead>\n",
       "    <tr style=\"text-align: right;\">\n",
       "      <th></th>\n",
       "      <th>Epoch:1</th>\n",
       "      <th>Epoch:2</th>\n",
       "      <th>Epoch:3</th>\n",
       "      <th>Epoch:4</th>\n",
       "      <th>Epoch:5</th>\n",
       "      <th>Epoch:6</th>\n",
       "      <th>Epoch:7</th>\n",
       "      <th>Epoch:8</th>\n",
       "      <th>Epoch:9</th>\n",
       "      <th>Epoch:10</th>\n",
       "    </tr>\n",
       "  </thead>\n",
       "  <tbody>\n",
       "    <tr>\n",
       "      <td>0</td>\n",
       "      <td>0.9643</td>\n",
       "      <td>0.9689</td>\n",
       "      <td>0.9774</td>\n",
       "      <td>0.9787</td>\n",
       "      <td>0.9758</td>\n",
       "      <td>0.9774</td>\n",
       "      <td>0.9803</td>\n",
       "      <td>0.9784</td>\n",
       "      <td>0.9819</td>\n",
       "      <td>0.9813</td>\n",
       "    </tr>\n",
       "  </tbody>\n",
       "</table>\n",
       "</div>"
      ],
      "text/plain": [
       "   Epoch:1  Epoch:2  Epoch:3  Epoch:4  Epoch:5  Epoch:6  Epoch:7  Epoch:8  \\\n",
       "0   0.9643   0.9689   0.9774   0.9787   0.9758   0.9774   0.9803   0.9784   \n",
       "\n",
       "   Epoch:9  Epoch:10  \n",
       "0   0.9819    0.9813  "
      ]
     },
     "execution_count": 5,
     "metadata": {},
     "output_type": "execute_result"
    }
   ],
   "source": [
    "class Network(nn.Module):\n",
    "    def __init__(self):\n",
    "        super().__init__()\n",
    "        self.fc1 = nn.Linear(784,1024)\n",
    "        self.fc2 = nn.Linear(1024,512)\n",
    "        self.fc3 = nn.Linear(512,256)\n",
    "        self.fc4 = nn.Linear(256,10)\n",
    "\n",
    "        # Dropout module with 0.2 drop probability\n",
    "        self.dropout = nn.Dropout(p=0.2)\n",
    "\n",
    "    def forward(self, x):\n",
    "        # make sure input tensor is flattened\n",
    "        x = x.view(x.shape[0], -1)\n",
    "\n",
    "        # Now with dropout\n",
    "        x = self.dropout(F.relu(self.fc1(x)))\n",
    "        x = self.dropout(F.relu(self.fc2(x)))\n",
    "        x = self.dropout(F.relu(self.fc3(x)))\n",
    "\n",
    "        # output so no dropout here\n",
    "        x = F.log_softmax(self.fc4(x), dim=1)\n",
    "\n",
    "        return x\n",
    "model=Network()       \n",
    "criterion=nn.NLLLoss()\n",
    "test_acc=[]\n",
    "results=train_nn(epochs=10,optimizer=optim.Adam(model.parameters(),lr=0.001))\n",
    "test_acc.append(results)\n",
    "epoch_list=['Epoch:'+str(i) for i in range(1,11)]\n",
    "print('Number of Parameters:',count_parameters(model))\n",
    "torch.save(model.state_dict(), 'NN_Adam_10E_lr0.001_1024.512.256.pth')\n",
    "print('Model saved as NN_Adam_10E_lr0.001_1024.512.256.pth')\n",
    "results_51=pd.DataFrame(test_acc,columns=epoch_list)\n",
    "results_51"
   ]
  },
  {
   "cell_type": "code",
   "execution_count": 5,
   "metadata": {},
   "outputs": [
    {
     "name": "stdout",
     "output_type": "stream",
     "text": [
      "Number of Parameters: 4235786\n",
      "Model saved as NN_Adam_10E_lr0.001_2048.1024.512.pth\n"
     ]
    },
    {
     "data": {
      "text/html": [
       "<div>\n",
       "<style scoped>\n",
       "    .dataframe tbody tr th:only-of-type {\n",
       "        vertical-align: middle;\n",
       "    }\n",
       "\n",
       "    .dataframe tbody tr th {\n",
       "        vertical-align: top;\n",
       "    }\n",
       "\n",
       "    .dataframe thead th {\n",
       "        text-align: right;\n",
       "    }\n",
       "</style>\n",
       "<table border=\"1\" class=\"dataframe\">\n",
       "  <thead>\n",
       "    <tr style=\"text-align: right;\">\n",
       "      <th></th>\n",
       "      <th>Epoch:1</th>\n",
       "      <th>Epoch:2</th>\n",
       "      <th>Epoch:3</th>\n",
       "      <th>Epoch:4</th>\n",
       "      <th>Epoch:5</th>\n",
       "      <th>Epoch:6</th>\n",
       "      <th>Epoch:7</th>\n",
       "      <th>Epoch:8</th>\n",
       "      <th>Epoch:9</th>\n",
       "      <th>Epoch:10</th>\n",
       "    </tr>\n",
       "  </thead>\n",
       "  <tbody>\n",
       "    <tr>\n",
       "      <td>0</td>\n",
       "      <td>0.9581</td>\n",
       "      <td>0.9742</td>\n",
       "      <td>0.9776</td>\n",
       "      <td>0.9781</td>\n",
       "      <td>0.977</td>\n",
       "      <td>0.9789</td>\n",
       "      <td>0.9805</td>\n",
       "      <td>0.9805</td>\n",
       "      <td>0.9811</td>\n",
       "      <td>0.9802</td>\n",
       "    </tr>\n",
       "  </tbody>\n",
       "</table>\n",
       "</div>"
      ],
      "text/plain": [
       "   Epoch:1  Epoch:2  Epoch:3  Epoch:4  Epoch:5  Epoch:6  Epoch:7  Epoch:8  \\\n",
       "0   0.9581   0.9742   0.9776   0.9781    0.977   0.9789   0.9805   0.9805   \n",
       "\n",
       "   Epoch:9  Epoch:10  \n",
       "0   0.9811    0.9802  "
      ]
     },
     "execution_count": 5,
     "metadata": {},
     "output_type": "execute_result"
    }
   ],
   "source": [
    "class Network(nn.Module):\n",
    "    def __init__(self):\n",
    "        super().__init__()\n",
    "        self.fc1 = nn.Linear(784,2048)\n",
    "        self.fc2 = nn.Linear(2048,1024)\n",
    "        self.fc3 = nn.Linear(1024,512)\n",
    "        self.fc4 = nn.Linear(512,10)\n",
    "\n",
    "        # Dropout module with 0.2 drop probability\n",
    "        self.dropout = nn.Dropout(p=0.2)\n",
    "\n",
    "    def forward(self, x):\n",
    "        # make sure input tensor is flattened\n",
    "        x = x.view(x.shape[0], -1)\n",
    "\n",
    "        # Now with dropout\n",
    "        x = self.dropout(F.relu(self.fc1(x)))\n",
    "        x = self.dropout(F.relu(self.fc2(x)))\n",
    "        x = self.dropout(F.relu(self.fc3(x)))\n",
    "\n",
    "        # output so no dropout here\n",
    "        x = F.log_softmax(self.fc4(x), dim=1)\n",
    "\n",
    "        return x\n",
    "model=Network()       \n",
    "criterion=nn.NLLLoss()\n",
    "test_acc=[]\n",
    "results=train_nn(epochs=10,optimizer=optim.Adam(model.parameters(),lr=0.001))\n",
    "test_acc.append(results)\n",
    "epoch_list=['Epoch:'+str(i) for i in range(1,11)]\n",
    "print('Number of Parameters:',count_parameters(model))\n",
    "torch.save(model.state_dict(), 'NN_Adam_10E_lr0.001_2048.1024.512.pth')\n",
    "print('Model saved as NN_Adam_10E_lr0.001_2048.1024.512.pth')\n",
    "results_52=pd.DataFrame(test_acc,columns=epoch_list)\n",
    "results_52"
   ]
  },
  {
   "cell_type": "code",
   "execution_count": 5,
   "metadata": {},
   "outputs": [
    {
     "name": "stdout",
     "output_type": "stream",
     "text": [
      "Number of Parameters: 415310\n",
      "Model saved as NN_Adam_10E_lr0.001_400.200.100.pth\n"
     ]
    },
    {
     "data": {
      "text/html": [
       "<div>\n",
       "<style scoped>\n",
       "    .dataframe tbody tr th:only-of-type {\n",
       "        vertical-align: middle;\n",
       "    }\n",
       "\n",
       "    .dataframe tbody tr th {\n",
       "        vertical-align: top;\n",
       "    }\n",
       "\n",
       "    .dataframe thead th {\n",
       "        text-align: right;\n",
       "    }\n",
       "</style>\n",
       "<table border=\"1\" class=\"dataframe\">\n",
       "  <thead>\n",
       "    <tr style=\"text-align: right;\">\n",
       "      <th></th>\n",
       "      <th>Epoch:1</th>\n",
       "      <th>Epoch:2</th>\n",
       "      <th>Epoch:3</th>\n",
       "      <th>Epoch:4</th>\n",
       "      <th>Epoch:5</th>\n",
       "      <th>Epoch:6</th>\n",
       "      <th>Epoch:7</th>\n",
       "      <th>Epoch:8</th>\n",
       "      <th>Epoch:9</th>\n",
       "      <th>Epoch:10</th>\n",
       "    </tr>\n",
       "  </thead>\n",
       "  <tbody>\n",
       "    <tr>\n",
       "      <td>0</td>\n",
       "      <td>0.9589</td>\n",
       "      <td>0.9706</td>\n",
       "      <td>0.9766</td>\n",
       "      <td>0.9734</td>\n",
       "      <td>0.98</td>\n",
       "      <td>0.9795</td>\n",
       "      <td>0.9811</td>\n",
       "      <td>0.9793</td>\n",
       "      <td>0.981</td>\n",
       "      <td>0.9813</td>\n",
       "    </tr>\n",
       "  </tbody>\n",
       "</table>\n",
       "</div>"
      ],
      "text/plain": [
       "   Epoch:1  Epoch:2  Epoch:3  Epoch:4  Epoch:5  Epoch:6  Epoch:7  Epoch:8  \\\n",
       "0   0.9589   0.9706   0.9766   0.9734     0.98   0.9795   0.9811   0.9793   \n",
       "\n",
       "   Epoch:9  Epoch:10  \n",
       "0    0.981    0.9813  "
      ]
     },
     "execution_count": 5,
     "metadata": {},
     "output_type": "execute_result"
    }
   ],
   "source": [
    "class Network(nn.Module):\n",
    "    def __init__(self):\n",
    "        super().__init__()\n",
    "        self.fc1 = nn.Linear(784, 400)\n",
    "        self.fc2 = nn.Linear(400, 200)\n",
    "        self.fc3 = nn.Linear(200, 100)\n",
    "        self.fc4 = nn.Linear(100, 10)\n",
    "\n",
    "        # Dropout module with 0.2 drop probability\n",
    "        self.dropout = nn.Dropout(p=0.2)\n",
    "\n",
    "    def forward(self, x):\n",
    "        # make sure input tensor is flattened\n",
    "        x = x.view(x.shape[0], -1)\n",
    "\n",
    "        # Now with dropout\n",
    "        x = self.dropout(F.relu(self.fc1(x)))\n",
    "        x = self.dropout(F.relu(self.fc2(x)))\n",
    "        x = self.dropout(F.relu(self.fc3(x)))\n",
    "\n",
    "        # output so no dropout here\n",
    "        x = F.log_softmax(self.fc4(x), dim=1)\n",
    "\n",
    "        return x\n",
    "model=Network()       \n",
    "criterion=nn.NLLLoss()\n",
    "test_acc=[]\n",
    "results=train_nn(epochs=10,optimizer=optim.Adam(model.parameters(),lr=0.001))\n",
    "test_acc.append(results)\n",
    "epoch_list=['Epoch:'+str(i) for i in range(1,11)]\n",
    "print('Number of Parameters:',count_parameters(model))\n",
    "torch.save(model.state_dict(), 'NN_Adam_10E_lr0.001_400.200.100.pth')\n",
    "print('Model saved as NN_Adam_10E_lr0.001_400.200.100.pth')\n",
    "results_53=pd.DataFrame(test_acc,columns=epoch_list)\n",
    "results_53"
   ]
  },
  {
   "cell_type": "code",
   "execution_count": 5,
   "metadata": {},
   "outputs": [
    {
     "name": "stdout",
     "output_type": "stream",
     "text": [
      "Number of Parameters: 296760\n",
      "Model saved as NN_Adam_10E_lr0.001_300.150.100.pth\n"
     ]
    },
    {
     "data": {
      "text/html": [
       "<div>\n",
       "<style scoped>\n",
       "    .dataframe tbody tr th:only-of-type {\n",
       "        vertical-align: middle;\n",
       "    }\n",
       "\n",
       "    .dataframe tbody tr th {\n",
       "        vertical-align: top;\n",
       "    }\n",
       "\n",
       "    .dataframe thead th {\n",
       "        text-align: right;\n",
       "    }\n",
       "</style>\n",
       "<table border=\"1\" class=\"dataframe\">\n",
       "  <thead>\n",
       "    <tr style=\"text-align: right;\">\n",
       "      <th></th>\n",
       "      <th>Epoch:1</th>\n",
       "      <th>Epoch:2</th>\n",
       "      <th>Epoch:3</th>\n",
       "      <th>Epoch:4</th>\n",
       "      <th>Epoch:5</th>\n",
       "      <th>Epoch:6</th>\n",
       "      <th>Epoch:7</th>\n",
       "      <th>Epoch:8</th>\n",
       "      <th>Epoch:9</th>\n",
       "      <th>Epoch:10</th>\n",
       "    </tr>\n",
       "  </thead>\n",
       "  <tbody>\n",
       "    <tr>\n",
       "      <td>0</td>\n",
       "      <td>0.9606</td>\n",
       "      <td>0.9685</td>\n",
       "      <td>0.9747</td>\n",
       "      <td>0.9768</td>\n",
       "      <td>0.9781</td>\n",
       "      <td>0.9784</td>\n",
       "      <td>0.9823</td>\n",
       "      <td>0.9821</td>\n",
       "      <td>0.9806</td>\n",
       "      <td>0.9818</td>\n",
       "    </tr>\n",
       "  </tbody>\n",
       "</table>\n",
       "</div>"
      ],
      "text/plain": [
       "   Epoch:1  Epoch:2  Epoch:3  Epoch:4  Epoch:5  Epoch:6  Epoch:7  Epoch:8  \\\n",
       "0   0.9606   0.9685   0.9747   0.9768   0.9781   0.9784   0.9823   0.9821   \n",
       "\n",
       "   Epoch:9  Epoch:10  \n",
       "0   0.9806    0.9818  "
      ]
     },
     "execution_count": 5,
     "metadata": {},
     "output_type": "execute_result"
    }
   ],
   "source": [
    "class Network(nn.Module):\n",
    "    def __init__(self):\n",
    "        super().__init__()\n",
    "        self.fc1 = nn.Linear(784, 300)\n",
    "        self.fc2 = nn.Linear(300, 150)\n",
    "        self.fc3 = nn.Linear(150, 100)\n",
    "        self.fc4 = nn.Linear(100, 10)\n",
    "\n",
    "        # Dropout module with 0.2 drop probability\n",
    "        self.dropout = nn.Dropout(p=0.2)\n",
    "\n",
    "    def forward(self, x):\n",
    "        # make sure input tensor is flattened\n",
    "        x = x.view(x.shape[0], -1)\n",
    "\n",
    "        # Now with dropout\n",
    "        x = self.dropout(F.relu(self.fc1(x)))\n",
    "        x = self.dropout(F.relu(self.fc2(x)))\n",
    "        x = self.dropout(F.relu(self.fc3(x)))\n",
    "\n",
    "        # output so no dropout here\n",
    "        x = F.log_softmax(self.fc4(x), dim=1)\n",
    "\n",
    "        return x\n",
    "model=Network()       \n",
    "criterion=nn.NLLLoss()\n",
    "test_acc=[]\n",
    "results=train_nn(epochs=10,optimizer=optim.Adam(model.parameters(),lr=0.001))\n",
    "test_acc.append(results)\n",
    "epoch_list=['Epoch:'+str(i) for i in range(1,11)]\n",
    "print('Number of Parameters:',count_parameters(model))\n",
    "torch.save(model.state_dict(), 'NN_Adam_10E_lr0.001_300.150.100.pth')\n",
    "print('Model saved as NN_Adam_10E_lr0.001_300.150.100.pth')\n",
    "results_54=pd.DataFrame(test_acc,columns=epoch_list)\n",
    "results_54"
   ]
  },
  {
   "cell_type": "code",
   "execution_count": 5,
   "metadata": {},
   "outputs": [
    {
     "name": "stdout",
     "output_type": "stream",
     "text": [
      "Number of Parameters: 333588\n",
      "Model saved as NN_Adam_10E_lr0.001_350.128.100.pth\n"
     ]
    },
    {
     "data": {
      "text/html": [
       "<div>\n",
       "<style scoped>\n",
       "    .dataframe tbody tr th:only-of-type {\n",
       "        vertical-align: middle;\n",
       "    }\n",
       "\n",
       "    .dataframe tbody tr th {\n",
       "        vertical-align: top;\n",
       "    }\n",
       "\n",
       "    .dataframe thead th {\n",
       "        text-align: right;\n",
       "    }\n",
       "</style>\n",
       "<table border=\"1\" class=\"dataframe\">\n",
       "  <thead>\n",
       "    <tr style=\"text-align: right;\">\n",
       "      <th></th>\n",
       "      <th>Epoch:1</th>\n",
       "      <th>Epoch:2</th>\n",
       "      <th>Epoch:3</th>\n",
       "      <th>Epoch:4</th>\n",
       "      <th>Epoch:5</th>\n",
       "      <th>Epoch:6</th>\n",
       "      <th>Epoch:7</th>\n",
       "      <th>Epoch:8</th>\n",
       "      <th>Epoch:9</th>\n",
       "      <th>Epoch:10</th>\n",
       "    </tr>\n",
       "  </thead>\n",
       "  <tbody>\n",
       "    <tr>\n",
       "      <td>0</td>\n",
       "      <td>0.9599</td>\n",
       "      <td>0.9727</td>\n",
       "      <td>0.9749</td>\n",
       "      <td>0.9752</td>\n",
       "      <td>0.98</td>\n",
       "      <td>0.9808</td>\n",
       "      <td>0.9828</td>\n",
       "      <td>0.9825</td>\n",
       "      <td>0.9793</td>\n",
       "      <td>0.9794</td>\n",
       "    </tr>\n",
       "  </tbody>\n",
       "</table>\n",
       "</div>"
      ],
      "text/plain": [
       "   Epoch:1  Epoch:2  Epoch:3  Epoch:4  Epoch:5  Epoch:6  Epoch:7  Epoch:8  \\\n",
       "0   0.9599   0.9727   0.9749   0.9752     0.98   0.9808   0.9828   0.9825   \n",
       "\n",
       "   Epoch:9  Epoch:10  \n",
       "0   0.9793    0.9794  "
      ]
     },
     "execution_count": 5,
     "metadata": {},
     "output_type": "execute_result"
    }
   ],
   "source": [
    "class Network(nn.Module):\n",
    "    def __init__(self):\n",
    "        super().__init__()\n",
    "        self.fc1 = nn.Linear(784, 350)\n",
    "        self.fc2 = nn.Linear(350, 128)\n",
    "        self.fc3 = nn.Linear(128, 100)\n",
    "        self.fc4 = nn.Linear(100, 10)\n",
    "\n",
    "        # Dropout module with 0.2 drop probability\n",
    "        self.dropout = nn.Dropout(p=0.2)\n",
    "\n",
    "    def forward(self, x):\n",
    "        # make sure input tensor is flattened\n",
    "        x = x.view(x.shape[0], -1)\n",
    "\n",
    "        # Now with dropout\n",
    "        x = self.dropout(F.relu(self.fc1(x)))\n",
    "        x = self.dropout(F.relu(self.fc2(x)))\n",
    "        x = self.dropout(F.relu(self.fc3(x)))\n",
    "\n",
    "        # output so no dropout here\n",
    "        x = F.log_softmax(self.fc4(x), dim=1)\n",
    "\n",
    "        return x\n",
    "model=Network()       \n",
    "criterion=nn.NLLLoss()\n",
    "test_acc=[]\n",
    "results=train_nn(epochs=10,optimizer=optim.Adam(model.parameters(),lr=0.001))\n",
    "test_acc.append(results)\n",
    "epoch_list=['Epoch:'+str(i) for i in range(1,11)]\n",
    "print('Number of Parameters:',count_parameters(model))\n",
    "torch.save(model.state_dict(), 'NN_Adam_10E_lr0.001_350.128.100.pth')\n",
    "print('Model saved as NN_Adam_10E_lr0.001_350.128.100.pth')\n",
    "results_55=pd.DataFrame(test_acc,columns=epoch_list)\n",
    "results_55"
   ]
  },
  {
   "cell_type": "code",
   "execution_count": 5,
   "metadata": {},
   "outputs": [
    {
     "name": "stdout",
     "output_type": "stream",
     "text": [
      "Number of Parameters: 337480\n",
      "Model saved as NN_Adam_10E_lr0.001_350.128.128.pth\n"
     ]
    },
    {
     "data": {
      "text/html": [
       "<div>\n",
       "<style scoped>\n",
       "    .dataframe tbody tr th:only-of-type {\n",
       "        vertical-align: middle;\n",
       "    }\n",
       "\n",
       "    .dataframe tbody tr th {\n",
       "        vertical-align: top;\n",
       "    }\n",
       "\n",
       "    .dataframe thead th {\n",
       "        text-align: right;\n",
       "    }\n",
       "</style>\n",
       "<table border=\"1\" class=\"dataframe\">\n",
       "  <thead>\n",
       "    <tr style=\"text-align: right;\">\n",
       "      <th></th>\n",
       "      <th>Epoch:1</th>\n",
       "      <th>Epoch:2</th>\n",
       "      <th>Epoch:3</th>\n",
       "      <th>Epoch:4</th>\n",
       "      <th>Epoch:5</th>\n",
       "      <th>Epoch:6</th>\n",
       "      <th>Epoch:7</th>\n",
       "      <th>Epoch:8</th>\n",
       "      <th>Epoch:9</th>\n",
       "      <th>Epoch:10</th>\n",
       "    </tr>\n",
       "  </thead>\n",
       "  <tbody>\n",
       "    <tr>\n",
       "      <td>0</td>\n",
       "      <td>0.963</td>\n",
       "      <td>0.9749</td>\n",
       "      <td>0.9734</td>\n",
       "      <td>0.9753</td>\n",
       "      <td>0.9759</td>\n",
       "      <td>0.9811</td>\n",
       "      <td>0.9787</td>\n",
       "      <td>0.9795</td>\n",
       "      <td>0.9802</td>\n",
       "      <td>0.9806</td>\n",
       "    </tr>\n",
       "  </tbody>\n",
       "</table>\n",
       "</div>"
      ],
      "text/plain": [
       "   Epoch:1  Epoch:2  Epoch:3  Epoch:4  Epoch:5  Epoch:6  Epoch:7  Epoch:8  \\\n",
       "0    0.963   0.9749   0.9734   0.9753   0.9759   0.9811   0.9787   0.9795   \n",
       "\n",
       "   Epoch:9  Epoch:10  \n",
       "0   0.9802    0.9806  "
      ]
     },
     "execution_count": 5,
     "metadata": {},
     "output_type": "execute_result"
    }
   ],
   "source": [
    "class Network(nn.Module):\n",
    "    def __init__(self):\n",
    "        super().__init__()\n",
    "        self.fc1 = nn.Linear(784, 350)\n",
    "        self.fc2 = nn.Linear(350, 128)\n",
    "        self.fc3 = nn.Linear(128, 128)\n",
    "        self.fc4 = nn.Linear(128, 10)\n",
    "\n",
    "        # Dropout module with 0.2 drop probability\n",
    "        self.dropout = nn.Dropout(p=0.2)\n",
    "\n",
    "    def forward(self, x):\n",
    "        # make sure input tensor is flattened\n",
    "        x = x.view(x.shape[0], -1)\n",
    "\n",
    "        # Now with dropout\n",
    "        x = self.dropout(F.relu(self.fc1(x)))\n",
    "        x = self.dropout(F.relu(self.fc2(x)))\n",
    "        x = self.dropout(F.relu(self.fc3(x)))\n",
    "\n",
    "        # output so no dropout here\n",
    "        x = F.log_softmax(self.fc4(x), dim=1)\n",
    "\n",
    "        return x\n",
    "model=Network()       \n",
    "criterion=nn.NLLLoss()\n",
    "test_acc=[]\n",
    "results=train_nn(epochs=10,optimizer=optim.Adam(model.parameters(),lr=0.001))\n",
    "test_acc.append(results)\n",
    "epoch_list=['Epoch:'+str(i) for i in range(1,11)]\n",
    "print('Number of Parameters:',count_parameters(model))\n",
    "torch.save(model.state_dict(), 'NN_Adam_10E_lr0.001_350.128.128.pth')\n",
    "print('Model saved as NN_Adam_10E_lr0.001_350.128.128.pth')\n",
    "results_56=pd.DataFrame(test_acc,columns=epoch_list)\n",
    "results_56"
   ]
  },
  {
   "cell_type": "markdown",
   "metadata": {},
   "source": [
    "**We observe that validation accuracy is fluctuating across epochs which means that there may be overfitting. So we tune number of epochs.**"
   ]
  },
  {
   "cell_type": "markdown",
   "metadata": {},
   "source": [
    "## Tuning Epochs"
   ]
  },
  {
   "cell_type": "markdown",
   "metadata": {},
   "source": [
    "#### We'll use Adam with learning rate 0.001 and default starting network architecture to optimize epochs"
   ]
  },
  {
   "cell_type": "code",
   "execution_count": 5,
   "metadata": {},
   "outputs": [],
   "source": [
    "def train_nn_epochs_tune(epochs,optimizer):\n",
    "    test_accuracy=[]\n",
    "    train_losses,test_losses=[],[]\n",
    "\n",
    "    for e in range(epochs):\n",
    "        running_loss=0\n",
    "        for images,labels in trainloader:\n",
    "            optimizer.zero_grad()\n",
    "            log_ps=model(images)\n",
    "            loss=criterion(log_ps,labels) \n",
    "            loss.backward()\n",
    "            optimizer.step()\n",
    "            running_loss += loss.item() * images.shape[0]\n",
    "\n",
    "        else:\n",
    "            test_loss=0\n",
    "            accuracy=0\n",
    "\n",
    "            with torch.no_grad():\n",
    "                \n",
    "                model.eval()\n",
    "                for images,labels in testloader:\n",
    "                    log_ps=model(images)\n",
    "                    test_loss+=criterion(log_ps,labels) *images.shape[0]\n",
    "                    ps=torch.exp(log_ps)\n",
    "                    top_p,top_class=ps.topk(1,dim=1)\n",
    "                    equals=top_class==labels.view(*top_class.shape)\n",
    "                    accuracy+=torch.sum(equals).item()\n",
    "            model.train()\n",
    "            \n",
    "            train_losses.append(running_loss/len(trainloader.dataset))              \n",
    "            test_losses.append(test_loss.item()/len(testloader.dataset))\n",
    "            test_accuracy.append(accuracy/len(testloader.dataset))\n",
    "            \n",
    "            print(\"Epoch: {}/{}.. \".format(e+1, epochs),\n",
    "                  \"Training Loss: {:.3f}.. \".format(running_loss/len(trainloader.dataset)),\n",
    "                  \"Test Loss: {:.3f}.. \".format(test_loss/len(testloader.dataset)),\n",
    "                  \"Test Accuracy: {:.3f}\".format(accuracy/len(testloader.dataset)))"
   ]
  },
  {
   "cell_type": "code",
   "execution_count": 6,
   "metadata": {},
   "outputs": [
    {
     "name": "stdout",
     "output_type": "stream",
     "text": [
      "Epoch: 1/10..  Training Loss: 0.372..  Test Loss: 0.139..  Test Accuracy: 0.956\n",
      "Epoch: 2/10..  Training Loss: 0.150..  Test Loss: 0.097..  Test Accuracy: 0.971\n",
      "Epoch: 3/10..  Training Loss: 0.110..  Test Loss: 0.087..  Test Accuracy: 0.974\n",
      "Epoch: 4/10..  Training Loss: 0.090..  Test Loss: 0.074..  Test Accuracy: 0.977\n",
      "Epoch: 5/10..  Training Loss: 0.076..  Test Loss: 0.071..  Test Accuracy: 0.979\n",
      "Epoch: 6/10..  Training Loss: 0.067..  Test Loss: 0.074..  Test Accuracy: 0.977\n",
      "Epoch: 7/10..  Training Loss: 0.060..  Test Loss: 0.073..  Test Accuracy: 0.979\n",
      "Epoch: 8/10..  Training Loss: 0.058..  Test Loss: 0.073..  Test Accuracy: 0.981\n",
      "Epoch: 9/10..  Training Loss: 0.050..  Test Loss: 0.083..  Test Accuracy: 0.979\n",
      "Epoch: 10/10..  Training Loss: 0.048..  Test Loss: 0.065..  Test Accuracy: 0.982\n",
      "Number of Parameters: 242762\n",
      "Model saved as NN_Adam_10E_lr0.001.pth\n"
     ]
    }
   ],
   "source": [
    "train_nn_epochs_tune(epochs=10,optimizer=optim.Adam(model.parameters(),lr=0.001))\n",
    "epoch_list=['Epoch:'+str(i) for i in range(1,11)]\n",
    "print('Number of Parameters:',count_parameters(model))\n",
    "torch.save(model.state_dict(), 'NN_Adam_10E_lr0.001.pth')\n",
    "print('Model saved as NN_Adam_10E_lr0.001.pth')"
   ]
  },
  {
   "cell_type": "markdown",
   "metadata": {},
   "source": [
    "**We see the test loss increased at 6th epoch and test accuracy dropped,hence we take 5 epochs as the optimum. Now accuracy at 5th epoch is 0.979 which will be taken as model accuracy**"
   ]
  },
  {
   "cell_type": "markdown",
   "metadata": {},
   "source": [
    "Similarly for models with different architectures ,we optimize epochs and take the accuracy for the optimum epoch as model accuracy.We use it find models with maximum accuracy for increased parameters and decreased parameters."
   ]
  },
  {
   "cell_type": "markdown",
   "metadata": {},
   "source": [
    "## RESULTS-"
   ]
  },
  {
   "cell_type": "markdown",
   "metadata": {},
   "source": [
    "**Note-**Kindly check excel file for how I reached this conclusion by comparative analysis."
   ]
  },
  {
   "cell_type": "markdown",
   "metadata": {},
   "source": [
    "**Maximum accuracy for maximum parameters:**  \n",
    "\n",
    "**Model Saved As-**NN_Adam_10E_lr0.001_350.128.100    \n",
    "**Number of parameters-**333588  \n",
    "**Batch Size-**64  \n",
    "**Data Normalized-**No  \n",
    "**Data Scaled-**No  \n",
    "**Optimizer Used-**Adam with 0.001 learning rate  \n",
    "**Optimum Epoch-**7  \n",
    "**Validation Accuracy at optimum epoch-**98.28%\n"
   ]
  },
  {
   "attachments": {},
   "cell_type": "markdown",
   "metadata": {},
   "source": [
    "**Maximum accuracy for minimum parameters:**  \n",
    "\n",
    "**Model Saved As-**NN_Adam_10E_lr0.001_128.32.32  \n",
    "**Number of parameters-**105994  \n",
    "**Batch Size-**64  \n",
    "**Data Normalized-**No  \n",
    "**Data Scaled-**No  \n",
    "**Optimizer Used-**Adam with 0.001 learning rate  \n",
    "**Optimum Epoch-**9  \n",
    "**Validation Accuracy at optimum epoch-**97.94%\n"
   ]
  }
 ],
 "metadata": {
  "kernelspec": {
   "display_name": "Python 3",
   "language": "python",
   "name": "python3"
  },
  "language_info": {
   "codemirror_mode": {
    "name": "ipython",
    "version": 3
   },
   "file_extension": ".py",
   "mimetype": "text/x-python",
   "name": "python",
   "nbconvert_exporter": "python",
   "pygments_lexer": "ipython3",
   "version": "3.7.4"
  }
 },
 "nbformat": 4,
 "nbformat_minor": 2
}
